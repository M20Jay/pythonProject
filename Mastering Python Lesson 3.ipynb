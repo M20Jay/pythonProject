{
 "cells": [
  {
   "cell_type": "markdown",
   "id": "240fc875",
   "metadata": {},
   "source": [
    "#  Control Flow (If-Elif-Else)"
   ]
  },
  {
   "cell_type": "code",
   "execution_count": 1,
   "id": "3afc3330",
   "metadata": {},
   "outputs": [
    {
     "name": "stdout",
     "output_type": "stream",
     "text": [
      "13\n",
      "10\n",
      "13\n",
      "10\n"
     ]
    }
   ],
   "source": [
    "a =int(input())\n",
    "b=int(input())\n",
    "if a>b:\n",
    "    print(a)\n",
    "if b>2:\n",
    "    print(b)\n"
   ]
  },
  {
   "cell_type": "code",
   "execution_count": 2,
   "id": "4ae2b6a1",
   "metadata": {},
   "outputs": [
    {
     "name": "stdout",
     "output_type": "stream",
     "text": [
      "5\n",
      "3\n",
      "5\n"
     ]
    }
   ],
   "source": [
    "a= int(input())\n",
    "b= int(input())\n",
    "if a>b:\n",
    "    print(a)\n",
    "else:\n",
    "    print(b)"
   ]
  },
  {
   "cell_type": "code",
   "execution_count": 7,
   "id": "c99d34f9",
   "metadata": {},
   "outputs": [
    {
     "name": "stdout",
     "output_type": "stream",
     "text": [
      "B\n",
      "Not in if\n"
     ]
    }
   ],
   "source": [
    "a=1\n",
    "b=5\n",
    "if a==b:\n",
    "    print(\"equal\")\n",
    "elif a>b:\n",
    "    print(\"A\")\n",
    "else:\n",
    "    print(\"B\")\n",
    "print(\"Not in if\")\n"
   ]
  },
  {
   "cell_type": "code",
   "execution_count": 13,
   "id": "5dbc59a9",
   "metadata": {},
   "outputs": [
    {
     "name": "stdout",
     "output_type": "stream",
     "text": [
      "Enter marks :79\n",
      "B Grade\n"
     ]
    }
   ],
   "source": [
    "a = int(input(\"Enter marks :\"))\n",
    "if a >= 85:\n",
    "    print(\"A Grade\")\n",
    "elif  (a < 85) and (a >= 80):\n",
    "    print(\"A- Grade\")\n",
    "elif (a < 80) and (a >= 75):\n",
    "    print(\"B Grade\")\n",
    "elif (a < 75) and (a >= 70):\n",
    "    print(\"B- Grade\")\n",
    "else:\n",
    "    print(\"Below the average\")"
   ]
  },
  {
   "cell_type": "code",
   "execution_count": 19,
   "id": "58ce2535",
   "metadata": {},
   "outputs": [
    {
     "name": "stdout",
     "output_type": "stream",
     "text": [
      ">10\n"
     ]
    }
   ],
   "source": [
    "a = 12\n",
    "if a > 10:\n",
    "    print(\">10\")\n",
    "elif not (a>10):\n",
    "    print(\"else part\")"
   ]
  },
  {
   "cell_type": "markdown",
   "id": "057df333",
   "metadata": {},
   "source": [
    "# Nested If"
   ]
  },
  {
   "cell_type": "code",
   "execution_count": null,
   "id": "4dd2e082",
   "metadata": {},
   "outputs": [],
   "source": [
    "a = int(input(\"Enter a number:\"))\n",
    "if a >10 :\n",
    "    print (\"print larger than 10\")\n",
    "    if a > 20 :\n",
    "        print (\"print greater than 20\")\n",
    "    else:\n",
    "        print (\"<=20\")\n",
    "print(\"outside all if\")"
   ]
  },
  {
   "cell_type": "markdown",
   "id": "974a8d8f",
   "metadata": {},
   "source": [
    "* Remember the power of identation always"
   ]
  },
  {
   "cell_type": "code",
   "execution_count": 23,
   "id": "0a1288ad",
   "metadata": {},
   "outputs": [],
   "source": [
    "#comment -Single line comment"
   ]
  },
  {
   "cell_type": "code",
   "execution_count": null,
   "id": "28d2dac1",
   "metadata": {},
   "outputs": [],
   "source": [
    "#comment - multiline comment\n",
    "\"\"\"User will enter a floating point number let say 238.915. Your task is to find out the\n",
    "integer portion before the point( in this case 238) and then \n",
    "check if the interger portion is even number or odd\"\"\"\n",
    "x = float(input(\"Enter a real number:\"))"
   ]
  },
  {
   "cell_type": "code",
   "execution_count": null,
   "id": "b5cc9980",
   "metadata": {},
   "outputs": [],
   "source": []
  },
  {
   "cell_type": "code",
   "execution_count": null,
   "id": "17a87f11",
   "metadata": {},
   "outputs": [],
   "source": [
    "#comment - multiline comment\n",
    "\"\"\"User will enter a floating point number let say 238.915. Your task is to find out the\n",
    "integer portion before the point( in this case 238) and then \n",
    "check if the interger portion is even number or odd\"\"\"\n",
    "\n",
    "x = float(input(\"Enter a real number:\"))"
   ]
  },
  {
   "cell_type": "code",
   "execution_count": null,
   "id": "05110312",
   "metadata": {},
   "outputs": [],
   "source": []
  }
 ],
 "metadata": {
  "kernelspec": {
   "display_name": "Python 3 (ipykernel)",
   "language": "python",
   "name": "python3"
  },
  "language_info": {
   "codemirror_mode": {
    "name": "ipython",
    "version": 3
   },
   "file_extension": ".py",
   "mimetype": "text/x-python",
   "name": "python",
   "nbconvert_exporter": "python",
   "pygments_lexer": "ipython3",
   "version": "3.9.13"
  }
 },
 "nbformat": 4,
 "nbformat_minor": 5
}
