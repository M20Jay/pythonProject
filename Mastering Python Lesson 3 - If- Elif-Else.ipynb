{
 "cells": [
  {
   "cell_type": "code",
   "execution_count": 27,
   "id": "19964a09",
   "metadata": {},
   "outputs": [
    {
     "name": "stdout",
     "output_type": "stream",
     "text": [
      "Enter a real number:22.1\n",
      "Even\n"
     ]
    }
   ],
   "source": [
    "#comment - multiline comment\n",
    "\"\"\"User will enter a floating point number let say 238.915. Your task is to find out the\n",
    "integer portion before the point( in this case 238) and then \n",
    "check if the interger portion is even number or odd\"\"\"\n",
    "\n",
    "x = float(input(\"Enter a real number:\"))\n",
    "y= round(x)\n",
    "if x>0:\n",
    "    if y > x:\n",
    "            intportion = y-1\n",
    "    else:\n",
    "            intportion = y\n",
    "else:\n",
    "    if y<x:\n",
    "        intportion = y+1\n",
    "    else:\n",
    "        intportion = y\n",
    "if intportion%2==0:\n",
    "    print(\"Even\")\n",
    "else:\n",
    "    print(\"Odd\")\n",
    "    \n",
    "\n",
    "        "
   ]
  },
  {
   "cell_type": "code",
   "execution_count": null,
   "id": "d5a1d48a",
   "metadata": {},
   "outputs": [],
   "source": []
  }
 ],
 "metadata": {
  "kernelspec": {
   "display_name": "Python 3 (ipykernel)",
   "language": "python",
   "name": "python3"
  },
  "language_info": {
   "codemirror_mode": {
    "name": "ipython",
    "version": 3
   },
   "file_extension": ".py",
   "mimetype": "text/x-python",
   "name": "python",
   "nbconvert_exporter": "python",
   "pygments_lexer": "ipython3",
   "version": "3.9.13"
  }
 },
 "nbformat": 4,
 "nbformat_minor": 5
}
