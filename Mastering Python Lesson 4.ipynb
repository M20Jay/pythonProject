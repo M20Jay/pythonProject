{
 "cells": [
  {
   "cell_type": "markdown",
   "id": "eb0992c0",
   "metadata": {},
   "source": [
    "# Data Structures"
   ]
  },
  {
   "cell_type": "code",
   "execution_count": 59,
   "id": "4a23c43d",
   "metadata": {},
   "outputs": [],
   "source": [
    "L =[1,2,4.9,\"Football\", \"Hello\"]\n",
    "T =(1,2,3,4,5,\"Water\")\n",
    "S={1,3,4,4.9,\"England\"}\n",
    "D = {\"Water\":34, \"Sugar\":34, \"Juice\":45}"
   ]
  },
  {
   "cell_type": "code",
   "execution_count": 60,
   "id": "c30494cc",
   "metadata": {},
   "outputs": [
    {
     "name": "stdout",
     "output_type": "stream",
     "text": [
      "<class 'list'>\n",
      "<class 'tuple'>\n",
      "<class 'set'>\n",
      "<class 'dict'>\n"
     ]
    }
   ],
   "source": [
    "print(type(L))\n",
    "print(type(T))\n",
    "print(type(S))\n",
    "print(type(D))"
   ]
  },
  {
   "cell_type": "code",
   "execution_count": 61,
   "id": "8cadc981",
   "metadata": {},
   "outputs": [
    {
     "data": {
      "text/plain": [
       "2"
      ]
     },
     "execution_count": 61,
     "metadata": {},
     "output_type": "execute_result"
    }
   ],
   "source": [
    "L[1]"
   ]
  },
  {
   "cell_type": "code",
   "execution_count": 62,
   "id": "56b13714",
   "metadata": {},
   "outputs": [
    {
     "data": {
      "text/plain": [
       "3"
      ]
     },
     "execution_count": 62,
     "metadata": {},
     "output_type": "execute_result"
    }
   ],
   "source": [
    "T[2]"
   ]
  },
  {
   "cell_type": "code",
   "execution_count": 63,
   "id": "3a5ffedb",
   "metadata": {},
   "outputs": [
    {
     "data": {
      "text/plain": [
       "True"
      ]
     },
     "execution_count": 63,
     "metadata": {},
     "output_type": "execute_result"
    }
   ],
   "source": [
    "3 in S"
   ]
  },
  {
   "cell_type": "code",
   "execution_count": 64,
   "id": "dbe694f1",
   "metadata": {},
   "outputs": [
    {
     "data": {
      "text/plain": [
       "34"
      ]
     },
     "execution_count": 64,
     "metadata": {},
     "output_type": "execute_result"
    }
   ],
   "source": [
    "D[\"Water\"]"
   ]
  },
  {
   "cell_type": "code",
   "execution_count": 65,
   "id": "1553183d",
   "metadata": {},
   "outputs": [
    {
     "name": "stdout",
     "output_type": "stream",
     "text": [
      "5\n"
     ]
    }
   ],
   "source": [
    "print(T[4])"
   ]
  },
  {
   "cell_type": "code",
   "execution_count": 66,
   "id": "0730b284",
   "metadata": {},
   "outputs": [
    {
     "data": {
      "text/plain": [
       "{1, 3, 4, 4.9, 'England'}"
      ]
     },
     "execution_count": 66,
     "metadata": {},
     "output_type": "execute_result"
    }
   ],
   "source": [
    "S"
   ]
  },
  {
   "cell_type": "code",
   "execution_count": 67,
   "id": "43164e1d",
   "metadata": {},
   "outputs": [
    {
     "data": {
      "text/plain": [
       "(1, 2, 3, 4, 5, 'Water')"
      ]
     },
     "execution_count": 67,
     "metadata": {},
     "output_type": "execute_result"
    }
   ],
   "source": [
    "T"
   ]
  },
  {
   "cell_type": "code",
   "execution_count": 68,
   "id": "5c7f77c2",
   "metadata": {},
   "outputs": [
    {
     "data": {
      "text/plain": [
       "{'Water': 34, 'Sugar': 34, 'Juice': 45}"
      ]
     },
     "execution_count": 68,
     "metadata": {},
     "output_type": "execute_result"
    }
   ],
   "source": [
    "D"
   ]
  },
  {
   "cell_type": "code",
   "execution_count": 69,
   "id": "f16960e8",
   "metadata": {},
   "outputs": [
    {
     "data": {
      "text/plain": [
       "[1, 2, 4.9, 'Football', 'Hello']"
      ]
     },
     "execution_count": 69,
     "metadata": {},
     "output_type": "execute_result"
    }
   ],
   "source": [
    "L"
   ]
  },
  {
   "cell_type": "code",
   "execution_count": 70,
   "id": "d0f167bb",
   "metadata": {},
   "outputs": [
    {
     "data": {
      "text/plain": [
       "[1, 2, 4.9]"
      ]
     },
     "execution_count": 70,
     "metadata": {},
     "output_type": "execute_result"
    }
   ],
   "source": [
    "L[0:3]"
   ]
  },
  {
   "cell_type": "code",
   "execution_count": 71,
   "id": "aefeea2e",
   "metadata": {},
   "outputs": [
    {
     "data": {
      "text/plain": [
       "4.9"
      ]
     },
     "execution_count": 71,
     "metadata": {},
     "output_type": "execute_result"
    }
   ],
   "source": [
    "L[-3]"
   ]
  },
  {
   "cell_type": "code",
   "execution_count": 72,
   "id": "60826d2a",
   "metadata": {},
   "outputs": [
    {
     "data": {
      "text/plain": [
       "(1, 2, 3)"
      ]
     },
     "execution_count": 72,
     "metadata": {},
     "output_type": "execute_result"
    }
   ],
   "source": [
    "T[0:3]"
   ]
  },
  {
   "cell_type": "code",
   "execution_count": 73,
   "id": "08727474",
   "metadata": {},
   "outputs": [
    {
     "data": {
      "text/plain": [
       "3"
      ]
     },
     "execution_count": 73,
     "metadata": {},
     "output_type": "execute_result"
    }
   ],
   "source": [
    "T[-4]"
   ]
  },
  {
   "cell_type": "code",
   "execution_count": 74,
   "id": "1d6808d6",
   "metadata": {},
   "outputs": [],
   "source": [
    "L=L+['game']"
   ]
  },
  {
   "cell_type": "code",
   "execution_count": 75,
   "id": "6e35a73c",
   "metadata": {},
   "outputs": [
    {
     "data": {
      "text/plain": [
       "[1, 2, 4.9, 'Football', 'Hello', 'game']"
      ]
     },
     "execution_count": 75,
     "metadata": {},
     "output_type": "execute_result"
    }
   ],
   "source": [
    "L"
   ]
  },
  {
   "cell_type": "code",
   "execution_count": 76,
   "id": "c76f4d47",
   "metadata": {},
   "outputs": [
    {
     "data": {
      "text/plain": [
       "{1, 3, 4, 4.9, 'England'}"
      ]
     },
     "execution_count": 76,
     "metadata": {},
     "output_type": "execute_result"
    }
   ],
   "source": [
    "S"
   ]
  },
  {
   "cell_type": "code",
   "execution_count": 78,
   "id": "97b1047a",
   "metadata": {},
   "outputs": [],
   "source": [
    "L=L + [4,5,\"Run\"]"
   ]
  },
  {
   "cell_type": "code",
   "execution_count": 79,
   "id": "3a298298",
   "metadata": {},
   "outputs": [
    {
     "data": {
      "text/plain": [
       "[1, 2, 4.9, 'Football', 'Hello', 'game', 4, 5, 'Run']"
      ]
     },
     "execution_count": 79,
     "metadata": {},
     "output_type": "execute_result"
    }
   ],
   "source": [
    "L"
   ]
  },
  {
   "cell_type": "code",
   "execution_count": 80,
   "id": "cef2ce9d",
   "metadata": {},
   "outputs": [],
   "source": [
    "L.append('Health')"
   ]
  },
  {
   "cell_type": "code",
   "execution_count": 81,
   "id": "86103cd7",
   "metadata": {},
   "outputs": [
    {
     "data": {
      "text/plain": [
       "[1, 2, 4.9, 'Football', 'Hello', 'game', 4, 5, 'Run', 'Health']"
      ]
     },
     "execution_count": 81,
     "metadata": {},
     "output_type": "execute_result"
    }
   ],
   "source": [
    "L"
   ]
  },
  {
   "cell_type": "code",
   "execution_count": 82,
   "id": "09e236bb",
   "metadata": {},
   "outputs": [],
   "source": [
    "T2= ('A','B','C')"
   ]
  },
  {
   "cell_type": "code",
   "execution_count": 83,
   "id": "fbb6770e",
   "metadata": {},
   "outputs": [],
   "source": [
    "T3=T+T2"
   ]
  },
  {
   "cell_type": "code",
   "execution_count": 84,
   "id": "1e95395e",
   "metadata": {},
   "outputs": [
    {
     "data": {
      "text/plain": [
       "(1, 2, 3, 4, 5, 'Water', 'A', 'B', 'C')"
      ]
     },
     "execution_count": 84,
     "metadata": {},
     "output_type": "execute_result"
    }
   ],
   "source": [
    "T3"
   ]
  },
  {
   "cell_type": "code",
   "execution_count": 85,
   "id": "d3ce116a",
   "metadata": {},
   "outputs": [],
   "source": [
    "S.add(56)"
   ]
  },
  {
   "cell_type": "code",
   "execution_count": 86,
   "id": "4fa09967",
   "metadata": {},
   "outputs": [
    {
     "data": {
      "text/plain": [
       "{1, 3, 4, 4.9, 56, 'England'}"
      ]
     },
     "execution_count": 86,
     "metadata": {},
     "output_type": "execute_result"
    }
   ],
   "source": [
    "S"
   ]
  },
  {
   "cell_type": "code",
   "execution_count": 88,
   "id": "f308321c",
   "metadata": {},
   "outputs": [],
   "source": [
    "S.add(\"Malaysia\")"
   ]
  },
  {
   "cell_type": "code",
   "execution_count": 89,
   "id": "892edea0",
   "metadata": {},
   "outputs": [
    {
     "data": {
      "text/plain": [
       "{1, 3, 4, 4.9, 56, 'England', 'Malaysia'}"
      ]
     },
     "execution_count": 89,
     "metadata": {},
     "output_type": "execute_result"
    }
   ],
   "source": [
    "S"
   ]
  },
  {
   "cell_type": "code",
   "execution_count": 90,
   "id": "62aba11f",
   "metadata": {},
   "outputs": [],
   "source": [
    "S.update({23,45,67,98})"
   ]
  },
  {
   "cell_type": "code",
   "execution_count": 91,
   "id": "37145e93",
   "metadata": {},
   "outputs": [
    {
     "data": {
      "text/plain": [
       "{1, 23, 3, 4, 4.9, 45, 56, 67, 98, 'England', 'Malaysia'}"
      ]
     },
     "execution_count": 91,
     "metadata": {},
     "output_type": "execute_result"
    }
   ],
   "source": [
    "S"
   ]
  },
  {
   "cell_type": "code",
   "execution_count": 92,
   "id": "1756cf34",
   "metadata": {},
   "outputs": [
    {
     "data": {
      "text/plain": [
       "{'Water': 34, 'Sugar': 34, 'Juice': 45}"
      ]
     },
     "execution_count": 92,
     "metadata": {},
     "output_type": "execute_result"
    }
   ],
   "source": [
    "D"
   ]
  },
  {
   "cell_type": "code",
   "execution_count": 93,
   "id": "505919a8",
   "metadata": {},
   "outputs": [],
   "source": [
    "D['New Key']= 'New Value'"
   ]
  },
  {
   "cell_type": "code",
   "execution_count": 94,
   "id": "5d8d4db4",
   "metadata": {},
   "outputs": [
    {
     "data": {
      "text/plain": [
       "{'Water': 34, 'Sugar': 34, 'Juice': 45, 'New Key': 'New Value'}"
      ]
     },
     "execution_count": 94,
     "metadata": {},
     "output_type": "execute_result"
    }
   ],
   "source": [
    "D"
   ]
  },
  {
   "cell_type": "code",
   "execution_count": 96,
   "id": "435ccbd5",
   "metadata": {},
   "outputs": [],
   "source": [
    "D2 ={'Y':\"yy\", 'Z':10}"
   ]
  },
  {
   "cell_type": "code",
   "execution_count": 97,
   "id": "e28543cd",
   "metadata": {},
   "outputs": [
    {
     "ename": "TypeError",
     "evalue": "unsupported operand type(s) for +: 'dict' and 'dict'",
     "output_type": "error",
     "traceback": [
      "\u001b[1;31m---------------------------------------------------------------------------\u001b[0m",
      "\u001b[1;31mTypeError\u001b[0m                                 Traceback (most recent call last)",
      "\u001b[1;32m~\\AppData\\Local\\Temp\\ipykernel_9644\\1538600223.py\u001b[0m in \u001b[0;36m<module>\u001b[1;34m\u001b[0m\n\u001b[1;32m----> 1\u001b[1;33m \u001b[0mD3\u001b[0m \u001b[1;33m=\u001b[0m\u001b[0mD\u001b[0m\u001b[1;33m+\u001b[0m\u001b[0mD2\u001b[0m\u001b[1;33m\u001b[0m\u001b[1;33m\u001b[0m\u001b[0m\n\u001b[0m",
      "\u001b[1;31mTypeError\u001b[0m: unsupported operand type(s) for +: 'dict' and 'dict'"
     ]
    }
   ],
   "source": [
    "D3 =D+D2"
   ]
  },
  {
   "cell_type": "code",
   "execution_count": 98,
   "id": "d474e816",
   "metadata": {},
   "outputs": [
    {
     "data": {
      "text/plain": [
       "[1, 2, 4.9, 'Football', 'Hello', 'game', 4, 5, 'Run', 'Health']"
      ]
     },
     "execution_count": 98,
     "metadata": {},
     "output_type": "execute_result"
    }
   ],
   "source": [
    "L"
   ]
  },
  {
   "cell_type": "code",
   "execution_count": 99,
   "id": "e8856832",
   "metadata": {},
   "outputs": [],
   "source": [
    "del L[1]"
   ]
  },
  {
   "cell_type": "code",
   "execution_count": 100,
   "id": "493b22d7",
   "metadata": {},
   "outputs": [
    {
     "data": {
      "text/plain": [
       "[1, 4.9, 'Football', 'Hello', 'game', 4, 5, 'Run', 'Health']"
      ]
     },
     "execution_count": 100,
     "metadata": {},
     "output_type": "execute_result"
    }
   ],
   "source": [
    "L"
   ]
  },
  {
   "cell_type": "code",
   "execution_count": 101,
   "id": "fbc61791",
   "metadata": {},
   "outputs": [
    {
     "data": {
      "text/plain": [
       "{1, 23, 3, 4, 4.9, 45, 56, 67, 98, 'England', 'Malaysia'}"
      ]
     },
     "execution_count": 101,
     "metadata": {},
     "output_type": "execute_result"
    }
   ],
   "source": [
    "S"
   ]
  },
  {
   "cell_type": "code",
   "execution_count": 102,
   "id": "ee81fbf1",
   "metadata": {},
   "outputs": [],
   "source": [
    "S.remove(\"England\")"
   ]
  },
  {
   "cell_type": "code",
   "execution_count": 103,
   "id": "f058bdb2",
   "metadata": {},
   "outputs": [
    {
     "data": {
      "text/plain": [
       "{1, 23, 3, 4, 4.9, 45, 56, 67, 98, 'Malaysia'}"
      ]
     },
     "execution_count": 103,
     "metadata": {},
     "output_type": "execute_result"
    }
   ],
   "source": [
    "S"
   ]
  },
  {
   "cell_type": "code",
   "execution_count": 104,
   "id": "d5eff2fc",
   "metadata": {},
   "outputs": [
    {
     "data": {
      "text/plain": [
       "{'Water': 34, 'Sugar': 34, 'Juice': 45, 'New Key': 'New Value'}"
      ]
     },
     "execution_count": 104,
     "metadata": {},
     "output_type": "execute_result"
    }
   ],
   "source": [
    "D"
   ]
  },
  {
   "cell_type": "code",
   "execution_count": 105,
   "id": "8ed3facb",
   "metadata": {},
   "outputs": [],
   "source": [
    "del D[\"Sugar\"]"
   ]
  },
  {
   "cell_type": "code",
   "execution_count": 106,
   "id": "3ca61b74",
   "metadata": {},
   "outputs": [
    {
     "data": {
      "text/plain": [
       "{'Water': 34, 'Juice': 45, 'New Key': 'New Value'}"
      ]
     },
     "execution_count": 106,
     "metadata": {},
     "output_type": "execute_result"
    }
   ],
   "source": [
    "D"
   ]
  },
  {
   "cell_type": "code",
   "execution_count": 107,
   "id": "790e80d4",
   "metadata": {},
   "outputs": [
    {
     "data": {
      "text/plain": [
       "[1, 4.9, 'Football', 'Hello', 'game', 4, 5, 'Run', 'Health']"
      ]
     },
     "execution_count": 107,
     "metadata": {},
     "output_type": "execute_result"
    }
   ],
   "source": [
    "L"
   ]
  },
  {
   "cell_type": "code",
   "execution_count": 110,
   "id": "f8c02ba9",
   "metadata": {},
   "outputs": [],
   "source": [
    "L2=L"
   ]
  },
  {
   "cell_type": "code",
   "execution_count": 111,
   "id": "afb32da6",
   "metadata": {},
   "outputs": [
    {
     "data": {
      "text/plain": [
       "[1, 4.9, 'Football', 'Hello', 'game', 4, 5, 'Run', 'Health']"
      ]
     },
     "execution_count": 111,
     "metadata": {},
     "output_type": "execute_result"
    }
   ],
   "source": [
    "L2"
   ]
  },
  {
   "cell_type": "code",
   "execution_count": 112,
   "id": "f59b12ba",
   "metadata": {},
   "outputs": [],
   "source": [
    "L2[3]=9.999"
   ]
  },
  {
   "cell_type": "code",
   "execution_count": 113,
   "id": "a2570fc2",
   "metadata": {},
   "outputs": [
    {
     "data": {
      "text/plain": [
       "[1, 4.9, 'Football', 9.999, 'game', 4, 5, 'Run', 'Health']"
      ]
     },
     "execution_count": 113,
     "metadata": {},
     "output_type": "execute_result"
    }
   ],
   "source": [
    "L2"
   ]
  },
  {
   "cell_type": "code",
   "execution_count": 114,
   "id": "2a80876e",
   "metadata": {},
   "outputs": [
    {
     "data": {
      "text/plain": [
       "[1, 4.9, 'Football', 9.999, 'game', 4, 5, 'Run', 'Health']"
      ]
     },
     "execution_count": 114,
     "metadata": {},
     "output_type": "execute_result"
    }
   ],
   "source": [
    "L"
   ]
  },
  {
   "cell_type": "code",
   "execution_count": 120,
   "id": "32388397",
   "metadata": {},
   "outputs": [],
   "source": [
    "L2=L.copy()"
   ]
  },
  {
   "cell_type": "code",
   "execution_count": 121,
   "id": "c3456eb3",
   "metadata": {},
   "outputs": [
    {
     "data": {
      "text/plain": [
       "[1, 4.9, 'Football', 9.999, 'game', 4, 5, 'Run', 'Health']"
      ]
     },
     "execution_count": 121,
     "metadata": {},
     "output_type": "execute_result"
    }
   ],
   "source": [
    "L2"
   ]
  },
  {
   "cell_type": "code",
   "execution_count": 125,
   "id": "79c84ff2",
   "metadata": {},
   "outputs": [],
   "source": [
    "L2.append(7)"
   ]
  },
  {
   "cell_type": "code",
   "execution_count": 126,
   "id": "d66a9c60",
   "metadata": {},
   "outputs": [
    {
     "data": {
      "text/plain": [
       "[1, 4.9, 'Football', 9.999, 'game', 4, 5, 'Run', 'Health', 7]"
      ]
     },
     "execution_count": 126,
     "metadata": {},
     "output_type": "execute_result"
    }
   ],
   "source": [
    "L2"
   ]
  },
  {
   "cell_type": "code",
   "execution_count": 128,
   "id": "891c29c2",
   "metadata": {},
   "outputs": [
    {
     "data": {
      "text/plain": [
       "[1, 4.9, 'Football', 9.999, 'game', 4, 5, 'Run', 'Health']"
      ]
     },
     "execution_count": 128,
     "metadata": {},
     "output_type": "execute_result"
    }
   ],
   "source": [
    "L"
   ]
  },
  {
   "cell_type": "code",
   "execution_count": 131,
   "id": "42cb2d66",
   "metadata": {},
   "outputs": [],
   "source": [
    "L2[2]=4.11"
   ]
  },
  {
   "cell_type": "code",
   "execution_count": 132,
   "id": "57cf3554",
   "metadata": {},
   "outputs": [
    {
     "data": {
      "text/plain": [
       "[1, 4.9, 4.11, 9.999, 'game', 4, 5, 'Run', 'Health', 7]"
      ]
     },
     "execution_count": 132,
     "metadata": {},
     "output_type": "execute_result"
    }
   ],
   "source": [
    "L2"
   ]
  },
  {
   "cell_type": "code",
   "execution_count": 134,
   "id": "92ded64a",
   "metadata": {},
   "outputs": [
    {
     "data": {
      "text/plain": [
       "[1, 4.9, 'Football', 9.999, 'game', 4, 5, 'Run', 'Health']"
      ]
     },
     "execution_count": 134,
     "metadata": {},
     "output_type": "execute_result"
    }
   ],
   "source": [
    "L"
   ]
  },
  {
   "cell_type": "markdown",
   "id": "a146fd3e",
   "metadata": {},
   "source": [
    "\n",
    "# Numpy"
   ]
  },
  {
   "cell_type": "code",
   "execution_count": 136,
   "id": "8a05a974",
   "metadata": {},
   "outputs": [],
   "source": [
    "import numpy as np"
   ]
  },
  {
   "cell_type": "code",
   "execution_count": 137,
   "id": "1bb35ff9",
   "metadata": {},
   "outputs": [],
   "source": [
    "a=np.array([1,2,3,4,5])"
   ]
  },
  {
   "cell_type": "code",
   "execution_count": 138,
   "id": "49b9c152",
   "metadata": {},
   "outputs": [
    {
     "data": {
      "text/plain": [
       "array([1, 2, 3, 4, 5])"
      ]
     },
     "execution_count": 138,
     "metadata": {},
     "output_type": "execute_result"
    }
   ],
   "source": [
    "a"
   ]
  },
  {
   "cell_type": "code",
   "execution_count": 139,
   "id": "f9261c42",
   "metadata": {},
   "outputs": [
    {
     "name": "stdout",
     "output_type": "stream",
     "text": [
      "[1 2 3 4 5]\n"
     ]
    }
   ],
   "source": [
    "print(a)"
   ]
  },
  {
   "cell_type": "code",
   "execution_count": 140,
   "id": "488eb326",
   "metadata": {},
   "outputs": [
    {
     "data": {
      "text/plain": [
       "numpy.ndarray"
      ]
     },
     "execution_count": 140,
     "metadata": {},
     "output_type": "execute_result"
    }
   ],
   "source": [
    "type(a)"
   ]
  },
  {
   "cell_type": "code",
   "execution_count": 141,
   "id": "fe2cade2",
   "metadata": {},
   "outputs": [],
   "source": [
    "b=np.array((1,2,3,45))"
   ]
  },
  {
   "cell_type": "code",
   "execution_count": 142,
   "id": "10620c9b",
   "metadata": {},
   "outputs": [
    {
     "data": {
      "text/plain": [
       "array([ 1,  2,  3, 45])"
      ]
     },
     "execution_count": 142,
     "metadata": {},
     "output_type": "execute_result"
    }
   ],
   "source": [
    "b"
   ]
  },
  {
   "cell_type": "code",
   "execution_count": 143,
   "id": "9137dd1c",
   "metadata": {},
   "outputs": [
    {
     "name": "stdout",
     "output_type": "stream",
     "text": [
      "[ 1  2  3 45]\n"
     ]
    }
   ],
   "source": [
    "print(b)"
   ]
  },
  {
   "cell_type": "code",
   "execution_count": 144,
   "id": "6089afcb",
   "metadata": {},
   "outputs": [
    {
     "data": {
      "text/plain": [
       "dtype('int32')"
      ]
     },
     "execution_count": 144,
     "metadata": {},
     "output_type": "execute_result"
    }
   ],
   "source": [
    "a.dtype"
   ]
  },
  {
   "cell_type": "code",
   "execution_count": 145,
   "id": "ff23efdb",
   "metadata": {},
   "outputs": [
    {
     "data": {
      "text/plain": [
       "dtype('int32')"
      ]
     },
     "execution_count": 145,
     "metadata": {},
     "output_type": "execute_result"
    }
   ],
   "source": [
    "b.dtype"
   ]
  },
  {
   "cell_type": "code",
   "execution_count": 146,
   "id": "ee54e3af",
   "metadata": {},
   "outputs": [
    {
     "name": "stdout",
     "output_type": "stream",
     "text": [
      "1\n"
     ]
    }
   ],
   "source": [
    "print(a.ndim)"
   ]
  },
  {
   "cell_type": "code",
   "execution_count": 147,
   "id": "90aa725d",
   "metadata": {},
   "outputs": [],
   "source": [
    "a=np.array([2,3,4,5,7,8,9])"
   ]
  },
  {
   "cell_type": "code",
   "execution_count": 148,
   "id": "4a38f449",
   "metadata": {},
   "outputs": [
    {
     "data": {
      "text/plain": [
       "array([2, 3, 4, 5, 7, 8, 9])"
      ]
     },
     "execution_count": 148,
     "metadata": {},
     "output_type": "execute_result"
    }
   ],
   "source": [
    "a"
   ]
  },
  {
   "cell_type": "code",
   "execution_count": 149,
   "id": "14ad367b",
   "metadata": {},
   "outputs": [
    {
     "name": "stdout",
     "output_type": "stream",
     "text": [
      "[2 3 4 5 7 8 9]\n"
     ]
    }
   ],
   "source": [
    "print(a)"
   ]
  },
  {
   "cell_type": "code",
   "execution_count": 159,
   "id": "7d73fb7d",
   "metadata": {},
   "outputs": [],
   "source": [
    "d=np.array([[1,2,4],[5,6,7]])"
   ]
  },
  {
   "cell_type": "code",
   "execution_count": 162,
   "id": "c8570358",
   "metadata": {},
   "outputs": [
    {
     "data": {
      "text/plain": [
       "2"
      ]
     },
     "execution_count": 162,
     "metadata": {},
     "output_type": "execute_result"
    }
   ],
   "source": [
    "d.ndim"
   ]
  },
  {
   "cell_type": "code",
   "execution_count": 167,
   "id": "bf2bcaf0",
   "metadata": {},
   "outputs": [
    {
     "data": {
      "text/plain": [
       "2"
      ]
     },
     "execution_count": 167,
     "metadata": {},
     "output_type": "execute_result"
    }
   ],
   "source": [
    "d[0,1]"
   ]
  },
  {
   "cell_type": "code",
   "execution_count": 188,
   "id": "2b3338a4",
   "metadata": {},
   "outputs": [],
   "source": [
    "f =np.array([[2,3,4,5],[45,56,67.5,78]])"
   ]
  },
  {
   "cell_type": "code",
   "execution_count": 189,
   "id": "62780e9b",
   "metadata": {},
   "outputs": [
    {
     "data": {
      "text/plain": [
       "67.5"
      ]
     },
     "execution_count": 189,
     "metadata": {},
     "output_type": "execute_result"
    }
   ],
   "source": [
    "e[1,2]"
   ]
  },
  {
   "cell_type": "code",
   "execution_count": 190,
   "id": "92fddfee",
   "metadata": {},
   "outputs": [
    {
     "data": {
      "text/plain": [
       "2"
      ]
     },
     "execution_count": 190,
     "metadata": {},
     "output_type": "execute_result"
    }
   ],
   "source": [
    "f.ndim"
   ]
  },
  {
   "cell_type": "code",
   "execution_count": 192,
   "id": "1e231427",
   "metadata": {},
   "outputs": [],
   "source": [
    "c=np.array([[[1,2,4],[4,5,6,],[0,0,-1]],[[-1,-2,-4],[-4,-5,-6,],[0,0,1]]])"
   ]
  },
  {
   "cell_type": "code",
   "execution_count": 193,
   "id": "15660fa6",
   "metadata": {},
   "outputs": [
    {
     "data": {
      "text/plain": [
       "3"
      ]
     },
     "execution_count": 193,
     "metadata": {},
     "output_type": "execute_result"
    }
   ],
   "source": [
    "c.ndim"
   ]
  },
  {
   "cell_type": "code",
   "execution_count": 197,
   "id": "edd6a9b2",
   "metadata": {},
   "outputs": [
    {
     "data": {
      "text/plain": [
       "-4"
      ]
     },
     "execution_count": 197,
     "metadata": {},
     "output_type": "execute_result"
    }
   ],
   "source": [
    "c[1,0,2]"
   ]
  },
  {
   "cell_type": "code",
   "execution_count": 199,
   "id": "90330520",
   "metadata": {},
   "outputs": [],
   "source": [
    "d=np.array([[[[1,2,4],[4,5,6,],[0,0,-1]],[[-1,-2,-4],[-4,-5,-6,],[0,0,1]],[[-4,-3,-5],[-8,-15,-16,],[10,1,11]]]])"
   ]
  },
  {
   "cell_type": "code",
   "execution_count": 200,
   "id": "16a1d0b7",
   "metadata": {},
   "outputs": [
    {
     "data": {
      "text/plain": [
       "4"
      ]
     },
     "execution_count": 200,
     "metadata": {},
     "output_type": "execute_result"
    }
   ],
   "source": [
    "d.ndim"
   ]
  },
  {
   "cell_type": "code",
   "execution_count": 217,
   "id": "9a3cad03",
   "metadata": {},
   "outputs": [
    {
     "data": {
      "text/plain": [
       "6"
      ]
     },
     "execution_count": 217,
     "metadata": {},
     "output_type": "execute_result"
    }
   ],
   "source": [
    "d[0,0,1,2]"
   ]
  },
  {
   "cell_type": "code",
   "execution_count": 218,
   "id": "93998559",
   "metadata": {},
   "outputs": [
    {
     "data": {
      "text/plain": [
       "(2, 3, 3)"
      ]
     },
     "execution_count": 218,
     "metadata": {},
     "output_type": "execute_result"
    }
   ],
   "source": [
    "c.shape"
   ]
  },
  {
   "cell_type": "code",
   "execution_count": 219,
   "id": "de65f5fc",
   "metadata": {},
   "outputs": [
    {
     "data": {
      "text/plain": [
       "3"
      ]
     },
     "execution_count": 219,
     "metadata": {},
     "output_type": "execute_result"
    }
   ],
   "source": [
    "c.shape[1]"
   ]
  },
  {
   "cell_type": "code",
   "execution_count": 220,
   "id": "fab88cdc",
   "metadata": {},
   "outputs": [
    {
     "data": {
      "text/plain": [
       "18"
      ]
     },
     "execution_count": 220,
     "metadata": {},
     "output_type": "execute_result"
    }
   ],
   "source": [
    "c.size"
   ]
  },
  {
   "cell_type": "code",
   "execution_count": 221,
   "id": "7dc31cc2",
   "metadata": {},
   "outputs": [
    {
     "data": {
      "text/plain": [
       "72"
      ]
     },
     "execution_count": 221,
     "metadata": {},
     "output_type": "execute_result"
    }
   ],
   "source": [
    "c.nbytes"
   ]
  },
  {
   "cell_type": "code",
   "execution_count": 222,
   "id": "6fefc88d",
   "metadata": {},
   "outputs": [],
   "source": [
    "A= np.arange(100)"
   ]
  },
  {
   "cell_type": "code",
   "execution_count": 223,
   "id": "50b7a5fb",
   "metadata": {},
   "outputs": [
    {
     "data": {
      "text/plain": [
       "array([ 0,  1,  2,  3,  4,  5,  6,  7,  8,  9, 10, 11, 12, 13, 14, 15, 16,\n",
       "       17, 18, 19, 20, 21, 22, 23, 24, 25, 26, 27, 28, 29, 30, 31, 32, 33,\n",
       "       34, 35, 36, 37, 38, 39, 40, 41, 42, 43, 44, 45, 46, 47, 48, 49, 50,\n",
       "       51, 52, 53, 54, 55, 56, 57, 58, 59, 60, 61, 62, 63, 64, 65, 66, 67,\n",
       "       68, 69, 70, 71, 72, 73, 74, 75, 76, 77, 78, 79, 80, 81, 82, 83, 84,\n",
       "       85, 86, 87, 88, 89, 90, 91, 92, 93, 94, 95, 96, 97, 98, 99])"
      ]
     },
     "execution_count": 223,
     "metadata": {},
     "output_type": "execute_result"
    }
   ],
   "source": [
    "A"
   ]
  },
  {
   "cell_type": "code",
   "execution_count": 224,
   "id": "2374c0ef",
   "metadata": {},
   "outputs": [],
   "source": [
    "A=np.arange(20,200)"
   ]
  },
  {
   "cell_type": "code",
   "execution_count": 225,
   "id": "3f51f23e",
   "metadata": {},
   "outputs": [
    {
     "data": {
      "text/plain": [
       "array([ 20,  21,  22,  23,  24,  25,  26,  27,  28,  29,  30,  31,  32,\n",
       "        33,  34,  35,  36,  37,  38,  39,  40,  41,  42,  43,  44,  45,\n",
       "        46,  47,  48,  49,  50,  51,  52,  53,  54,  55,  56,  57,  58,\n",
       "        59,  60,  61,  62,  63,  64,  65,  66,  67,  68,  69,  70,  71,\n",
       "        72,  73,  74,  75,  76,  77,  78,  79,  80,  81,  82,  83,  84,\n",
       "        85,  86,  87,  88,  89,  90,  91,  92,  93,  94,  95,  96,  97,\n",
       "        98,  99, 100, 101, 102, 103, 104, 105, 106, 107, 108, 109, 110,\n",
       "       111, 112, 113, 114, 115, 116, 117, 118, 119, 120, 121, 122, 123,\n",
       "       124, 125, 126, 127, 128, 129, 130, 131, 132, 133, 134, 135, 136,\n",
       "       137, 138, 139, 140, 141, 142, 143, 144, 145, 146, 147, 148, 149,\n",
       "       150, 151, 152, 153, 154, 155, 156, 157, 158, 159, 160, 161, 162,\n",
       "       163, 164, 165, 166, 167, 168, 169, 170, 171, 172, 173, 174, 175,\n",
       "       176, 177, 178, 179, 180, 181, 182, 183, 184, 185, 186, 187, 188,\n",
       "       189, 190, 191, 192, 193, 194, 195, 196, 197, 198, 199])"
      ]
     },
     "execution_count": 225,
     "metadata": {},
     "output_type": "execute_result"
    }
   ],
   "source": [
    "A"
   ]
  },
  {
   "cell_type": "code",
   "execution_count": 226,
   "id": "4266b059",
   "metadata": {},
   "outputs": [],
   "source": [
    "B=np.arange(0,10)"
   ]
  },
  {
   "cell_type": "code",
   "execution_count": 227,
   "id": "d32de5af",
   "metadata": {},
   "outputs": [
    {
     "data": {
      "text/plain": [
       "array([0, 1, 2, 3, 4, 5, 6, 7, 8, 9])"
      ]
     },
     "execution_count": 227,
     "metadata": {},
     "output_type": "execute_result"
    }
   ],
   "source": [
    "B"
   ]
  },
  {
   "cell_type": "code",
   "execution_count": 228,
   "id": "2d32fd22",
   "metadata": {},
   "outputs": [
    {
     "name": "stdout",
     "output_type": "stream",
     "text": [
      "[0 1 2 3 4 5 6 7 8 9]\n"
     ]
    }
   ],
   "source": [
    "print(B)"
   ]
  },
  {
   "cell_type": "code",
   "execution_count": 229,
   "id": "96b5f6b3",
   "metadata": {},
   "outputs": [
    {
     "data": {
      "text/plain": [
       "0"
      ]
     },
     "execution_count": 229,
     "metadata": {},
     "output_type": "execute_result"
    }
   ],
   "source": [
    "B[0]"
   ]
  },
  {
   "cell_type": "code",
   "execution_count": 231,
   "id": "8948317a",
   "metadata": {},
   "outputs": [],
   "source": [
    "a=np.arange(20,100,10)"
   ]
  },
  {
   "cell_type": "code",
   "execution_count": 232,
   "id": "9be8b9b3",
   "metadata": {},
   "outputs": [
    {
     "data": {
      "text/plain": [
       "array([20, 30, 40, 50, 60, 70, 80, 90])"
      ]
     },
     "execution_count": 232,
     "metadata": {},
     "output_type": "execute_result"
    }
   ],
   "source": [
    "a"
   ]
  },
  {
   "cell_type": "code",
   "execution_count": 234,
   "id": "47751bc7",
   "metadata": {},
   "outputs": [
    {
     "name": "stdout",
     "output_type": "stream",
     "text": [
      "[0, 1, 2, 3, 4, 5, 6, 7, 8, 9]\n"
     ]
    }
   ],
   "source": [
    "print(list(range(10)))"
   ]
  },
  {
   "cell_type": "code",
   "execution_count": 235,
   "id": "d05ed6ff",
   "metadata": {},
   "outputs": [],
   "source": [
    "A=np.random.permutation(np.arange(10))"
   ]
  },
  {
   "cell_type": "code",
   "execution_count": 236,
   "id": "8bdbc946",
   "metadata": {},
   "outputs": [
    {
     "data": {
      "text/plain": [
       "array([2, 0, 3, 4, 7, 9, 1, 5, 6, 8])"
      ]
     },
     "execution_count": 236,
     "metadata": {},
     "output_type": "execute_result"
    }
   ],
   "source": [
    "A"
   ]
  },
  {
   "cell_type": "code",
   "execution_count": 239,
   "id": "7c61c514",
   "metadata": {},
   "outputs": [],
   "source": [
    "B=np.random.permutation(np.arange(100))"
   ]
  },
  {
   "cell_type": "code",
   "execution_count": 240,
   "id": "2fb0d08b",
   "metadata": {},
   "outputs": [
    {
     "data": {
      "text/plain": [
       "array([65, 71, 89, 72, 44, 30, 12, 74, 18,  6, 21,  9, 68, 27, 56, 39, 29,\n",
       "       22, 28, 92, 47, 13,  7, 73, 64, 66, 51, 40, 69,  5, 37, 49, 99, 82,\n",
       "       38, 94, 24, 57, 41, 95, 34, 23, 83, 85, 96, 46, 84, 11, 33, 67, 19,\n",
       "       14, 16, 77, 90, 63, 26, 76, 91,  0, 59, 35,  2, 81, 15, 20, 97, 25,\n",
       "       86, 61,  3, 50, 17, 93, 80, 48, 58, 79, 10,  8, 60,  4, 75, 54, 98,\n",
       "       52, 88, 53, 32, 36, 45, 55,  1, 87, 43, 31, 42, 78, 70, 62])"
      ]
     },
     "execution_count": 240,
     "metadata": {},
     "output_type": "execute_result"
    }
   ],
   "source": [
    "B"
   ]
  },
  {
   "cell_type": "markdown",
   "id": "a191a173",
   "metadata": {},
   "source": [
    "# Pandas"
   ]
  },
  {
   "cell_type": "code",
   "execution_count": 2,
   "id": "568dfca3",
   "metadata": {},
   "outputs": [],
   "source": [
    "import pandas as pd"
   ]
  },
  {
   "cell_type": "code",
   "execution_count": 3,
   "id": "6202a3e7",
   "metadata": {},
   "outputs": [
    {
     "name": "stdout",
     "output_type": "stream",
     "text": [
      "1.4.4\n"
     ]
    }
   ],
   "source": [
    "print(pd. __version__)"
   ]
  },
  {
   "cell_type": "code",
   "execution_count": 5,
   "id": "0964746c",
   "metadata": {},
   "outputs": [],
   "source": [
    "G=pd.Series([2,3,4,6],index=['a','b','c','d'])"
   ]
  },
  {
   "cell_type": "code",
   "execution_count": 6,
   "id": "9cc7a829",
   "metadata": {},
   "outputs": [
    {
     "data": {
      "text/plain": [
       "numpy.ndarray"
      ]
     },
     "execution_count": 6,
     "metadata": {},
     "output_type": "execute_result"
    }
   ],
   "source": [
    "type(G.values)"
   ]
  },
  {
   "cell_type": "code",
   "execution_count": 7,
   "id": "27c1ff40",
   "metadata": {},
   "outputs": [
    {
     "data": {
      "text/plain": [
       "pandas.core.series.Series"
      ]
     },
     "execution_count": 7,
     "metadata": {},
     "output_type": "execute_result"
    }
   ],
   "source": [
    "type(G)"
   ]
  },
  {
   "cell_type": "code",
   "execution_count": null,
   "id": "eea7a6a9",
   "metadata": {},
   "outputs": [],
   "source": []
  },
  {
   "cell_type": "code",
   "execution_count": 8,
   "id": "84f7ce8b",
   "metadata": {},
   "outputs": [
    {
     "name": "stdout",
     "output_type": "stream",
     "text": [
      "Enter a name of student:Martin\n",
      "The student name is:  Martin\n"
     ]
    }
   ],
   "source": [
    "name = input(\"Enter a name of student:\")  \n",
    "print(\"The student name is: \", name)  "
   ]
  },
  {
   "cell_type": "code",
   "execution_count": 9,
   "id": "b2a3da5f",
   "metadata": {},
   "outputs": [
    {
     "name": "stdout",
     "output_type": "stream",
     "text": [
      "1.4.4\n"
     ]
    }
   ],
   "source": [
    "print(pd. __version__)"
   ]
  },
  {
   "cell_type": "code",
   "execution_count": 18,
   "id": "88335391",
   "metadata": {},
   "outputs": [],
   "source": [
    "import pandas as pd\n",
    "df=pd.read_csv(\"C:\\Martin james\\Data Science\\Python Project\\import.csv\")"
   ]
  },
  {
   "cell_type": "code",
   "execution_count": 19,
   "id": "4db540f1",
   "metadata": {},
   "outputs": [
    {
     "data": {
      "text/html": [
       "<div>\n",
       "<style scoped>\n",
       "    .dataframe tbody tr th:only-of-type {\n",
       "        vertical-align: middle;\n",
       "    }\n",
       "\n",
       "    .dataframe tbody tr th {\n",
       "        vertical-align: top;\n",
       "    }\n",
       "\n",
       "    .dataframe thead th {\n",
       "        text-align: right;\n",
       "    }\n",
       "</style>\n",
       "<table border=\"1\" class=\"dataframe\">\n",
       "  <thead>\n",
       "    <tr style=\"text-align: right;\">\n",
       "      <th></th>\n",
       "      <th>ID</th>\n",
       "      <th>RecordedDate</th>\n",
       "      <th>ResponseId</th>\n",
       "      <th>Q1</th>\n",
       "      <th>Q2</th>\n",
       "      <th>Q3</th>\n",
       "      <th>Q4</th>\n",
       "      <th>Q5</th>\n",
       "      <th>Zip</th>\n",
       "    </tr>\n",
       "  </thead>\n",
       "  <tbody>\n",
       "    <tr>\n",
       "      <th>0</th>\n",
       "      <td>1</td>\n",
       "      <td>5/26/17 10:53</td>\n",
       "      <td>R_4YgH4SiX</td>\n",
       "      <td>3</td>\n",
       "      <td>1</td>\n",
       "      <td>3</td>\n",
       "      <td>2</td>\n",
       "      <td>1</td>\n",
       "      <td>91037</td>\n",
       "    </tr>\n",
       "    <tr>\n",
       "      <th>1</th>\n",
       "      <td>2</td>\n",
       "      <td>5/26/17 10:58</td>\n",
       "      <td>R_6eqq3dJF</td>\n",
       "      <td>3</td>\n",
       "      <td>1</td>\n",
       "      <td>1</td>\n",
       "      <td>1</td>\n",
       "      <td>2</td>\n",
       "      <td>91045</td>\n",
       "    </tr>\n",
       "    <tr>\n",
       "      <th>2</th>\n",
       "      <td>3</td>\n",
       "      <td>5/26/17 11:04</td>\n",
       "      <td>R_3I6JSvCz</td>\n",
       "      <td>2</td>\n",
       "      <td>1</td>\n",
       "      <td>3</td>\n",
       "      <td>2</td>\n",
       "      <td>2</td>\n",
       "      <td>91606</td>\n",
       "    </tr>\n",
       "    <tr>\n",
       "      <th>3</th>\n",
       "      <td>4</td>\n",
       "      <td>5/26/17 11:04</td>\n",
       "      <td>R_6mW267yl</td>\n",
       "      <td>2</td>\n",
       "      <td>2</td>\n",
       "      <td>3</td>\n",
       "      <td>2</td>\n",
       "      <td>2</td>\n",
       "      <td>91321</td>\n",
       "    </tr>\n",
       "    <tr>\n",
       "      <th>4</th>\n",
       "      <td>5</td>\n",
       "      <td>5/26/17 11:23</td>\n",
       "      <td>R_6hYlSoCv</td>\n",
       "      <td>4</td>\n",
       "      <td>5</td>\n",
       "      <td>4</td>\n",
       "      <td>1</td>\n",
       "      <td>2</td>\n",
       "      <td>91088</td>\n",
       "    </tr>\n",
       "    <tr>\n",
       "      <th>...</th>\n",
       "      <td>...</td>\n",
       "      <td>...</td>\n",
       "      <td>...</td>\n",
       "      <td>...</td>\n",
       "      <td>...</td>\n",
       "      <td>...</td>\n",
       "      <td>...</td>\n",
       "      <td>...</td>\n",
       "      <td>...</td>\n",
       "    </tr>\n",
       "    <tr>\n",
       "      <th>168</th>\n",
       "      <td>169</td>\n",
       "      <td>5/30/17 23:16</td>\n",
       "      <td>R_6kSpZ4b7</td>\n",
       "      <td>2</td>\n",
       "      <td>1</td>\n",
       "      <td>1</td>\n",
       "      <td>1</td>\n",
       "      <td>2</td>\n",
       "      <td>91074</td>\n",
       "    </tr>\n",
       "    <tr>\n",
       "      <th>169</th>\n",
       "      <td>170</td>\n",
       "      <td>5/30/17 23:16</td>\n",
       "      <td>R_YSmrDNjU</td>\n",
       "      <td>4</td>\n",
       "      <td>2</td>\n",
       "      <td>4</td>\n",
       "      <td>4</td>\n",
       "      <td>2</td>\n",
       "      <td>91601</td>\n",
       "    </tr>\n",
       "    <tr>\n",
       "      <th>170</th>\n",
       "      <td>171</td>\n",
       "      <td>5/30/17 23:20</td>\n",
       "      <td>R_6g5x27Dz</td>\n",
       "      <td>3</td>\n",
       "      <td>2</td>\n",
       "      <td>4</td>\n",
       "      <td>3</td>\n",
       "      <td>2</td>\n",
       "      <td>91321</td>\n",
       "    </tr>\n",
       "    <tr>\n",
       "      <th>171</th>\n",
       "      <td>172</td>\n",
       "      <td>5/30/17 23:21</td>\n",
       "      <td>R_6Cjw67LV</td>\n",
       "      <td>4</td>\n",
       "      <td>2</td>\n",
       "      <td>4</td>\n",
       "      <td>1</td>\n",
       "      <td>2</td>\n",
       "      <td>91414</td>\n",
       "    </tr>\n",
       "    <tr>\n",
       "      <th>172</th>\n",
       "      <td>173</td>\n",
       "      <td>5/30/17 23:31</td>\n",
       "      <td>R_6r7ERDXC</td>\n",
       "      <td>2</td>\n",
       "      <td>1</td>\n",
       "      <td>5</td>\n",
       "      <td>2</td>\n",
       "      <td>1</td>\n",
       "      <td>91041</td>\n",
       "    </tr>\n",
       "  </tbody>\n",
       "</table>\n",
       "<p>173 rows × 9 columns</p>\n",
       "</div>"
      ],
      "text/plain": [
       "      ID   RecordedDate  ResponseId  Q1  Q2  Q3  Q4  Q5    Zip\n",
       "0      1  5/26/17 10:53  R_4YgH4SiX   3   1   3   2   1  91037\n",
       "1      2  5/26/17 10:58  R_6eqq3dJF   3   1   1   1   2  91045\n",
       "2      3  5/26/17 11:04  R_3I6JSvCz   2   1   3   2   2  91606\n",
       "3      4  5/26/17 11:04  R_6mW267yl   2   2   3   2   2  91321\n",
       "4      5  5/26/17 11:23  R_6hYlSoCv   4   5   4   1   2  91088\n",
       "..   ...            ...         ...  ..  ..  ..  ..  ..    ...\n",
       "168  169  5/30/17 23:16  R_6kSpZ4b7   2   1   1   1   2  91074\n",
       "169  170  5/30/17 23:16  R_YSmrDNjU   4   2   4   4   2  91601\n",
       "170  171  5/30/17 23:20  R_6g5x27Dz   3   2   4   3   2  91321\n",
       "171  172  5/30/17 23:21  R_6Cjw67LV   4   2   4   1   2  91414\n",
       "172  173  5/30/17 23:31  R_6r7ERDXC   2   1   5   2   1  91041\n",
       "\n",
       "[173 rows x 9 columns]"
      ]
     },
     "execution_count": 19,
     "metadata": {},
     "output_type": "execute_result"
    }
   ],
   "source": [
    "df"
   ]
  },
  {
   "cell_type": "code",
   "execution_count": 20,
   "id": "8ade7784",
   "metadata": {},
   "outputs": [
    {
     "data": {
      "text/html": [
       "<div>\n",
       "<style scoped>\n",
       "    .dataframe tbody tr th:only-of-type {\n",
       "        vertical-align: middle;\n",
       "    }\n",
       "\n",
       "    .dataframe tbody tr th {\n",
       "        vertical-align: top;\n",
       "    }\n",
       "\n",
       "    .dataframe thead th {\n",
       "        text-align: right;\n",
       "    }\n",
       "</style>\n",
       "<table border=\"1\" class=\"dataframe\">\n",
       "  <thead>\n",
       "    <tr style=\"text-align: right;\">\n",
       "      <th></th>\n",
       "      <th>ID</th>\n",
       "      <th>RecordedDate</th>\n",
       "      <th>ResponseId</th>\n",
       "      <th>Q1</th>\n",
       "      <th>Q2</th>\n",
       "      <th>Q3</th>\n",
       "      <th>Q4</th>\n",
       "      <th>Q5</th>\n",
       "      <th>Zip</th>\n",
       "    </tr>\n",
       "  </thead>\n",
       "  <tbody>\n",
       "    <tr>\n",
       "      <th>0</th>\n",
       "      <td>1</td>\n",
       "      <td>5/26/17 10:53</td>\n",
       "      <td>R_4YgH4SiX</td>\n",
       "      <td>3</td>\n",
       "      <td>1</td>\n",
       "      <td>3</td>\n",
       "      <td>2</td>\n",
       "      <td>1</td>\n",
       "      <td>91037</td>\n",
       "    </tr>\n",
       "    <tr>\n",
       "      <th>1</th>\n",
       "      <td>2</td>\n",
       "      <td>5/26/17 10:58</td>\n",
       "      <td>R_6eqq3dJF</td>\n",
       "      <td>3</td>\n",
       "      <td>1</td>\n",
       "      <td>1</td>\n",
       "      <td>1</td>\n",
       "      <td>2</td>\n",
       "      <td>91045</td>\n",
       "    </tr>\n",
       "    <tr>\n",
       "      <th>2</th>\n",
       "      <td>3</td>\n",
       "      <td>5/26/17 11:04</td>\n",
       "      <td>R_3I6JSvCz</td>\n",
       "      <td>2</td>\n",
       "      <td>1</td>\n",
       "      <td>3</td>\n",
       "      <td>2</td>\n",
       "      <td>2</td>\n",
       "      <td>91606</td>\n",
       "    </tr>\n",
       "    <tr>\n",
       "      <th>3</th>\n",
       "      <td>4</td>\n",
       "      <td>5/26/17 11:04</td>\n",
       "      <td>R_6mW267yl</td>\n",
       "      <td>2</td>\n",
       "      <td>2</td>\n",
       "      <td>3</td>\n",
       "      <td>2</td>\n",
       "      <td>2</td>\n",
       "      <td>91321</td>\n",
       "    </tr>\n",
       "    <tr>\n",
       "      <th>4</th>\n",
       "      <td>5</td>\n",
       "      <td>5/26/17 11:23</td>\n",
       "      <td>R_6hYlSoCv</td>\n",
       "      <td>4</td>\n",
       "      <td>5</td>\n",
       "      <td>4</td>\n",
       "      <td>1</td>\n",
       "      <td>2</td>\n",
       "      <td>91088</td>\n",
       "    </tr>\n",
       "  </tbody>\n",
       "</table>\n",
       "</div>"
      ],
      "text/plain": [
       "   ID   RecordedDate  ResponseId  Q1  Q2  Q3  Q4  Q5    Zip\n",
       "0   1  5/26/17 10:53  R_4YgH4SiX   3   1   3   2   1  91037\n",
       "1   2  5/26/17 10:58  R_6eqq3dJF   3   1   1   1   2  91045\n",
       "2   3  5/26/17 11:04  R_3I6JSvCz   2   1   3   2   2  91606\n",
       "3   4  5/26/17 11:04  R_6mW267yl   2   2   3   2   2  91321\n",
       "4   5  5/26/17 11:23  R_6hYlSoCv   4   5   4   1   2  91088"
      ]
     },
     "execution_count": 20,
     "metadata": {},
     "output_type": "execute_result"
    }
   ],
   "source": [
    "df.head()"
   ]
  },
  {
   "cell_type": "code",
   "execution_count": 21,
   "id": "3341322d",
   "metadata": {},
   "outputs": [
    {
     "data": {
      "text/plain": [
       "<bound method NDFrame.tail of       ID   RecordedDate  ResponseId  Q1  Q2  Q3  Q4  Q5    Zip\n",
       "0      1  5/26/17 10:53  R_4YgH4SiX   3   1   3   2   1  91037\n",
       "1      2  5/26/17 10:58  R_6eqq3dJF   3   1   1   1   2  91045\n",
       "2      3  5/26/17 11:04  R_3I6JSvCz   2   1   3   2   2  91606\n",
       "3      4  5/26/17 11:04  R_6mW267yl   2   2   3   2   2  91321\n",
       "4      5  5/26/17 11:23  R_6hYlSoCv   4   5   4   1   2  91088\n",
       "..   ...            ...         ...  ..  ..  ..  ..  ..    ...\n",
       "168  169  5/30/17 23:16  R_6kSpZ4b7   2   1   1   1   2  91074\n",
       "169  170  5/30/17 23:16  R_YSmrDNjU   4   2   4   4   2  91601\n",
       "170  171  5/30/17 23:20  R_6g5x27Dz   3   2   4   3   2  91321\n",
       "171  172  5/30/17 23:21  R_6Cjw67LV   4   2   4   1   2  91414\n",
       "172  173  5/30/17 23:31  R_6r7ERDXC   2   1   5   2   1  91041\n",
       "\n",
       "[173 rows x 9 columns]>"
      ]
     },
     "execution_count": 21,
     "metadata": {},
     "output_type": "execute_result"
    }
   ],
   "source": [
    "df.tail"
   ]
  },
  {
   "cell_type": "code",
   "execution_count": 22,
   "id": "2008bfea",
   "metadata": {},
   "outputs": [
    {
     "data": {
      "text/plain": [
       "(173, 9)"
      ]
     },
     "execution_count": 22,
     "metadata": {},
     "output_type": "execute_result"
    }
   ],
   "source": [
    "df.shape"
   ]
  },
  {
   "cell_type": "code",
   "execution_count": 23,
   "id": "f82a06c0",
   "metadata": {},
   "outputs": [
    {
     "data": {
      "text/html": [
       "<div>\n",
       "<style scoped>\n",
       "    .dataframe tbody tr th:only-of-type {\n",
       "        vertical-align: middle;\n",
       "    }\n",
       "\n",
       "    .dataframe tbody tr th {\n",
       "        vertical-align: top;\n",
       "    }\n",
       "\n",
       "    .dataframe thead th {\n",
       "        text-align: right;\n",
       "    }\n",
       "</style>\n",
       "<table border=\"1\" class=\"dataframe\">\n",
       "  <thead>\n",
       "    <tr style=\"text-align: right;\">\n",
       "      <th></th>\n",
       "      <th>ID</th>\n",
       "      <th>RecordedDate</th>\n",
       "      <th>ResponseId</th>\n",
       "      <th>Q1</th>\n",
       "      <th>Q2</th>\n",
       "      <th>Q3</th>\n",
       "      <th>Q4</th>\n",
       "      <th>Q5</th>\n",
       "      <th>Zip</th>\n",
       "    </tr>\n",
       "  </thead>\n",
       "  <tbody>\n",
       "    <tr>\n",
       "      <th>2</th>\n",
       "      <td>3</td>\n",
       "      <td>5/26/17 11:04</td>\n",
       "      <td>R_3I6JSvCz</td>\n",
       "      <td>2</td>\n",
       "      <td>1</td>\n",
       "      <td>3</td>\n",
       "      <td>2</td>\n",
       "      <td>2</td>\n",
       "      <td>91606</td>\n",
       "    </tr>\n",
       "    <tr>\n",
       "      <th>3</th>\n",
       "      <td>4</td>\n",
       "      <td>5/26/17 11:04</td>\n",
       "      <td>R_6mW267yl</td>\n",
       "      <td>2</td>\n",
       "      <td>2</td>\n",
       "      <td>3</td>\n",
       "      <td>2</td>\n",
       "      <td>2</td>\n",
       "      <td>91321</td>\n",
       "    </tr>\n",
       "  </tbody>\n",
       "</table>\n",
       "</div>"
      ],
      "text/plain": [
       "   ID   RecordedDate  ResponseId  Q1  Q2  Q3  Q4  Q5    Zip\n",
       "2   3  5/26/17 11:04  R_3I6JSvCz   2   1   3   2   2  91606\n",
       "3   4  5/26/17 11:04  R_6mW267yl   2   2   3   2   2  91321"
      ]
     },
     "execution_count": 23,
     "metadata": {},
     "output_type": "execute_result"
    }
   ],
   "source": [
    "df[2:4]"
   ]
  },
  {
   "cell_type": "code",
   "execution_count": 25,
   "id": "d23d5c6b",
   "metadata": {},
   "outputs": [
    {
     "data": {
      "text/plain": [
       "Index(['ID', 'RecordedDate', 'ResponseId', 'Q1', 'Q2', 'Q3', 'Q4', 'Q5',\n",
       "       'Zip'],\n",
       "      dtype='object')"
      ]
     },
     "execution_count": 25,
     "metadata": {},
     "output_type": "execute_result"
    }
   ],
   "source": [
    "df.columns"
   ]
  },
  {
   "cell_type": "code",
   "execution_count": 33,
   "id": "ca5cce50",
   "metadata": {},
   "outputs": [
    {
     "data": {
      "text/html": [
       "<div>\n",
       "<style scoped>\n",
       "    .dataframe tbody tr th:only-of-type {\n",
       "        vertical-align: middle;\n",
       "    }\n",
       "\n",
       "    .dataframe tbody tr th {\n",
       "        vertical-align: top;\n",
       "    }\n",
       "\n",
       "    .dataframe thead th {\n",
       "        text-align: right;\n",
       "    }\n",
       "</style>\n",
       "<table border=\"1\" class=\"dataframe\">\n",
       "  <thead>\n",
       "    <tr style=\"text-align: right;\">\n",
       "      <th></th>\n",
       "      <th>Q2</th>\n",
       "      <th>Q3</th>\n",
       "    </tr>\n",
       "  </thead>\n",
       "  <tbody>\n",
       "    <tr>\n",
       "      <th>0</th>\n",
       "      <td>1</td>\n",
       "      <td>3</td>\n",
       "    </tr>\n",
       "    <tr>\n",
       "      <th>1</th>\n",
       "      <td>1</td>\n",
       "      <td>1</td>\n",
       "    </tr>\n",
       "    <tr>\n",
       "      <th>2</th>\n",
       "      <td>1</td>\n",
       "      <td>3</td>\n",
       "    </tr>\n",
       "    <tr>\n",
       "      <th>3</th>\n",
       "      <td>2</td>\n",
       "      <td>3</td>\n",
       "    </tr>\n",
       "    <tr>\n",
       "      <th>4</th>\n",
       "      <td>5</td>\n",
       "      <td>4</td>\n",
       "    </tr>\n",
       "    <tr>\n",
       "      <th>...</th>\n",
       "      <td>...</td>\n",
       "      <td>...</td>\n",
       "    </tr>\n",
       "    <tr>\n",
       "      <th>168</th>\n",
       "      <td>1</td>\n",
       "      <td>1</td>\n",
       "    </tr>\n",
       "    <tr>\n",
       "      <th>169</th>\n",
       "      <td>2</td>\n",
       "      <td>4</td>\n",
       "    </tr>\n",
       "    <tr>\n",
       "      <th>170</th>\n",
       "      <td>2</td>\n",
       "      <td>4</td>\n",
       "    </tr>\n",
       "    <tr>\n",
       "      <th>171</th>\n",
       "      <td>2</td>\n",
       "      <td>4</td>\n",
       "    </tr>\n",
       "    <tr>\n",
       "      <th>172</th>\n",
       "      <td>1</td>\n",
       "      <td>5</td>\n",
       "    </tr>\n",
       "  </tbody>\n",
       "</table>\n",
       "<p>173 rows × 2 columns</p>\n",
       "</div>"
      ],
      "text/plain": [
       "     Q2  Q3\n",
       "0     1   3\n",
       "1     1   1\n",
       "2     1   3\n",
       "3     2   3\n",
       "4     5   4\n",
       "..   ..  ..\n",
       "168   1   1\n",
       "169   2   4\n",
       "170   2   4\n",
       "171   2   4\n",
       "172   1   5\n",
       "\n",
       "[173 rows x 2 columns]"
      ]
     },
     "execution_count": 33,
     "metadata": {},
     "output_type": "execute_result"
    }
   ],
   "source": [
    "df[['Q2','Q3']]"
   ]
  },
  {
   "cell_type": "code",
   "execution_count": 34,
   "id": "b2152268",
   "metadata": {},
   "outputs": [
    {
     "data": {
      "text/plain": [
       "0      1\n",
       "1      1\n",
       "2      1\n",
       "3      2\n",
       "4      5\n",
       "      ..\n",
       "168    1\n",
       "169    2\n",
       "170    2\n",
       "171    2\n",
       "172    1\n",
       "Name: Q2, Length: 173, dtype: int64"
      ]
     },
     "execution_count": 34,
     "metadata": {},
     "output_type": "execute_result"
    }
   ],
   "source": [
    "df.Q2"
   ]
  },
  {
   "cell_type": "code",
   "execution_count": 39,
   "id": "28090759",
   "metadata": {},
   "outputs": [
    {
     "data": {
      "text/plain": [
       "5"
      ]
     },
     "execution_count": 39,
     "metadata": {},
     "output_type": "execute_result"
    }
   ],
   "source": [
    "df['Q3'].max()"
   ]
  },
  {
   "cell_type": "code",
   "execution_count": 38,
   "id": "b73f4e14",
   "metadata": {},
   "outputs": [
    {
     "data": {
      "text/plain": [
       "count    173.000000\n",
       "mean       3.017341\n",
       "std        1.366008\n",
       "min        1.000000\n",
       "25%        2.000000\n",
       "50%        3.000000\n",
       "75%        4.000000\n",
       "max        5.000000\n",
       "Name: Q3, dtype: float64"
      ]
     },
     "execution_count": 38,
     "metadata": {},
     "output_type": "execute_result"
    }
   ],
   "source": [
    "df['Q3'].describe()"
   ]
  },
  {
   "cell_type": "code",
   "execution_count": 41,
   "id": "a8127568",
   "metadata": {},
   "outputs": [
    {
     "data": {
      "text/plain": [
       "1"
      ]
     },
     "execution_count": 41,
     "metadata": {},
     "output_type": "execute_result"
    }
   ],
   "source": [
    "df['Q4'].min()"
   ]
  },
  {
   "cell_type": "code",
   "execution_count": 42,
   "id": "c28dd970",
   "metadata": {},
   "outputs": [
    {
     "data": {
      "text/plain": [
       "5"
      ]
     },
     "execution_count": 42,
     "metadata": {},
     "output_type": "execute_result"
    }
   ],
   "source": [
    "df['Q5'].max()"
   ]
  },
  {
   "cell_type": "code",
   "execution_count": 43,
   "id": "e58c0489",
   "metadata": {},
   "outputs": [
    {
     "data": {
      "text/plain": [
       "count    173.000000\n",
       "mean       2.179191\n",
       "std        1.108752\n",
       "min        1.000000\n",
       "25%        1.000000\n",
       "50%        2.000000\n",
       "75%        2.000000\n",
       "max        5.000000\n",
       "Name: Q2, dtype: float64"
      ]
     },
     "execution_count": 43,
     "metadata": {},
     "output_type": "execute_result"
    }
   ],
   "source": [
    "df['Q2'].describe()"
   ]
  },
  {
   "cell_type": "code",
   "execution_count": 47,
   "id": "6d35115d",
   "metadata": {},
   "outputs": [
    {
     "data": {
      "text/html": [
       "<div>\n",
       "<style scoped>\n",
       "    .dataframe tbody tr th:only-of-type {\n",
       "        vertical-align: middle;\n",
       "    }\n",
       "\n",
       "    .dataframe tbody tr th {\n",
       "        vertical-align: top;\n",
       "    }\n",
       "\n",
       "    .dataframe thead th {\n",
       "        text-align: right;\n",
       "    }\n",
       "</style>\n",
       "<table border=\"1\" class=\"dataframe\">\n",
       "  <thead>\n",
       "    <tr style=\"text-align: right;\">\n",
       "      <th></th>\n",
       "      <th>ID</th>\n",
       "      <th>RecordedDate</th>\n",
       "      <th>ResponseId</th>\n",
       "      <th>Q1</th>\n",
       "      <th>Q2</th>\n",
       "      <th>Q3</th>\n",
       "      <th>Q4</th>\n",
       "      <th>Q5</th>\n",
       "      <th>Zip</th>\n",
       "    </tr>\n",
       "  </thead>\n",
       "  <tbody>\n",
       "    <tr>\n",
       "      <th>8</th>\n",
       "      <td>9</td>\n",
       "      <td>5/26/17 12:27</td>\n",
       "      <td>R_55fwSH6T</td>\n",
       "      <td>1</td>\n",
       "      <td>2</td>\n",
       "      <td>5</td>\n",
       "      <td>1</td>\n",
       "      <td>1</td>\n",
       "      <td>91097</td>\n",
       "    </tr>\n",
       "    <tr>\n",
       "      <th>17</th>\n",
       "      <td>18</td>\n",
       "      <td>5/26/17 13:39</td>\n",
       "      <td>R_6FLGJ88c</td>\n",
       "      <td>1</td>\n",
       "      <td>1</td>\n",
       "      <td>5</td>\n",
       "      <td>1</td>\n",
       "      <td>2</td>\n",
       "      <td>91315</td>\n",
       "    </tr>\n",
       "    <tr>\n",
       "      <th>18</th>\n",
       "      <td>19</td>\n",
       "      <td>5/26/17 13:54</td>\n",
       "      <td>R_3phWbtaR</td>\n",
       "      <td>2</td>\n",
       "      <td>1</td>\n",
       "      <td>5</td>\n",
       "      <td>2</td>\n",
       "      <td>1</td>\n",
       "      <td>91070</td>\n",
       "    </tr>\n",
       "    <tr>\n",
       "      <th>20</th>\n",
       "      <td>21</td>\n",
       "      <td>5/26/17 14:28</td>\n",
       "      <td>R_8Bog9wHR</td>\n",
       "      <td>5</td>\n",
       "      <td>2</td>\n",
       "      <td>5</td>\n",
       "      <td>1</td>\n",
       "      <td>1</td>\n",
       "      <td>91098</td>\n",
       "    </tr>\n",
       "    <tr>\n",
       "      <th>26</th>\n",
       "      <td>27</td>\n",
       "      <td>5/26/17 14:44</td>\n",
       "      <td>R_2dSyxoGm</td>\n",
       "      <td>1</td>\n",
       "      <td>1</td>\n",
       "      <td>5</td>\n",
       "      <td>1</td>\n",
       "      <td>1</td>\n",
       "      <td>91118</td>\n",
       "    </tr>\n",
       "    <tr>\n",
       "      <th>36</th>\n",
       "      <td>37</td>\n",
       "      <td>5/26/17 15:55</td>\n",
       "      <td>R_3gMCxBfi</td>\n",
       "      <td>4</td>\n",
       "      <td>5</td>\n",
       "      <td>5</td>\n",
       "      <td>2</td>\n",
       "      <td>1</td>\n",
       "      <td>91014</td>\n",
       "    </tr>\n",
       "    <tr>\n",
       "      <th>38</th>\n",
       "      <td>39</td>\n",
       "      <td>5/26/17 16:10</td>\n",
       "      <td>R_A7LkPI7W</td>\n",
       "      <td>3</td>\n",
       "      <td>5</td>\n",
       "      <td>5</td>\n",
       "      <td>2</td>\n",
       "      <td>3</td>\n",
       "      <td>91015</td>\n",
       "    </tr>\n",
       "    <tr>\n",
       "      <th>44</th>\n",
       "      <td>45</td>\n",
       "      <td>5/26/17 17:33</td>\n",
       "      <td>R_2SfbYVBw</td>\n",
       "      <td>3</td>\n",
       "      <td>1</td>\n",
       "      <td>5</td>\n",
       "      <td>3</td>\n",
       "      <td>1</td>\n",
       "      <td>91606</td>\n",
       "    </tr>\n",
       "    <tr>\n",
       "      <th>45</th>\n",
       "      <td>46</td>\n",
       "      <td>5/26/17 17:48</td>\n",
       "      <td>R_6Kf35mW6</td>\n",
       "      <td>3</td>\n",
       "      <td>2</td>\n",
       "      <td>5</td>\n",
       "      <td>2</td>\n",
       "      <td>2</td>\n",
       "      <td>91111</td>\n",
       "    </tr>\n",
       "    <tr>\n",
       "      <th>50</th>\n",
       "      <td>51</td>\n",
       "      <td>5/26/17 19:10</td>\n",
       "      <td>R_2atyfq5J</td>\n",
       "      <td>1</td>\n",
       "      <td>1</td>\n",
       "      <td>5</td>\n",
       "      <td>2</td>\n",
       "      <td>1</td>\n",
       "      <td>91074</td>\n",
       "    </tr>\n",
       "    <tr>\n",
       "      <th>63</th>\n",
       "      <td>64</td>\n",
       "      <td>5/30/17 15:25</td>\n",
       "      <td>R_3m2UKMJK</td>\n",
       "      <td>2</td>\n",
       "      <td>2</td>\n",
       "      <td>5</td>\n",
       "      <td>1</td>\n",
       "      <td>1</td>\n",
       "      <td>91105</td>\n",
       "    </tr>\n",
       "    <tr>\n",
       "      <th>75</th>\n",
       "      <td>76</td>\n",
       "      <td>5/30/17 16:50</td>\n",
       "      <td>R_6eVRfDUN</td>\n",
       "      <td>5</td>\n",
       "      <td>3</td>\n",
       "      <td>5</td>\n",
       "      <td>1</td>\n",
       "      <td>1</td>\n",
       "      <td>91015</td>\n",
       "    </tr>\n",
       "    <tr>\n",
       "      <th>80</th>\n",
       "      <td>81</td>\n",
       "      <td>5/30/17 17:01</td>\n",
       "      <td>R_6LGQKz3O</td>\n",
       "      <td>4</td>\n",
       "      <td>2</td>\n",
       "      <td>5</td>\n",
       "      <td>1</td>\n",
       "      <td>2</td>\n",
       "      <td>91403</td>\n",
       "    </tr>\n",
       "    <tr>\n",
       "      <th>82</th>\n",
       "      <td>83</td>\n",
       "      <td>5/30/17 17:04</td>\n",
       "      <td>R_yrP5LnHg</td>\n",
       "      <td>2</td>\n",
       "      <td>3</td>\n",
       "      <td>5</td>\n",
       "      <td>1</td>\n",
       "      <td>1</td>\n",
       "      <td>91404</td>\n",
       "    </tr>\n",
       "    <tr>\n",
       "      <th>86</th>\n",
       "      <td>87</td>\n",
       "      <td>5/30/17 17:22</td>\n",
       "      <td>R_3CT6fTji</td>\n",
       "      <td>2</td>\n",
       "      <td>2</td>\n",
       "      <td>5</td>\n",
       "      <td>1</td>\n",
       "      <td>1</td>\n",
       "      <td>91103</td>\n",
       "    </tr>\n",
       "    <tr>\n",
       "      <th>91</th>\n",
       "      <td>92</td>\n",
       "      <td>5/30/17 17:52</td>\n",
       "      <td>R_3h2HmvzJ</td>\n",
       "      <td>4</td>\n",
       "      <td>2</td>\n",
       "      <td>5</td>\n",
       "      <td>1</td>\n",
       "      <td>1</td>\n",
       "      <td>91103</td>\n",
       "    </tr>\n",
       "    <tr>\n",
       "      <th>92</th>\n",
       "      <td>93</td>\n",
       "      <td>5/30/17 17:53</td>\n",
       "      <td>R_22lgGix0</td>\n",
       "      <td>5</td>\n",
       "      <td>2</td>\n",
       "      <td>5</td>\n",
       "      <td>2</td>\n",
       "      <td>1</td>\n",
       "      <td>91070</td>\n",
       "    </tr>\n",
       "    <tr>\n",
       "      <th>100</th>\n",
       "      <td>101</td>\n",
       "      <td>5/30/17 18:36</td>\n",
       "      <td>R_A7ivKlc7</td>\n",
       "      <td>5</td>\n",
       "      <td>5</td>\n",
       "      <td>5</td>\n",
       "      <td>1</td>\n",
       "      <td>1</td>\n",
       "      <td>91120</td>\n",
       "    </tr>\n",
       "    <tr>\n",
       "      <th>123</th>\n",
       "      <td>124</td>\n",
       "      <td>5/30/17 20:55</td>\n",
       "      <td>R_8ukvYHyW</td>\n",
       "      <td>2</td>\n",
       "      <td>2</td>\n",
       "      <td>5</td>\n",
       "      <td>1</td>\n",
       "      <td>2</td>\n",
       "      <td>91318</td>\n",
       "    </tr>\n",
       "    <tr>\n",
       "      <th>125</th>\n",
       "      <td>126</td>\n",
       "      <td>5/30/17 21:08</td>\n",
       "      <td>R_2uVtVFKe</td>\n",
       "      <td>2</td>\n",
       "      <td>1</td>\n",
       "      <td>5</td>\n",
       "      <td>1</td>\n",
       "      <td>1</td>\n",
       "      <td>91501</td>\n",
       "    </tr>\n",
       "    <tr>\n",
       "      <th>132</th>\n",
       "      <td>133</td>\n",
       "      <td>5/30/17 21:31</td>\n",
       "      <td>R_3Mumzr9l</td>\n",
       "      <td>2</td>\n",
       "      <td>2</td>\n",
       "      <td>5</td>\n",
       "      <td>3</td>\n",
       "      <td>2</td>\n",
       "      <td>91104</td>\n",
       "    </tr>\n",
       "    <tr>\n",
       "      <th>143</th>\n",
       "      <td>144</td>\n",
       "      <td>5/30/17 22:05</td>\n",
       "      <td>R_3PplsYpP</td>\n",
       "      <td>4</td>\n",
       "      <td>4</td>\n",
       "      <td>5</td>\n",
       "      <td>1</td>\n",
       "      <td>2</td>\n",
       "      <td>91047</td>\n",
       "    </tr>\n",
       "    <tr>\n",
       "      <th>144</th>\n",
       "      <td>145</td>\n",
       "      <td>5/30/17 22:07</td>\n",
       "      <td>R_ymsINcEA</td>\n",
       "      <td>3</td>\n",
       "      <td>1</td>\n",
       "      <td>5</td>\n",
       "      <td>1</td>\n",
       "      <td>1</td>\n",
       "      <td>91116</td>\n",
       "    </tr>\n",
       "    <tr>\n",
       "      <th>146</th>\n",
       "      <td>147</td>\n",
       "      <td>5/30/17 22:18</td>\n",
       "      <td>R_vIWlI9Y6</td>\n",
       "      <td>5</td>\n",
       "      <td>4</td>\n",
       "      <td>5</td>\n",
       "      <td>1</td>\n",
       "      <td>1</td>\n",
       "      <td>91651</td>\n",
       "    </tr>\n",
       "    <tr>\n",
       "      <th>160</th>\n",
       "      <td>161</td>\n",
       "      <td>5/30/17 22:56</td>\n",
       "      <td>R_3FJrKCZl</td>\n",
       "      <td>4</td>\n",
       "      <td>2</td>\n",
       "      <td>5</td>\n",
       "      <td>2</td>\n",
       "      <td>1</td>\n",
       "      <td>91045</td>\n",
       "    </tr>\n",
       "    <tr>\n",
       "      <th>162</th>\n",
       "      <td>163</td>\n",
       "      <td>5/30/17 23:05</td>\n",
       "      <td>R_6C7vi2ow</td>\n",
       "      <td>2</td>\n",
       "      <td>5</td>\n",
       "      <td>5</td>\n",
       "      <td>1</td>\n",
       "      <td>1</td>\n",
       "      <td>91601</td>\n",
       "    </tr>\n",
       "    <tr>\n",
       "      <th>167</th>\n",
       "      <td>168</td>\n",
       "      <td>5/30/17 23:11</td>\n",
       "      <td>R_3kHOq4Ki</td>\n",
       "      <td>4</td>\n",
       "      <td>2</td>\n",
       "      <td>5</td>\n",
       "      <td>3</td>\n",
       "      <td>2</td>\n",
       "      <td>91124</td>\n",
       "    </tr>\n",
       "    <tr>\n",
       "      <th>172</th>\n",
       "      <td>173</td>\n",
       "      <td>5/30/17 23:31</td>\n",
       "      <td>R_6r7ERDXC</td>\n",
       "      <td>2</td>\n",
       "      <td>1</td>\n",
       "      <td>5</td>\n",
       "      <td>2</td>\n",
       "      <td>1</td>\n",
       "      <td>91041</td>\n",
       "    </tr>\n",
       "  </tbody>\n",
       "</table>\n",
       "</div>"
      ],
      "text/plain": [
       "      ID   RecordedDate  ResponseId  Q1  Q2  Q3  Q4  Q5    Zip\n",
       "8      9  5/26/17 12:27  R_55fwSH6T   1   2   5   1   1  91097\n",
       "17    18  5/26/17 13:39  R_6FLGJ88c   1   1   5   1   2  91315\n",
       "18    19  5/26/17 13:54  R_3phWbtaR   2   1   5   2   1  91070\n",
       "20    21  5/26/17 14:28  R_8Bog9wHR   5   2   5   1   1  91098\n",
       "26    27  5/26/17 14:44  R_2dSyxoGm   1   1   5   1   1  91118\n",
       "36    37  5/26/17 15:55  R_3gMCxBfi   4   5   5   2   1  91014\n",
       "38    39  5/26/17 16:10  R_A7LkPI7W   3   5   5   2   3  91015\n",
       "44    45  5/26/17 17:33  R_2SfbYVBw   3   1   5   3   1  91606\n",
       "45    46  5/26/17 17:48  R_6Kf35mW6   3   2   5   2   2  91111\n",
       "50    51  5/26/17 19:10  R_2atyfq5J   1   1   5   2   1  91074\n",
       "63    64  5/30/17 15:25  R_3m2UKMJK   2   2   5   1   1  91105\n",
       "75    76  5/30/17 16:50  R_6eVRfDUN   5   3   5   1   1  91015\n",
       "80    81  5/30/17 17:01  R_6LGQKz3O   4   2   5   1   2  91403\n",
       "82    83  5/30/17 17:04  R_yrP5LnHg   2   3   5   1   1  91404\n",
       "86    87  5/30/17 17:22  R_3CT6fTji   2   2   5   1   1  91103\n",
       "91    92  5/30/17 17:52  R_3h2HmvzJ   4   2   5   1   1  91103\n",
       "92    93  5/30/17 17:53  R_22lgGix0   5   2   5   2   1  91070\n",
       "100  101  5/30/17 18:36  R_A7ivKlc7   5   5   5   1   1  91120\n",
       "123  124  5/30/17 20:55  R_8ukvYHyW   2   2   5   1   2  91318\n",
       "125  126  5/30/17 21:08  R_2uVtVFKe   2   1   5   1   1  91501\n",
       "132  133  5/30/17 21:31  R_3Mumzr9l   2   2   5   3   2  91104\n",
       "143  144  5/30/17 22:05  R_3PplsYpP   4   4   5   1   2  91047\n",
       "144  145  5/30/17 22:07  R_ymsINcEA   3   1   5   1   1  91116\n",
       "146  147  5/30/17 22:18  R_vIWlI9Y6   5   4   5   1   1  91651\n",
       "160  161  5/30/17 22:56  R_3FJrKCZl   4   2   5   2   1  91045\n",
       "162  163  5/30/17 23:05  R_6C7vi2ow   2   5   5   1   1  91601\n",
       "167  168  5/30/17 23:11  R_3kHOq4Ki   4   2   5   3   2  91124\n",
       "172  173  5/30/17 23:31  R_6r7ERDXC   2   1   5   2   1  91041"
      ]
     },
     "execution_count": 47,
     "metadata": {},
     "output_type": "execute_result"
    }
   ],
   "source": [
    "df[df.Q3==df.Q3.max()]"
   ]
  },
  {
   "cell_type": "code",
   "execution_count": 54,
   "id": "dbf770bd",
   "metadata": {},
   "outputs": [],
   "source": [
    "df=pd.read_excel(\"C:\\Martin james\\Data Science\\Python Project\\Superstore.xls\")"
   ]
  },
  {
   "cell_type": "code",
   "execution_count": 55,
   "id": "c2bbc7af",
   "metadata": {},
   "outputs": [
    {
     "data": {
      "text/html": [
       "<div>\n",
       "<style scoped>\n",
       "    .dataframe tbody tr th:only-of-type {\n",
       "        vertical-align: middle;\n",
       "    }\n",
       "\n",
       "    .dataframe tbody tr th {\n",
       "        vertical-align: top;\n",
       "    }\n",
       "\n",
       "    .dataframe thead th {\n",
       "        text-align: right;\n",
       "    }\n",
       "</style>\n",
       "<table border=\"1\" class=\"dataframe\">\n",
       "  <thead>\n",
       "    <tr style=\"text-align: right;\">\n",
       "      <th></th>\n",
       "      <th>Row ID</th>\n",
       "      <th>Order ID</th>\n",
       "      <th>Order Date</th>\n",
       "      <th>Ship Date</th>\n",
       "      <th>Ship Mode</th>\n",
       "      <th>Customer ID</th>\n",
       "      <th>Customer Name</th>\n",
       "      <th>Segment</th>\n",
       "      <th>Country</th>\n",
       "      <th>City</th>\n",
       "      <th>...</th>\n",
       "      <th>Postal Code</th>\n",
       "      <th>Region</th>\n",
       "      <th>Product ID</th>\n",
       "      <th>Category</th>\n",
       "      <th>Sub-Category</th>\n",
       "      <th>Product Name</th>\n",
       "      <th>Sales</th>\n",
       "      <th>Quantity</th>\n",
       "      <th>Discount</th>\n",
       "      <th>Profit</th>\n",
       "    </tr>\n",
       "  </thead>\n",
       "  <tbody>\n",
       "    <tr>\n",
       "      <th>0</th>\n",
       "      <td>7981</td>\n",
       "      <td>CA-2011-103800</td>\n",
       "      <td>2013-01-03</td>\n",
       "      <td>2013-01-07</td>\n",
       "      <td>Standard Class</td>\n",
       "      <td>DP-13000</td>\n",
       "      <td>Darren Powers</td>\n",
       "      <td>Consumer</td>\n",
       "      <td>United States</td>\n",
       "      <td>Houston</td>\n",
       "      <td>...</td>\n",
       "      <td>77095</td>\n",
       "      <td>Central</td>\n",
       "      <td>OFF-PA-10000174</td>\n",
       "      <td>Office Supplies</td>\n",
       "      <td>Paper</td>\n",
       "      <td>Message Book, Wirebound, Four 5 1/2\" X 4\" Form...</td>\n",
       "      <td>16.448</td>\n",
       "      <td>2</td>\n",
       "      <td>0.2</td>\n",
       "      <td>5.5512</td>\n",
       "    </tr>\n",
       "    <tr>\n",
       "      <th>1</th>\n",
       "      <td>740</td>\n",
       "      <td>CA-2011-112326</td>\n",
       "      <td>2013-01-04</td>\n",
       "      <td>2013-01-08</td>\n",
       "      <td>Standard Class</td>\n",
       "      <td>PO-19195</td>\n",
       "      <td>Phillina Ober</td>\n",
       "      <td>Home Office</td>\n",
       "      <td>United States</td>\n",
       "      <td>Naperville</td>\n",
       "      <td>...</td>\n",
       "      <td>60540</td>\n",
       "      <td>Central</td>\n",
       "      <td>OFF-LA-10003223</td>\n",
       "      <td>Office Supplies</td>\n",
       "      <td>Labels</td>\n",
       "      <td>Avery 508</td>\n",
       "      <td>11.784</td>\n",
       "      <td>3</td>\n",
       "      <td>0.2</td>\n",
       "      <td>4.2717</td>\n",
       "    </tr>\n",
       "    <tr>\n",
       "      <th>2</th>\n",
       "      <td>741</td>\n",
       "      <td>CA-2011-112326</td>\n",
       "      <td>2013-01-04</td>\n",
       "      <td>2013-01-08</td>\n",
       "      <td>Standard Class</td>\n",
       "      <td>PO-19195</td>\n",
       "      <td>Phillina Ober</td>\n",
       "      <td>Home Office</td>\n",
       "      <td>United States</td>\n",
       "      <td>Naperville</td>\n",
       "      <td>...</td>\n",
       "      <td>60540</td>\n",
       "      <td>Central</td>\n",
       "      <td>OFF-ST-10002743</td>\n",
       "      <td>Office Supplies</td>\n",
       "      <td>Storage</td>\n",
       "      <td>SAFCO Boltless Steel Shelving</td>\n",
       "      <td>272.736</td>\n",
       "      <td>3</td>\n",
       "      <td>0.2</td>\n",
       "      <td>-64.7748</td>\n",
       "    </tr>\n",
       "    <tr>\n",
       "      <th>3</th>\n",
       "      <td>742</td>\n",
       "      <td>CA-2011-112326</td>\n",
       "      <td>2013-01-04</td>\n",
       "      <td>2013-01-08</td>\n",
       "      <td>Standard Class</td>\n",
       "      <td>PO-19195</td>\n",
       "      <td>Phillina Ober</td>\n",
       "      <td>Home Office</td>\n",
       "      <td>United States</td>\n",
       "      <td>Naperville</td>\n",
       "      <td>...</td>\n",
       "      <td>60540</td>\n",
       "      <td>Central</td>\n",
       "      <td>OFF-BI-10004094</td>\n",
       "      <td>Office Supplies</td>\n",
       "      <td>Binders</td>\n",
       "      <td>GBC Standard Plastic Binding Systems Combs</td>\n",
       "      <td>3.540</td>\n",
       "      <td>2</td>\n",
       "      <td>0.8</td>\n",
       "      <td>-5.4870</td>\n",
       "    </tr>\n",
       "    <tr>\n",
       "      <th>4</th>\n",
       "      <td>1760</td>\n",
       "      <td>CA-2011-141817</td>\n",
       "      <td>2013-01-05</td>\n",
       "      <td>2013-01-12</td>\n",
       "      <td>Standard Class</td>\n",
       "      <td>MB-18085</td>\n",
       "      <td>Mick Brown</td>\n",
       "      <td>Consumer</td>\n",
       "      <td>United States</td>\n",
       "      <td>Philadelphia</td>\n",
       "      <td>...</td>\n",
       "      <td>19143</td>\n",
       "      <td>East</td>\n",
       "      <td>OFF-AR-10003478</td>\n",
       "      <td>Office Supplies</td>\n",
       "      <td>Art</td>\n",
       "      <td>Avery Hi-Liter EverBold Pen Style Fluorescent ...</td>\n",
       "      <td>19.536</td>\n",
       "      <td>3</td>\n",
       "      <td>0.2</td>\n",
       "      <td>4.8840</td>\n",
       "    </tr>\n",
       "    <tr>\n",
       "      <th>...</th>\n",
       "      <td>...</td>\n",
       "      <td>...</td>\n",
       "      <td>...</td>\n",
       "      <td>...</td>\n",
       "      <td>...</td>\n",
       "      <td>...</td>\n",
       "      <td>...</td>\n",
       "      <td>...</td>\n",
       "      <td>...</td>\n",
       "      <td>...</td>\n",
       "      <td>...</td>\n",
       "      <td>...</td>\n",
       "      <td>...</td>\n",
       "      <td>...</td>\n",
       "      <td>...</td>\n",
       "      <td>...</td>\n",
       "      <td>...</td>\n",
       "      <td>...</td>\n",
       "      <td>...</td>\n",
       "      <td>...</td>\n",
       "      <td>...</td>\n",
       "    </tr>\n",
       "    <tr>\n",
       "      <th>9989</th>\n",
       "      <td>908</td>\n",
       "      <td>CA-2014-143259</td>\n",
       "      <td>2016-12-30</td>\n",
       "      <td>2017-01-03</td>\n",
       "      <td>Standard Class</td>\n",
       "      <td>PO-18865</td>\n",
       "      <td>Patrick O'Donnell</td>\n",
       "      <td>Consumer</td>\n",
       "      <td>United States</td>\n",
       "      <td>New York City</td>\n",
       "      <td>...</td>\n",
       "      <td>10009</td>\n",
       "      <td>East</td>\n",
       "      <td>TEC-PH-10004774</td>\n",
       "      <td>Technology</td>\n",
       "      <td>Phones</td>\n",
       "      <td>Gear Head AU3700S Headset</td>\n",
       "      <td>90.930</td>\n",
       "      <td>7</td>\n",
       "      <td>0.0</td>\n",
       "      <td>2.7279</td>\n",
       "    </tr>\n",
       "    <tr>\n",
       "      <th>9990</th>\n",
       "      <td>909</td>\n",
       "      <td>CA-2014-143259</td>\n",
       "      <td>2016-12-30</td>\n",
       "      <td>2017-01-03</td>\n",
       "      <td>Standard Class</td>\n",
       "      <td>PO-18865</td>\n",
       "      <td>Patrick O'Donnell</td>\n",
       "      <td>Consumer</td>\n",
       "      <td>United States</td>\n",
       "      <td>New York City</td>\n",
       "      <td>...</td>\n",
       "      <td>10009</td>\n",
       "      <td>East</td>\n",
       "      <td>OFF-BI-10003684</td>\n",
       "      <td>Office Supplies</td>\n",
       "      <td>Binders</td>\n",
       "      <td>Wilson Jones Legal Size Ring Binders</td>\n",
       "      <td>52.776</td>\n",
       "      <td>3</td>\n",
       "      <td>0.2</td>\n",
       "      <td>19.7910</td>\n",
       "    </tr>\n",
       "    <tr>\n",
       "      <th>9991</th>\n",
       "      <td>1297</td>\n",
       "      <td>CA-2014-115427</td>\n",
       "      <td>2016-12-30</td>\n",
       "      <td>2017-01-03</td>\n",
       "      <td>Standard Class</td>\n",
       "      <td>EB-13975</td>\n",
       "      <td>Erica Bern</td>\n",
       "      <td>Corporate</td>\n",
       "      <td>United States</td>\n",
       "      <td>Fairfield</td>\n",
       "      <td>...</td>\n",
       "      <td>94533</td>\n",
       "      <td>West</td>\n",
       "      <td>OFF-BI-10002103</td>\n",
       "      <td>Office Supplies</td>\n",
       "      <td>Binders</td>\n",
       "      <td>Cardinal Slant-D Ring Binder, Heavy Gauge Vinyl</td>\n",
       "      <td>13.904</td>\n",
       "      <td>2</td>\n",
       "      <td>0.2</td>\n",
       "      <td>4.5188</td>\n",
       "    </tr>\n",
       "    <tr>\n",
       "      <th>9992</th>\n",
       "      <td>1298</td>\n",
       "      <td>CA-2014-115427</td>\n",
       "      <td>2016-12-30</td>\n",
       "      <td>2017-01-03</td>\n",
       "      <td>Standard Class</td>\n",
       "      <td>EB-13975</td>\n",
       "      <td>Erica Bern</td>\n",
       "      <td>Corporate</td>\n",
       "      <td>United States</td>\n",
       "      <td>Fairfield</td>\n",
       "      <td>...</td>\n",
       "      <td>94533</td>\n",
       "      <td>West</td>\n",
       "      <td>OFF-BI-10004632</td>\n",
       "      <td>Office Supplies</td>\n",
       "      <td>Binders</td>\n",
       "      <td>GBC Binding covers</td>\n",
       "      <td>20.720</td>\n",
       "      <td>2</td>\n",
       "      <td>0.2</td>\n",
       "      <td>6.4750</td>\n",
       "    </tr>\n",
       "    <tr>\n",
       "      <th>9993</th>\n",
       "      <td>5092</td>\n",
       "      <td>CA-2014-156720</td>\n",
       "      <td>2016-12-30</td>\n",
       "      <td>2017-01-03</td>\n",
       "      <td>Standard Class</td>\n",
       "      <td>JM-15580</td>\n",
       "      <td>Jill Matthias</td>\n",
       "      <td>Consumer</td>\n",
       "      <td>United States</td>\n",
       "      <td>Loveland</td>\n",
       "      <td>...</td>\n",
       "      <td>80538</td>\n",
       "      <td>West</td>\n",
       "      <td>OFF-FA-10003472</td>\n",
       "      <td>Office Supplies</td>\n",
       "      <td>Fasteners</td>\n",
       "      <td>Bagged Rubber Bands</td>\n",
       "      <td>3.024</td>\n",
       "      <td>3</td>\n",
       "      <td>0.2</td>\n",
       "      <td>-0.6048</td>\n",
       "    </tr>\n",
       "  </tbody>\n",
       "</table>\n",
       "<p>9994 rows × 21 columns</p>\n",
       "</div>"
      ],
      "text/plain": [
       "      Row ID        Order ID Order Date  Ship Date       Ship Mode  \\\n",
       "0       7981  CA-2011-103800 2013-01-03 2013-01-07  Standard Class   \n",
       "1        740  CA-2011-112326 2013-01-04 2013-01-08  Standard Class   \n",
       "2        741  CA-2011-112326 2013-01-04 2013-01-08  Standard Class   \n",
       "3        742  CA-2011-112326 2013-01-04 2013-01-08  Standard Class   \n",
       "4       1760  CA-2011-141817 2013-01-05 2013-01-12  Standard Class   \n",
       "...      ...             ...        ...        ...             ...   \n",
       "9989     908  CA-2014-143259 2016-12-30 2017-01-03  Standard Class   \n",
       "9990     909  CA-2014-143259 2016-12-30 2017-01-03  Standard Class   \n",
       "9991    1297  CA-2014-115427 2016-12-30 2017-01-03  Standard Class   \n",
       "9992    1298  CA-2014-115427 2016-12-30 2017-01-03  Standard Class   \n",
       "9993    5092  CA-2014-156720 2016-12-30 2017-01-03  Standard Class   \n",
       "\n",
       "     Customer ID      Customer Name      Segment        Country  \\\n",
       "0       DP-13000      Darren Powers     Consumer  United States   \n",
       "1       PO-19195      Phillina Ober  Home Office  United States   \n",
       "2       PO-19195      Phillina Ober  Home Office  United States   \n",
       "3       PO-19195      Phillina Ober  Home Office  United States   \n",
       "4       MB-18085         Mick Brown     Consumer  United States   \n",
       "...          ...                ...          ...            ...   \n",
       "9989    PO-18865  Patrick O'Donnell     Consumer  United States   \n",
       "9990    PO-18865  Patrick O'Donnell     Consumer  United States   \n",
       "9991    EB-13975         Erica Bern    Corporate  United States   \n",
       "9992    EB-13975         Erica Bern    Corporate  United States   \n",
       "9993    JM-15580      Jill Matthias     Consumer  United States   \n",
       "\n",
       "               City  ... Postal Code   Region       Product ID  \\\n",
       "0           Houston  ...       77095  Central  OFF-PA-10000174   \n",
       "1        Naperville  ...       60540  Central  OFF-LA-10003223   \n",
       "2        Naperville  ...       60540  Central  OFF-ST-10002743   \n",
       "3        Naperville  ...       60540  Central  OFF-BI-10004094   \n",
       "4      Philadelphia  ...       19143     East  OFF-AR-10003478   \n",
       "...             ...  ...         ...      ...              ...   \n",
       "9989  New York City  ...       10009     East  TEC-PH-10004774   \n",
       "9990  New York City  ...       10009     East  OFF-BI-10003684   \n",
       "9991      Fairfield  ...       94533     West  OFF-BI-10002103   \n",
       "9992      Fairfield  ...       94533     West  OFF-BI-10004632   \n",
       "9993       Loveland  ...       80538     West  OFF-FA-10003472   \n",
       "\n",
       "             Category Sub-Category  \\\n",
       "0     Office Supplies        Paper   \n",
       "1     Office Supplies       Labels   \n",
       "2     Office Supplies      Storage   \n",
       "3     Office Supplies      Binders   \n",
       "4     Office Supplies          Art   \n",
       "...               ...          ...   \n",
       "9989       Technology       Phones   \n",
       "9990  Office Supplies      Binders   \n",
       "9991  Office Supplies      Binders   \n",
       "9992  Office Supplies      Binders   \n",
       "9993  Office Supplies    Fasteners   \n",
       "\n",
       "                                           Product Name    Sales  Quantity  \\\n",
       "0     Message Book, Wirebound, Four 5 1/2\" X 4\" Form...   16.448         2   \n",
       "1                                             Avery 508   11.784         3   \n",
       "2                         SAFCO Boltless Steel Shelving  272.736         3   \n",
       "3            GBC Standard Plastic Binding Systems Combs    3.540         2   \n",
       "4     Avery Hi-Liter EverBold Pen Style Fluorescent ...   19.536         3   \n",
       "...                                                 ...      ...       ...   \n",
       "9989                          Gear Head AU3700S Headset   90.930         7   \n",
       "9990               Wilson Jones Legal Size Ring Binders   52.776         3   \n",
       "9991    Cardinal Slant-D Ring Binder, Heavy Gauge Vinyl   13.904         2   \n",
       "9992                                 GBC Binding covers   20.720         2   \n",
       "9993                                Bagged Rubber Bands    3.024         3   \n",
       "\n",
       "      Discount   Profit  \n",
       "0          0.2   5.5512  \n",
       "1          0.2   4.2717  \n",
       "2          0.2 -64.7748  \n",
       "3          0.8  -5.4870  \n",
       "4          0.2   4.8840  \n",
       "...        ...      ...  \n",
       "9989       0.0   2.7279  \n",
       "9990       0.2  19.7910  \n",
       "9991       0.2   4.5188  \n",
       "9992       0.2   6.4750  \n",
       "9993       0.2  -0.6048  \n",
       "\n",
       "[9994 rows x 21 columns]"
      ]
     },
     "execution_count": 55,
     "metadata": {},
     "output_type": "execute_result"
    }
   ],
   "source": [
    "df"
   ]
  },
  {
   "cell_type": "code",
   "execution_count": 56,
   "id": "350b7abc",
   "metadata": {},
   "outputs": [
    {
     "data": {
      "text/html": [
       "<div>\n",
       "<style scoped>\n",
       "    .dataframe tbody tr th:only-of-type {\n",
       "        vertical-align: middle;\n",
       "    }\n",
       "\n",
       "    .dataframe tbody tr th {\n",
       "        vertical-align: top;\n",
       "    }\n",
       "\n",
       "    .dataframe thead th {\n",
       "        text-align: right;\n",
       "    }\n",
       "</style>\n",
       "<table border=\"1\" class=\"dataframe\">\n",
       "  <thead>\n",
       "    <tr style=\"text-align: right;\">\n",
       "      <th></th>\n",
       "      <th>Row ID</th>\n",
       "      <th>Order ID</th>\n",
       "      <th>Order Date</th>\n",
       "      <th>Ship Date</th>\n",
       "      <th>Ship Mode</th>\n",
       "      <th>Customer ID</th>\n",
       "      <th>Customer Name</th>\n",
       "      <th>Segment</th>\n",
       "      <th>Country</th>\n",
       "      <th>City</th>\n",
       "      <th>...</th>\n",
       "      <th>Postal Code</th>\n",
       "      <th>Region</th>\n",
       "      <th>Product ID</th>\n",
       "      <th>Category</th>\n",
       "      <th>Sub-Category</th>\n",
       "      <th>Product Name</th>\n",
       "      <th>Sales</th>\n",
       "      <th>Quantity</th>\n",
       "      <th>Discount</th>\n",
       "      <th>Profit</th>\n",
       "    </tr>\n",
       "  </thead>\n",
       "  <tbody>\n",
       "    <tr>\n",
       "      <th>0</th>\n",
       "      <td>7981</td>\n",
       "      <td>CA-2011-103800</td>\n",
       "      <td>2013-01-03</td>\n",
       "      <td>2013-01-07</td>\n",
       "      <td>Standard Class</td>\n",
       "      <td>DP-13000</td>\n",
       "      <td>Darren Powers</td>\n",
       "      <td>Consumer</td>\n",
       "      <td>United States</td>\n",
       "      <td>Houston</td>\n",
       "      <td>...</td>\n",
       "      <td>77095</td>\n",
       "      <td>Central</td>\n",
       "      <td>OFF-PA-10000174</td>\n",
       "      <td>Office Supplies</td>\n",
       "      <td>Paper</td>\n",
       "      <td>Message Book, Wirebound, Four 5 1/2\" X 4\" Form...</td>\n",
       "      <td>16.448</td>\n",
       "      <td>2</td>\n",
       "      <td>0.2</td>\n",
       "      <td>5.5512</td>\n",
       "    </tr>\n",
       "    <tr>\n",
       "      <th>1</th>\n",
       "      <td>740</td>\n",
       "      <td>CA-2011-112326</td>\n",
       "      <td>2013-01-04</td>\n",
       "      <td>2013-01-08</td>\n",
       "      <td>Standard Class</td>\n",
       "      <td>PO-19195</td>\n",
       "      <td>Phillina Ober</td>\n",
       "      <td>Home Office</td>\n",
       "      <td>United States</td>\n",
       "      <td>Naperville</td>\n",
       "      <td>...</td>\n",
       "      <td>60540</td>\n",
       "      <td>Central</td>\n",
       "      <td>OFF-LA-10003223</td>\n",
       "      <td>Office Supplies</td>\n",
       "      <td>Labels</td>\n",
       "      <td>Avery 508</td>\n",
       "      <td>11.784</td>\n",
       "      <td>3</td>\n",
       "      <td>0.2</td>\n",
       "      <td>4.2717</td>\n",
       "    </tr>\n",
       "    <tr>\n",
       "      <th>2</th>\n",
       "      <td>741</td>\n",
       "      <td>CA-2011-112326</td>\n",
       "      <td>2013-01-04</td>\n",
       "      <td>2013-01-08</td>\n",
       "      <td>Standard Class</td>\n",
       "      <td>PO-19195</td>\n",
       "      <td>Phillina Ober</td>\n",
       "      <td>Home Office</td>\n",
       "      <td>United States</td>\n",
       "      <td>Naperville</td>\n",
       "      <td>...</td>\n",
       "      <td>60540</td>\n",
       "      <td>Central</td>\n",
       "      <td>OFF-ST-10002743</td>\n",
       "      <td>Office Supplies</td>\n",
       "      <td>Storage</td>\n",
       "      <td>SAFCO Boltless Steel Shelving</td>\n",
       "      <td>272.736</td>\n",
       "      <td>3</td>\n",
       "      <td>0.2</td>\n",
       "      <td>-64.7748</td>\n",
       "    </tr>\n",
       "    <tr>\n",
       "      <th>3</th>\n",
       "      <td>742</td>\n",
       "      <td>CA-2011-112326</td>\n",
       "      <td>2013-01-04</td>\n",
       "      <td>2013-01-08</td>\n",
       "      <td>Standard Class</td>\n",
       "      <td>PO-19195</td>\n",
       "      <td>Phillina Ober</td>\n",
       "      <td>Home Office</td>\n",
       "      <td>United States</td>\n",
       "      <td>Naperville</td>\n",
       "      <td>...</td>\n",
       "      <td>60540</td>\n",
       "      <td>Central</td>\n",
       "      <td>OFF-BI-10004094</td>\n",
       "      <td>Office Supplies</td>\n",
       "      <td>Binders</td>\n",
       "      <td>GBC Standard Plastic Binding Systems Combs</td>\n",
       "      <td>3.540</td>\n",
       "      <td>2</td>\n",
       "      <td>0.8</td>\n",
       "      <td>-5.4870</td>\n",
       "    </tr>\n",
       "    <tr>\n",
       "      <th>4</th>\n",
       "      <td>1760</td>\n",
       "      <td>CA-2011-141817</td>\n",
       "      <td>2013-01-05</td>\n",
       "      <td>2013-01-12</td>\n",
       "      <td>Standard Class</td>\n",
       "      <td>MB-18085</td>\n",
       "      <td>Mick Brown</td>\n",
       "      <td>Consumer</td>\n",
       "      <td>United States</td>\n",
       "      <td>Philadelphia</td>\n",
       "      <td>...</td>\n",
       "      <td>19143</td>\n",
       "      <td>East</td>\n",
       "      <td>OFF-AR-10003478</td>\n",
       "      <td>Office Supplies</td>\n",
       "      <td>Art</td>\n",
       "      <td>Avery Hi-Liter EverBold Pen Style Fluorescent ...</td>\n",
       "      <td>19.536</td>\n",
       "      <td>3</td>\n",
       "      <td>0.2</td>\n",
       "      <td>4.8840</td>\n",
       "    </tr>\n",
       "  </tbody>\n",
       "</table>\n",
       "<p>5 rows × 21 columns</p>\n",
       "</div>"
      ],
      "text/plain": [
       "   Row ID        Order ID Order Date  Ship Date       Ship Mode Customer ID  \\\n",
       "0    7981  CA-2011-103800 2013-01-03 2013-01-07  Standard Class    DP-13000   \n",
       "1     740  CA-2011-112326 2013-01-04 2013-01-08  Standard Class    PO-19195   \n",
       "2     741  CA-2011-112326 2013-01-04 2013-01-08  Standard Class    PO-19195   \n",
       "3     742  CA-2011-112326 2013-01-04 2013-01-08  Standard Class    PO-19195   \n",
       "4    1760  CA-2011-141817 2013-01-05 2013-01-12  Standard Class    MB-18085   \n",
       "\n",
       "   Customer Name      Segment        Country          City  ... Postal Code  \\\n",
       "0  Darren Powers     Consumer  United States       Houston  ...       77095   \n",
       "1  Phillina Ober  Home Office  United States    Naperville  ...       60540   \n",
       "2  Phillina Ober  Home Office  United States    Naperville  ...       60540   \n",
       "3  Phillina Ober  Home Office  United States    Naperville  ...       60540   \n",
       "4     Mick Brown     Consumer  United States  Philadelphia  ...       19143   \n",
       "\n",
       "    Region       Product ID         Category Sub-Category  \\\n",
       "0  Central  OFF-PA-10000174  Office Supplies        Paper   \n",
       "1  Central  OFF-LA-10003223  Office Supplies       Labels   \n",
       "2  Central  OFF-ST-10002743  Office Supplies      Storage   \n",
       "3  Central  OFF-BI-10004094  Office Supplies      Binders   \n",
       "4     East  OFF-AR-10003478  Office Supplies          Art   \n",
       "\n",
       "                                        Product Name    Sales  Quantity  \\\n",
       "0  Message Book, Wirebound, Four 5 1/2\" X 4\" Form...   16.448         2   \n",
       "1                                          Avery 508   11.784         3   \n",
       "2                      SAFCO Boltless Steel Shelving  272.736         3   \n",
       "3         GBC Standard Plastic Binding Systems Combs    3.540         2   \n",
       "4  Avery Hi-Liter EverBold Pen Style Fluorescent ...   19.536         3   \n",
       "\n",
       "   Discount   Profit  \n",
       "0       0.2   5.5512  \n",
       "1       0.2   4.2717  \n",
       "2       0.2 -64.7748  \n",
       "3       0.8  -5.4870  \n",
       "4       0.2   4.8840  \n",
       "\n",
       "[5 rows x 21 columns]"
      ]
     },
     "execution_count": 56,
     "metadata": {},
     "output_type": "execute_result"
    }
   ],
   "source": [
    "df.head()"
   ]
  },
  {
   "cell_type": "code",
   "execution_count": 58,
   "id": "3724ec8c",
   "metadata": {},
   "outputs": [
    {
     "data": {
      "text/plain": [
       "(9994, 21)"
      ]
     },
     "execution_count": 58,
     "metadata": {},
     "output_type": "execute_result"
    }
   ],
   "source": [
    "df.shape"
   ]
  },
  {
   "cell_type": "code",
   "execution_count": 62,
   "id": "e49e40af",
   "metadata": {},
   "outputs": [
    {
     "data": {
      "text/plain": [
       "count    9994.000000\n",
       "mean        3.789574\n",
       "std         2.225110\n",
       "min         1.000000\n",
       "25%         2.000000\n",
       "50%         3.000000\n",
       "75%         5.000000\n",
       "max        14.000000\n",
       "Name: Quantity, dtype: float64"
      ]
     },
     "execution_count": 62,
     "metadata": {},
     "output_type": "execute_result"
    }
   ],
   "source": [
    "df['Quantity'].describe()"
   ]
  },
  {
   "cell_type": "code",
   "execution_count": 63,
   "id": "c22977a0",
   "metadata": {},
   "outputs": [
    {
     "data": {
      "text/html": [
       "<div>\n",
       "<style scoped>\n",
       "    .dataframe tbody tr th:only-of-type {\n",
       "        vertical-align: middle;\n",
       "    }\n",
       "\n",
       "    .dataframe tbody tr th {\n",
       "        vertical-align: top;\n",
       "    }\n",
       "\n",
       "    .dataframe thead th {\n",
       "        text-align: right;\n",
       "    }\n",
       "</style>\n",
       "<table border=\"1\" class=\"dataframe\">\n",
       "  <thead>\n",
       "    <tr style=\"text-align: right;\">\n",
       "      <th></th>\n",
       "      <th>Row ID</th>\n",
       "      <th>Order ID</th>\n",
       "      <th>Order Date</th>\n",
       "      <th>Ship Date</th>\n",
       "      <th>Ship Mode</th>\n",
       "      <th>Customer ID</th>\n",
       "      <th>Customer Name</th>\n",
       "      <th>Segment</th>\n",
       "      <th>Country</th>\n",
       "      <th>City</th>\n",
       "      <th>...</th>\n",
       "      <th>Postal Code</th>\n",
       "      <th>Region</th>\n",
       "      <th>Product ID</th>\n",
       "      <th>Category</th>\n",
       "      <th>Sub-Category</th>\n",
       "      <th>Product Name</th>\n",
       "      <th>Sales</th>\n",
       "      <th>Quantity</th>\n",
       "      <th>Discount</th>\n",
       "      <th>Profit</th>\n",
       "    </tr>\n",
       "  </thead>\n",
       "  <tbody>\n",
       "    <tr>\n",
       "      <th>2</th>\n",
       "      <td>741</td>\n",
       "      <td>CA-2011-112326</td>\n",
       "      <td>2013-01-04</td>\n",
       "      <td>2013-01-08</td>\n",
       "      <td>Standard Class</td>\n",
       "      <td>PO-19195</td>\n",
       "      <td>Phillina Ober</td>\n",
       "      <td>Home Office</td>\n",
       "      <td>United States</td>\n",
       "      <td>Naperville</td>\n",
       "      <td>...</td>\n",
       "      <td>60540</td>\n",
       "      <td>Central</td>\n",
       "      <td>OFF-ST-10002743</td>\n",
       "      <td>Office Supplies</td>\n",
       "      <td>Storage</td>\n",
       "      <td>SAFCO Boltless Steel Shelving</td>\n",
       "      <td>272.736</td>\n",
       "      <td>3</td>\n",
       "      <td>0.2</td>\n",
       "      <td>-64.7748</td>\n",
       "    </tr>\n",
       "    <tr>\n",
       "      <th>3</th>\n",
       "      <td>742</td>\n",
       "      <td>CA-2011-112326</td>\n",
       "      <td>2013-01-04</td>\n",
       "      <td>2013-01-08</td>\n",
       "      <td>Standard Class</td>\n",
       "      <td>PO-19195</td>\n",
       "      <td>Phillina Ober</td>\n",
       "      <td>Home Office</td>\n",
       "      <td>United States</td>\n",
       "      <td>Naperville</td>\n",
       "      <td>...</td>\n",
       "      <td>60540</td>\n",
       "      <td>Central</td>\n",
       "      <td>OFF-BI-10004094</td>\n",
       "      <td>Office Supplies</td>\n",
       "      <td>Binders</td>\n",
       "      <td>GBC Standard Plastic Binding Systems Combs</td>\n",
       "      <td>3.540</td>\n",
       "      <td>2</td>\n",
       "      <td>0.8</td>\n",
       "      <td>-5.4870</td>\n",
       "    </tr>\n",
       "  </tbody>\n",
       "</table>\n",
       "<p>2 rows × 21 columns</p>\n",
       "</div>"
      ],
      "text/plain": [
       "   Row ID        Order ID Order Date  Ship Date       Ship Mode Customer ID  \\\n",
       "2     741  CA-2011-112326 2013-01-04 2013-01-08  Standard Class    PO-19195   \n",
       "3     742  CA-2011-112326 2013-01-04 2013-01-08  Standard Class    PO-19195   \n",
       "\n",
       "   Customer Name      Segment        Country        City  ... Postal Code  \\\n",
       "2  Phillina Ober  Home Office  United States  Naperville  ...       60540   \n",
       "3  Phillina Ober  Home Office  United States  Naperville  ...       60540   \n",
       "\n",
       "    Region       Product ID         Category Sub-Category  \\\n",
       "2  Central  OFF-ST-10002743  Office Supplies      Storage   \n",
       "3  Central  OFF-BI-10004094  Office Supplies      Binders   \n",
       "\n",
       "                                 Product Name    Sales  Quantity  Discount  \\\n",
       "2               SAFCO Boltless Steel Shelving  272.736         3       0.2   \n",
       "3  GBC Standard Plastic Binding Systems Combs    3.540         2       0.8   \n",
       "\n",
       "    Profit  \n",
       "2 -64.7748  \n",
       "3  -5.4870  \n",
       "\n",
       "[2 rows x 21 columns]"
      ]
     },
     "execution_count": 63,
     "metadata": {},
     "output_type": "execute_result"
    }
   ],
   "source": [
    "df[2:4]"
   ]
  },
  {
   "cell_type": "code",
   "execution_count": 66,
   "id": "feb922ef",
   "metadata": {},
   "outputs": [
    {
     "data": {
      "text/html": [
       "<div>\n",
       "<style scoped>\n",
       "    .dataframe tbody tr th:only-of-type {\n",
       "        vertical-align: middle;\n",
       "    }\n",
       "\n",
       "    .dataframe tbody tr th {\n",
       "        vertical-align: top;\n",
       "    }\n",
       "\n",
       "    .dataframe thead th {\n",
       "        text-align: right;\n",
       "    }\n",
       "</style>\n",
       "<table border=\"1\" class=\"dataframe\">\n",
       "  <thead>\n",
       "    <tr style=\"text-align: right;\">\n",
       "      <th></th>\n",
       "      <th>Row ID</th>\n",
       "      <th>Order ID</th>\n",
       "    </tr>\n",
       "  </thead>\n",
       "  <tbody>\n",
       "    <tr>\n",
       "      <th>0</th>\n",
       "      <td>7981</td>\n",
       "      <td>CA-2011-103800</td>\n",
       "    </tr>\n",
       "    <tr>\n",
       "      <th>1</th>\n",
       "      <td>740</td>\n",
       "      <td>CA-2011-112326</td>\n",
       "    </tr>\n",
       "    <tr>\n",
       "      <th>2</th>\n",
       "      <td>741</td>\n",
       "      <td>CA-2011-112326</td>\n",
       "    </tr>\n",
       "    <tr>\n",
       "      <th>3</th>\n",
       "      <td>742</td>\n",
       "      <td>CA-2011-112326</td>\n",
       "    </tr>\n",
       "    <tr>\n",
       "      <th>4</th>\n",
       "      <td>1760</td>\n",
       "      <td>CA-2011-141817</td>\n",
       "    </tr>\n",
       "    <tr>\n",
       "      <th>...</th>\n",
       "      <td>...</td>\n",
       "      <td>...</td>\n",
       "    </tr>\n",
       "    <tr>\n",
       "      <th>9989</th>\n",
       "      <td>908</td>\n",
       "      <td>CA-2014-143259</td>\n",
       "    </tr>\n",
       "    <tr>\n",
       "      <th>9990</th>\n",
       "      <td>909</td>\n",
       "      <td>CA-2014-143259</td>\n",
       "    </tr>\n",
       "    <tr>\n",
       "      <th>9991</th>\n",
       "      <td>1297</td>\n",
       "      <td>CA-2014-115427</td>\n",
       "    </tr>\n",
       "    <tr>\n",
       "      <th>9992</th>\n",
       "      <td>1298</td>\n",
       "      <td>CA-2014-115427</td>\n",
       "    </tr>\n",
       "    <tr>\n",
       "      <th>9993</th>\n",
       "      <td>5092</td>\n",
       "      <td>CA-2014-156720</td>\n",
       "    </tr>\n",
       "  </tbody>\n",
       "</table>\n",
       "<p>9994 rows × 2 columns</p>\n",
       "</div>"
      ],
      "text/plain": [
       "      Row ID        Order ID\n",
       "0       7981  CA-2011-103800\n",
       "1        740  CA-2011-112326\n",
       "2        741  CA-2011-112326\n",
       "3        742  CA-2011-112326\n",
       "4       1760  CA-2011-141817\n",
       "...      ...             ...\n",
       "9989     908  CA-2014-143259\n",
       "9990     909  CA-2014-143259\n",
       "9991    1297  CA-2014-115427\n",
       "9992    1298  CA-2014-115427\n",
       "9993    5092  CA-2014-156720\n",
       "\n",
       "[9994 rows x 2 columns]"
      ]
     },
     "execution_count": 66,
     "metadata": {},
     "output_type": "execute_result"
    }
   ],
   "source": [
    "df[['Row ID', 'Order ID']]"
   ]
  },
  {
   "cell_type": "code",
   "execution_count": 67,
   "id": "303006b4",
   "metadata": {},
   "outputs": [
    {
     "data": {
      "text/plain": [
       "count     9994.000000\n",
       "mean       229.858001\n",
       "std        623.245101\n",
       "min          0.444000\n",
       "25%         17.280000\n",
       "50%         54.490000\n",
       "75%        209.940000\n",
       "max      22638.480000\n",
       "Name: Sales, dtype: float64"
      ]
     },
     "execution_count": 67,
     "metadata": {},
     "output_type": "execute_result"
    }
   ],
   "source": [
    "df['Sales'].describe()"
   ]
  },
  {
   "cell_type": "code",
   "execution_count": 80,
   "id": "41b035c9",
   "metadata": {},
   "outputs": [
    {
     "data": {
      "text/html": [
       "<div>\n",
       "<style scoped>\n",
       "    .dataframe tbody tr th:only-of-type {\n",
       "        vertical-align: middle;\n",
       "    }\n",
       "\n",
       "    .dataframe tbody tr th {\n",
       "        vertical-align: top;\n",
       "    }\n",
       "\n",
       "    .dataframe thead th {\n",
       "        text-align: right;\n",
       "    }\n",
       "</style>\n",
       "<table border=\"1\" class=\"dataframe\">\n",
       "  <thead>\n",
       "    <tr style=\"text-align: right;\">\n",
       "      <th></th>\n",
       "      <th>Row ID</th>\n",
       "      <th>Order ID</th>\n",
       "      <th>Order Date</th>\n",
       "      <th>Ship Date</th>\n",
       "      <th>Ship Mode</th>\n",
       "      <th>Customer ID</th>\n",
       "      <th>Customer Name</th>\n",
       "      <th>Segment</th>\n",
       "      <th>Country</th>\n",
       "      <th>City</th>\n",
       "      <th>...</th>\n",
       "      <th>Postal Code</th>\n",
       "      <th>Region</th>\n",
       "      <th>Product ID</th>\n",
       "      <th>Category</th>\n",
       "      <th>Sub-Category</th>\n",
       "      <th>Product Name</th>\n",
       "      <th>Sales</th>\n",
       "      <th>Quantity</th>\n",
       "      <th>Discount</th>\n",
       "      <th>Profit</th>\n",
       "    </tr>\n",
       "  </thead>\n",
       "  <tbody>\n",
       "    <tr>\n",
       "      <th>211</th>\n",
       "      <td>2698</td>\n",
       "      <td>CA-2011-145317</td>\n",
       "      <td>2013-03-18</td>\n",
       "      <td>2013-03-23</td>\n",
       "      <td>Standard Class</td>\n",
       "      <td>SM-20320</td>\n",
       "      <td>Sean Miller</td>\n",
       "      <td>Home Office</td>\n",
       "      <td>United States</td>\n",
       "      <td>Jacksonville</td>\n",
       "      <td>...</td>\n",
       "      <td>32216</td>\n",
       "      <td>South</td>\n",
       "      <td>TEC-MA-10002412</td>\n",
       "      <td>Technology</td>\n",
       "      <td>Machines</td>\n",
       "      <td>Cisco TelePresence System EX90 Videoconferenci...</td>\n",
       "      <td>22638.48</td>\n",
       "      <td>6</td>\n",
       "      <td>0.5</td>\n",
       "      <td>-1811.0784</td>\n",
       "    </tr>\n",
       "  </tbody>\n",
       "</table>\n",
       "<p>1 rows × 21 columns</p>\n",
       "</div>"
      ],
      "text/plain": [
       "     Row ID        Order ID Order Date  Ship Date       Ship Mode Customer ID  \\\n",
       "211    2698  CA-2011-145317 2013-03-18 2013-03-23  Standard Class    SM-20320   \n",
       "\n",
       "    Customer Name      Segment        Country          City  ... Postal Code  \\\n",
       "211   Sean Miller  Home Office  United States  Jacksonville  ...       32216   \n",
       "\n",
       "     Region       Product ID    Category Sub-Category  \\\n",
       "211   South  TEC-MA-10002412  Technology     Machines   \n",
       "\n",
       "                                          Product Name     Sales  Quantity  \\\n",
       "211  Cisco TelePresence System EX90 Videoconferenci...  22638.48         6   \n",
       "\n",
       "     Discount     Profit  \n",
       "211       0.5 -1811.0784  \n",
       "\n",
       "[1 rows x 21 columns]"
      ]
     },
     "execution_count": 80,
     "metadata": {},
     "output_type": "execute_result"
    }
   ],
   "source": [
    "df[df.Sales==df.Sales.max()]"
   ]
  },
  {
   "cell_type": "code",
   "execution_count": 82,
   "id": "2c7b5067",
   "metadata": {},
   "outputs": [
    {
     "data": {
      "text/plain": [
       "211    Technology\n",
       "Name: Category, dtype: object"
      ]
     },
     "execution_count": 82,
     "metadata": {},
     "output_type": "execute_result"
    }
   ],
   "source": [
    "df.Category[df.Sales==df.Sales.max()]"
   ]
  },
  {
   "cell_type": "code",
   "execution_count": 86,
   "id": "3140f19c",
   "metadata": {},
   "outputs": [
    {
     "data": {
      "text/plain": [
       "22638.48"
      ]
     },
     "execution_count": 86,
     "metadata": {},
     "output_type": "execute_result"
    }
   ],
   "source": [
    "df.Sales.max()"
   ]
  },
  {
   "cell_type": "code",
   "execution_count": 93,
   "id": "5cfa08ba",
   "metadata": {},
   "outputs": [
    {
     "data": {
      "text/plain": [
       "0        16.448\n",
       "1        11.784\n",
       "2       272.736\n",
       "3         3.540\n",
       "4        19.536\n",
       "         ...   \n",
       "9989     90.930\n",
       "9990     52.776\n",
       "9991     13.904\n",
       "9992     20.720\n",
       "9993      3.024\n",
       "Name: Sales, Length: 9994, dtype: float64"
      ]
     },
     "execution_count": 93,
     "metadata": {},
     "output_type": "execute_result"
    }
   ],
   "source": [
    "df.Sales"
   ]
  },
  {
   "cell_type": "code",
   "execution_count": 91,
   "id": "e2e5af3d",
   "metadata": {},
   "outputs": [
    {
     "data": {
      "text/html": [
       "<div>\n",
       "<style scoped>\n",
       "    .dataframe tbody tr th:only-of-type {\n",
       "        vertical-align: middle;\n",
       "    }\n",
       "\n",
       "    .dataframe tbody tr th {\n",
       "        vertical-align: top;\n",
       "    }\n",
       "\n",
       "    .dataframe thead th {\n",
       "        text-align: right;\n",
       "    }\n",
       "</style>\n",
       "<table border=\"1\" class=\"dataframe\">\n",
       "  <thead>\n",
       "    <tr style=\"text-align: right;\">\n",
       "      <th></th>\n",
       "      <th>Row ID</th>\n",
       "      <th>Order ID</th>\n",
       "      <th>Order Date</th>\n",
       "      <th>Ship Date</th>\n",
       "      <th>Ship Mode</th>\n",
       "      <th>Customer ID</th>\n",
       "      <th>Customer Name</th>\n",
       "      <th>Segment</th>\n",
       "      <th>Country</th>\n",
       "      <th>City</th>\n",
       "      <th>...</th>\n",
       "      <th>Postal Code</th>\n",
       "      <th>Region</th>\n",
       "      <th>Product ID</th>\n",
       "      <th>Category</th>\n",
       "      <th>Sub-Category</th>\n",
       "      <th>Product Name</th>\n",
       "      <th>Sales</th>\n",
       "      <th>Quantity</th>\n",
       "      <th>Discount</th>\n",
       "      <th>Profit</th>\n",
       "    </tr>\n",
       "  </thead>\n",
       "  <tbody>\n",
       "    <tr>\n",
       "      <th>0</th>\n",
       "      <td>7981</td>\n",
       "      <td>CA-2011-103800</td>\n",
       "      <td>2013-01-03</td>\n",
       "      <td>2013-01-07</td>\n",
       "      <td>Standard Class</td>\n",
       "      <td>DP-13000</td>\n",
       "      <td>Darren Powers</td>\n",
       "      <td>Consumer</td>\n",
       "      <td>United States</td>\n",
       "      <td>Houston</td>\n",
       "      <td>...</td>\n",
       "      <td>77095</td>\n",
       "      <td>Central</td>\n",
       "      <td>OFF-PA-10000174</td>\n",
       "      <td>Office Supplies</td>\n",
       "      <td>Paper</td>\n",
       "      <td>Message Book, Wirebound, Four 5 1/2\" X 4\" Form...</td>\n",
       "      <td>16.448</td>\n",
       "      <td>2</td>\n",
       "      <td>0.2</td>\n",
       "      <td>5.5512</td>\n",
       "    </tr>\n",
       "    <tr>\n",
       "      <th>1</th>\n",
       "      <td>740</td>\n",
       "      <td>CA-2011-112326</td>\n",
       "      <td>2013-01-04</td>\n",
       "      <td>2013-01-08</td>\n",
       "      <td>Standard Class</td>\n",
       "      <td>PO-19195</td>\n",
       "      <td>Phillina Ober</td>\n",
       "      <td>Home Office</td>\n",
       "      <td>United States</td>\n",
       "      <td>Naperville</td>\n",
       "      <td>...</td>\n",
       "      <td>60540</td>\n",
       "      <td>Central</td>\n",
       "      <td>OFF-LA-10003223</td>\n",
       "      <td>Office Supplies</td>\n",
       "      <td>Labels</td>\n",
       "      <td>Avery 508</td>\n",
       "      <td>11.784</td>\n",
       "      <td>3</td>\n",
       "      <td>0.2</td>\n",
       "      <td>4.2717</td>\n",
       "    </tr>\n",
       "    <tr>\n",
       "      <th>2</th>\n",
       "      <td>741</td>\n",
       "      <td>CA-2011-112326</td>\n",
       "      <td>2013-01-04</td>\n",
       "      <td>2013-01-08</td>\n",
       "      <td>Standard Class</td>\n",
       "      <td>PO-19195</td>\n",
       "      <td>Phillina Ober</td>\n",
       "      <td>Home Office</td>\n",
       "      <td>United States</td>\n",
       "      <td>Naperville</td>\n",
       "      <td>...</td>\n",
       "      <td>60540</td>\n",
       "      <td>Central</td>\n",
       "      <td>OFF-ST-10002743</td>\n",
       "      <td>Office Supplies</td>\n",
       "      <td>Storage</td>\n",
       "      <td>SAFCO Boltless Steel Shelving</td>\n",
       "      <td>272.736</td>\n",
       "      <td>3</td>\n",
       "      <td>0.2</td>\n",
       "      <td>-64.7748</td>\n",
       "    </tr>\n",
       "    <tr>\n",
       "      <th>3</th>\n",
       "      <td>742</td>\n",
       "      <td>CA-2011-112326</td>\n",
       "      <td>2013-01-04</td>\n",
       "      <td>2013-01-08</td>\n",
       "      <td>Standard Class</td>\n",
       "      <td>PO-19195</td>\n",
       "      <td>Phillina Ober</td>\n",
       "      <td>Home Office</td>\n",
       "      <td>United States</td>\n",
       "      <td>Naperville</td>\n",
       "      <td>...</td>\n",
       "      <td>60540</td>\n",
       "      <td>Central</td>\n",
       "      <td>OFF-BI-10004094</td>\n",
       "      <td>Office Supplies</td>\n",
       "      <td>Binders</td>\n",
       "      <td>GBC Standard Plastic Binding Systems Combs</td>\n",
       "      <td>3.540</td>\n",
       "      <td>2</td>\n",
       "      <td>0.8</td>\n",
       "      <td>-5.4870</td>\n",
       "    </tr>\n",
       "    <tr>\n",
       "      <th>4</th>\n",
       "      <td>1760</td>\n",
       "      <td>CA-2011-141817</td>\n",
       "      <td>2013-01-05</td>\n",
       "      <td>2013-01-12</td>\n",
       "      <td>Standard Class</td>\n",
       "      <td>MB-18085</td>\n",
       "      <td>Mick Brown</td>\n",
       "      <td>Consumer</td>\n",
       "      <td>United States</td>\n",
       "      <td>Philadelphia</td>\n",
       "      <td>...</td>\n",
       "      <td>19143</td>\n",
       "      <td>East</td>\n",
       "      <td>OFF-AR-10003478</td>\n",
       "      <td>Office Supplies</td>\n",
       "      <td>Art</td>\n",
       "      <td>Avery Hi-Liter EverBold Pen Style Fluorescent ...</td>\n",
       "      <td>19.536</td>\n",
       "      <td>3</td>\n",
       "      <td>0.2</td>\n",
       "      <td>4.8840</td>\n",
       "    </tr>\n",
       "  </tbody>\n",
       "</table>\n",
       "<p>5 rows × 21 columns</p>\n",
       "</div>"
      ],
      "text/plain": [
       "   Row ID        Order ID Order Date  Ship Date       Ship Mode Customer ID  \\\n",
       "0    7981  CA-2011-103800 2013-01-03 2013-01-07  Standard Class    DP-13000   \n",
       "1     740  CA-2011-112326 2013-01-04 2013-01-08  Standard Class    PO-19195   \n",
       "2     741  CA-2011-112326 2013-01-04 2013-01-08  Standard Class    PO-19195   \n",
       "3     742  CA-2011-112326 2013-01-04 2013-01-08  Standard Class    PO-19195   \n",
       "4    1760  CA-2011-141817 2013-01-05 2013-01-12  Standard Class    MB-18085   \n",
       "\n",
       "   Customer Name      Segment        Country          City  ... Postal Code  \\\n",
       "0  Darren Powers     Consumer  United States       Houston  ...       77095   \n",
       "1  Phillina Ober  Home Office  United States    Naperville  ...       60540   \n",
       "2  Phillina Ober  Home Office  United States    Naperville  ...       60540   \n",
       "3  Phillina Ober  Home Office  United States    Naperville  ...       60540   \n",
       "4     Mick Brown     Consumer  United States  Philadelphia  ...       19143   \n",
       "\n",
       "    Region       Product ID         Category Sub-Category  \\\n",
       "0  Central  OFF-PA-10000174  Office Supplies        Paper   \n",
       "1  Central  OFF-LA-10003223  Office Supplies       Labels   \n",
       "2  Central  OFF-ST-10002743  Office Supplies      Storage   \n",
       "3  Central  OFF-BI-10004094  Office Supplies      Binders   \n",
       "4     East  OFF-AR-10003478  Office Supplies          Art   \n",
       "\n",
       "                                        Product Name    Sales  Quantity  \\\n",
       "0  Message Book, Wirebound, Four 5 1/2\" X 4\" Form...   16.448         2   \n",
       "1                                          Avery 508   11.784         3   \n",
       "2                      SAFCO Boltless Steel Shelving  272.736         3   \n",
       "3         GBC Standard Plastic Binding Systems Combs    3.540         2   \n",
       "4  Avery Hi-Liter EverBold Pen Style Fluorescent ...   19.536         3   \n",
       "\n",
       "   Discount   Profit  \n",
       "0       0.2   5.5512  \n",
       "1       0.2   4.2717  \n",
       "2       0.2 -64.7748  \n",
       "3       0.8  -5.4870  \n",
       "4       0.2   4.8840  \n",
       "\n",
       "[5 rows x 21 columns]"
      ]
     },
     "execution_count": 91,
     "metadata": {},
     "output_type": "execute_result"
    }
   ],
   "source": [
    "df.head()"
   ]
  },
  {
   "cell_type": "code",
   "execution_count": 97,
   "id": "ea583970",
   "metadata": {},
   "outputs": [],
   "source": [
    "df.to_csv('new.csv')"
   ]
  },
  {
   "cell_type": "code",
   "execution_count": 98,
   "id": "2fec5ec0",
   "metadata": {},
   "outputs": [
    {
     "data": {
      "text/html": [
       "<div>\n",
       "<style scoped>\n",
       "    .dataframe tbody tr th:only-of-type {\n",
       "        vertical-align: middle;\n",
       "    }\n",
       "\n",
       "    .dataframe tbody tr th {\n",
       "        vertical-align: top;\n",
       "    }\n",
       "\n",
       "    .dataframe thead th {\n",
       "        text-align: right;\n",
       "    }\n",
       "</style>\n",
       "<table border=\"1\" class=\"dataframe\">\n",
       "  <thead>\n",
       "    <tr style=\"text-align: right;\">\n",
       "      <th></th>\n",
       "      <th>Row ID</th>\n",
       "      <th>Order ID</th>\n",
       "      <th>Order Date</th>\n",
       "      <th>Ship Date</th>\n",
       "      <th>Ship Mode</th>\n",
       "      <th>Customer ID</th>\n",
       "      <th>Customer Name</th>\n",
       "      <th>Segment</th>\n",
       "      <th>Country</th>\n",
       "      <th>City</th>\n",
       "      <th>...</th>\n",
       "      <th>Postal Code</th>\n",
       "      <th>Region</th>\n",
       "      <th>Product ID</th>\n",
       "      <th>Category</th>\n",
       "      <th>Sub-Category</th>\n",
       "      <th>Product Name</th>\n",
       "      <th>Sales</th>\n",
       "      <th>Quantity</th>\n",
       "      <th>Discount</th>\n",
       "      <th>Profit</th>\n",
       "    </tr>\n",
       "  </thead>\n",
       "  <tbody>\n",
       "    <tr>\n",
       "      <th>0</th>\n",
       "      <td>7981</td>\n",
       "      <td>CA-2011-103800</td>\n",
       "      <td>2013-01-03</td>\n",
       "      <td>2013-01-07</td>\n",
       "      <td>Standard Class</td>\n",
       "      <td>DP-13000</td>\n",
       "      <td>Darren Powers</td>\n",
       "      <td>Consumer</td>\n",
       "      <td>United States</td>\n",
       "      <td>Houston</td>\n",
       "      <td>...</td>\n",
       "      <td>77095</td>\n",
       "      <td>Central</td>\n",
       "      <td>OFF-PA-10000174</td>\n",
       "      <td>Office Supplies</td>\n",
       "      <td>Paper</td>\n",
       "      <td>Message Book, Wirebound, Four 5 1/2\" X 4\" Form...</td>\n",
       "      <td>16.448</td>\n",
       "      <td>2</td>\n",
       "      <td>0.2</td>\n",
       "      <td>5.5512</td>\n",
       "    </tr>\n",
       "    <tr>\n",
       "      <th>1</th>\n",
       "      <td>740</td>\n",
       "      <td>CA-2011-112326</td>\n",
       "      <td>2013-01-04</td>\n",
       "      <td>2013-01-08</td>\n",
       "      <td>Standard Class</td>\n",
       "      <td>PO-19195</td>\n",
       "      <td>Phillina Ober</td>\n",
       "      <td>Home Office</td>\n",
       "      <td>United States</td>\n",
       "      <td>Naperville</td>\n",
       "      <td>...</td>\n",
       "      <td>60540</td>\n",
       "      <td>Central</td>\n",
       "      <td>OFF-LA-10003223</td>\n",
       "      <td>Office Supplies</td>\n",
       "      <td>Labels</td>\n",
       "      <td>Avery 508</td>\n",
       "      <td>11.784</td>\n",
       "      <td>3</td>\n",
       "      <td>0.2</td>\n",
       "      <td>4.2717</td>\n",
       "    </tr>\n",
       "    <tr>\n",
       "      <th>2</th>\n",
       "      <td>741</td>\n",
       "      <td>CA-2011-112326</td>\n",
       "      <td>2013-01-04</td>\n",
       "      <td>2013-01-08</td>\n",
       "      <td>Standard Class</td>\n",
       "      <td>PO-19195</td>\n",
       "      <td>Phillina Ober</td>\n",
       "      <td>Home Office</td>\n",
       "      <td>United States</td>\n",
       "      <td>Naperville</td>\n",
       "      <td>...</td>\n",
       "      <td>60540</td>\n",
       "      <td>Central</td>\n",
       "      <td>OFF-ST-10002743</td>\n",
       "      <td>Office Supplies</td>\n",
       "      <td>Storage</td>\n",
       "      <td>SAFCO Boltless Steel Shelving</td>\n",
       "      <td>272.736</td>\n",
       "      <td>3</td>\n",
       "      <td>0.2</td>\n",
       "      <td>-64.7748</td>\n",
       "    </tr>\n",
       "    <tr>\n",
       "      <th>3</th>\n",
       "      <td>742</td>\n",
       "      <td>CA-2011-112326</td>\n",
       "      <td>2013-01-04</td>\n",
       "      <td>2013-01-08</td>\n",
       "      <td>Standard Class</td>\n",
       "      <td>PO-19195</td>\n",
       "      <td>Phillina Ober</td>\n",
       "      <td>Home Office</td>\n",
       "      <td>United States</td>\n",
       "      <td>Naperville</td>\n",
       "      <td>...</td>\n",
       "      <td>60540</td>\n",
       "      <td>Central</td>\n",
       "      <td>OFF-BI-10004094</td>\n",
       "      <td>Office Supplies</td>\n",
       "      <td>Binders</td>\n",
       "      <td>GBC Standard Plastic Binding Systems Combs</td>\n",
       "      <td>3.540</td>\n",
       "      <td>2</td>\n",
       "      <td>0.8</td>\n",
       "      <td>-5.4870</td>\n",
       "    </tr>\n",
       "    <tr>\n",
       "      <th>4</th>\n",
       "      <td>1760</td>\n",
       "      <td>CA-2011-141817</td>\n",
       "      <td>2013-01-05</td>\n",
       "      <td>2013-01-12</td>\n",
       "      <td>Standard Class</td>\n",
       "      <td>MB-18085</td>\n",
       "      <td>Mick Brown</td>\n",
       "      <td>Consumer</td>\n",
       "      <td>United States</td>\n",
       "      <td>Philadelphia</td>\n",
       "      <td>...</td>\n",
       "      <td>19143</td>\n",
       "      <td>East</td>\n",
       "      <td>OFF-AR-10003478</td>\n",
       "      <td>Office Supplies</td>\n",
       "      <td>Art</td>\n",
       "      <td>Avery Hi-Liter EverBold Pen Style Fluorescent ...</td>\n",
       "      <td>19.536</td>\n",
       "      <td>3</td>\n",
       "      <td>0.2</td>\n",
       "      <td>4.8840</td>\n",
       "    </tr>\n",
       "    <tr>\n",
       "      <th>...</th>\n",
       "      <td>...</td>\n",
       "      <td>...</td>\n",
       "      <td>...</td>\n",
       "      <td>...</td>\n",
       "      <td>...</td>\n",
       "      <td>...</td>\n",
       "      <td>...</td>\n",
       "      <td>...</td>\n",
       "      <td>...</td>\n",
       "      <td>...</td>\n",
       "      <td>...</td>\n",
       "      <td>...</td>\n",
       "      <td>...</td>\n",
       "      <td>...</td>\n",
       "      <td>...</td>\n",
       "      <td>...</td>\n",
       "      <td>...</td>\n",
       "      <td>...</td>\n",
       "      <td>...</td>\n",
       "      <td>...</td>\n",
       "      <td>...</td>\n",
       "    </tr>\n",
       "    <tr>\n",
       "      <th>9989</th>\n",
       "      <td>908</td>\n",
       "      <td>CA-2014-143259</td>\n",
       "      <td>2016-12-30</td>\n",
       "      <td>2017-01-03</td>\n",
       "      <td>Standard Class</td>\n",
       "      <td>PO-18865</td>\n",
       "      <td>Patrick O'Donnell</td>\n",
       "      <td>Consumer</td>\n",
       "      <td>United States</td>\n",
       "      <td>New York City</td>\n",
       "      <td>...</td>\n",
       "      <td>10009</td>\n",
       "      <td>East</td>\n",
       "      <td>TEC-PH-10004774</td>\n",
       "      <td>Technology</td>\n",
       "      <td>Phones</td>\n",
       "      <td>Gear Head AU3700S Headset</td>\n",
       "      <td>90.930</td>\n",
       "      <td>7</td>\n",
       "      <td>0.0</td>\n",
       "      <td>2.7279</td>\n",
       "    </tr>\n",
       "    <tr>\n",
       "      <th>9990</th>\n",
       "      <td>909</td>\n",
       "      <td>CA-2014-143259</td>\n",
       "      <td>2016-12-30</td>\n",
       "      <td>2017-01-03</td>\n",
       "      <td>Standard Class</td>\n",
       "      <td>PO-18865</td>\n",
       "      <td>Patrick O'Donnell</td>\n",
       "      <td>Consumer</td>\n",
       "      <td>United States</td>\n",
       "      <td>New York City</td>\n",
       "      <td>...</td>\n",
       "      <td>10009</td>\n",
       "      <td>East</td>\n",
       "      <td>OFF-BI-10003684</td>\n",
       "      <td>Office Supplies</td>\n",
       "      <td>Binders</td>\n",
       "      <td>Wilson Jones Legal Size Ring Binders</td>\n",
       "      <td>52.776</td>\n",
       "      <td>3</td>\n",
       "      <td>0.2</td>\n",
       "      <td>19.7910</td>\n",
       "    </tr>\n",
       "    <tr>\n",
       "      <th>9991</th>\n",
       "      <td>1297</td>\n",
       "      <td>CA-2014-115427</td>\n",
       "      <td>2016-12-30</td>\n",
       "      <td>2017-01-03</td>\n",
       "      <td>Standard Class</td>\n",
       "      <td>EB-13975</td>\n",
       "      <td>Erica Bern</td>\n",
       "      <td>Corporate</td>\n",
       "      <td>United States</td>\n",
       "      <td>Fairfield</td>\n",
       "      <td>...</td>\n",
       "      <td>94533</td>\n",
       "      <td>West</td>\n",
       "      <td>OFF-BI-10002103</td>\n",
       "      <td>Office Supplies</td>\n",
       "      <td>Binders</td>\n",
       "      <td>Cardinal Slant-D Ring Binder, Heavy Gauge Vinyl</td>\n",
       "      <td>13.904</td>\n",
       "      <td>2</td>\n",
       "      <td>0.2</td>\n",
       "      <td>4.5188</td>\n",
       "    </tr>\n",
       "    <tr>\n",
       "      <th>9992</th>\n",
       "      <td>1298</td>\n",
       "      <td>CA-2014-115427</td>\n",
       "      <td>2016-12-30</td>\n",
       "      <td>2017-01-03</td>\n",
       "      <td>Standard Class</td>\n",
       "      <td>EB-13975</td>\n",
       "      <td>Erica Bern</td>\n",
       "      <td>Corporate</td>\n",
       "      <td>United States</td>\n",
       "      <td>Fairfield</td>\n",
       "      <td>...</td>\n",
       "      <td>94533</td>\n",
       "      <td>West</td>\n",
       "      <td>OFF-BI-10004632</td>\n",
       "      <td>Office Supplies</td>\n",
       "      <td>Binders</td>\n",
       "      <td>GBC Binding covers</td>\n",
       "      <td>20.720</td>\n",
       "      <td>2</td>\n",
       "      <td>0.2</td>\n",
       "      <td>6.4750</td>\n",
       "    </tr>\n",
       "    <tr>\n",
       "      <th>9993</th>\n",
       "      <td>5092</td>\n",
       "      <td>CA-2014-156720</td>\n",
       "      <td>2016-12-30</td>\n",
       "      <td>2017-01-03</td>\n",
       "      <td>Standard Class</td>\n",
       "      <td>JM-15580</td>\n",
       "      <td>Jill Matthias</td>\n",
       "      <td>Consumer</td>\n",
       "      <td>United States</td>\n",
       "      <td>Loveland</td>\n",
       "      <td>...</td>\n",
       "      <td>80538</td>\n",
       "      <td>West</td>\n",
       "      <td>OFF-FA-10003472</td>\n",
       "      <td>Office Supplies</td>\n",
       "      <td>Fasteners</td>\n",
       "      <td>Bagged Rubber Bands</td>\n",
       "      <td>3.024</td>\n",
       "      <td>3</td>\n",
       "      <td>0.2</td>\n",
       "      <td>-0.6048</td>\n",
       "    </tr>\n",
       "  </tbody>\n",
       "</table>\n",
       "<p>9994 rows × 21 columns</p>\n",
       "</div>"
      ],
      "text/plain": [
       "      Row ID        Order ID Order Date  Ship Date       Ship Mode  \\\n",
       "0       7981  CA-2011-103800 2013-01-03 2013-01-07  Standard Class   \n",
       "1        740  CA-2011-112326 2013-01-04 2013-01-08  Standard Class   \n",
       "2        741  CA-2011-112326 2013-01-04 2013-01-08  Standard Class   \n",
       "3        742  CA-2011-112326 2013-01-04 2013-01-08  Standard Class   \n",
       "4       1760  CA-2011-141817 2013-01-05 2013-01-12  Standard Class   \n",
       "...      ...             ...        ...        ...             ...   \n",
       "9989     908  CA-2014-143259 2016-12-30 2017-01-03  Standard Class   \n",
       "9990     909  CA-2014-143259 2016-12-30 2017-01-03  Standard Class   \n",
       "9991    1297  CA-2014-115427 2016-12-30 2017-01-03  Standard Class   \n",
       "9992    1298  CA-2014-115427 2016-12-30 2017-01-03  Standard Class   \n",
       "9993    5092  CA-2014-156720 2016-12-30 2017-01-03  Standard Class   \n",
       "\n",
       "     Customer ID      Customer Name      Segment        Country  \\\n",
       "0       DP-13000      Darren Powers     Consumer  United States   \n",
       "1       PO-19195      Phillina Ober  Home Office  United States   \n",
       "2       PO-19195      Phillina Ober  Home Office  United States   \n",
       "3       PO-19195      Phillina Ober  Home Office  United States   \n",
       "4       MB-18085         Mick Brown     Consumer  United States   \n",
       "...          ...                ...          ...            ...   \n",
       "9989    PO-18865  Patrick O'Donnell     Consumer  United States   \n",
       "9990    PO-18865  Patrick O'Donnell     Consumer  United States   \n",
       "9991    EB-13975         Erica Bern    Corporate  United States   \n",
       "9992    EB-13975         Erica Bern    Corporate  United States   \n",
       "9993    JM-15580      Jill Matthias     Consumer  United States   \n",
       "\n",
       "               City  ... Postal Code   Region       Product ID  \\\n",
       "0           Houston  ...       77095  Central  OFF-PA-10000174   \n",
       "1        Naperville  ...       60540  Central  OFF-LA-10003223   \n",
       "2        Naperville  ...       60540  Central  OFF-ST-10002743   \n",
       "3        Naperville  ...       60540  Central  OFF-BI-10004094   \n",
       "4      Philadelphia  ...       19143     East  OFF-AR-10003478   \n",
       "...             ...  ...         ...      ...              ...   \n",
       "9989  New York City  ...       10009     East  TEC-PH-10004774   \n",
       "9990  New York City  ...       10009     East  OFF-BI-10003684   \n",
       "9991      Fairfield  ...       94533     West  OFF-BI-10002103   \n",
       "9992      Fairfield  ...       94533     West  OFF-BI-10004632   \n",
       "9993       Loveland  ...       80538     West  OFF-FA-10003472   \n",
       "\n",
       "             Category Sub-Category  \\\n",
       "0     Office Supplies        Paper   \n",
       "1     Office Supplies       Labels   \n",
       "2     Office Supplies      Storage   \n",
       "3     Office Supplies      Binders   \n",
       "4     Office Supplies          Art   \n",
       "...               ...          ...   \n",
       "9989       Technology       Phones   \n",
       "9990  Office Supplies      Binders   \n",
       "9991  Office Supplies      Binders   \n",
       "9992  Office Supplies      Binders   \n",
       "9993  Office Supplies    Fasteners   \n",
       "\n",
       "                                           Product Name    Sales  Quantity  \\\n",
       "0     Message Book, Wirebound, Four 5 1/2\" X 4\" Form...   16.448         2   \n",
       "1                                             Avery 508   11.784         3   \n",
       "2                         SAFCO Boltless Steel Shelving  272.736         3   \n",
       "3            GBC Standard Plastic Binding Systems Combs    3.540         2   \n",
       "4     Avery Hi-Liter EverBold Pen Style Fluorescent ...   19.536         3   \n",
       "...                                                 ...      ...       ...   \n",
       "9989                          Gear Head AU3700S Headset   90.930         7   \n",
       "9990               Wilson Jones Legal Size Ring Binders   52.776         3   \n",
       "9991    Cardinal Slant-D Ring Binder, Heavy Gauge Vinyl   13.904         2   \n",
       "9992                                 GBC Binding covers   20.720         2   \n",
       "9993                                Bagged Rubber Bands    3.024         3   \n",
       "\n",
       "      Discount   Profit  \n",
       "0          0.2   5.5512  \n",
       "1          0.2   4.2717  \n",
       "2          0.2 -64.7748  \n",
       "3          0.8  -5.4870  \n",
       "4          0.2   4.8840  \n",
       "...        ...      ...  \n",
       "9989       0.0   2.7279  \n",
       "9990       0.2  19.7910  \n",
       "9991       0.2   4.5188  \n",
       "9992       0.2   6.4750  \n",
       "9993       0.2  -0.6048  \n",
       "\n",
       "[9994 rows x 21 columns]"
      ]
     },
     "execution_count": 98,
     "metadata": {},
     "output_type": "execute_result"
    }
   ],
   "source": [
    "df"
   ]
  },
  {
   "cell_type": "code",
   "execution_count": 102,
   "id": "ee134c6d",
   "metadata": {},
   "outputs": [
    {
     "ename": "SyntaxError",
     "evalue": "invalid syntax (1543805522.py, line 1)",
     "output_type": "error",
     "traceback": [
      "\u001b[1;36m  File \u001b[1;32m\"C:\\Users\\LENOVO\\AppData\\Local\\Temp\\ipykernel_5912\\1543805522.py\"\u001b[1;36m, line \u001b[1;32m1\u001b[0m\n\u001b[1;33m    pip3 install openpyxl\u001b[0m\n\u001b[1;37m         ^\u001b[0m\n\u001b[1;31mSyntaxError\u001b[0m\u001b[1;31m:\u001b[0m invalid syntax\n"
     ]
    }
   ],
   "source": [
    "pip3 install openpyxl"
   ]
  },
  {
   "cell_type": "code",
   "execution_count": 103,
   "id": "1345b118",
   "metadata": {},
   "outputs": [],
   "source": [
    "df.to_excel('new.xlsx')"
   ]
  },
  {
   "cell_type": "code",
   "execution_count": 104,
   "id": "5f3f2b51",
   "metadata": {},
   "outputs": [
    {
     "data": {
      "text/html": [
       "<div>\n",
       "<style scoped>\n",
       "    .dataframe tbody tr th:only-of-type {\n",
       "        vertical-align: middle;\n",
       "    }\n",
       "\n",
       "    .dataframe tbody tr th {\n",
       "        vertical-align: top;\n",
       "    }\n",
       "\n",
       "    .dataframe thead th {\n",
       "        text-align: right;\n",
       "    }\n",
       "</style>\n",
       "<table border=\"1\" class=\"dataframe\">\n",
       "  <thead>\n",
       "    <tr style=\"text-align: right;\">\n",
       "      <th></th>\n",
       "      <th>Row ID</th>\n",
       "      <th>Order ID</th>\n",
       "      <th>Order Date</th>\n",
       "      <th>Ship Date</th>\n",
       "      <th>Ship Mode</th>\n",
       "      <th>Customer ID</th>\n",
       "      <th>Customer Name</th>\n",
       "      <th>Segment</th>\n",
       "      <th>Country</th>\n",
       "      <th>City</th>\n",
       "      <th>...</th>\n",
       "      <th>Postal Code</th>\n",
       "      <th>Region</th>\n",
       "      <th>Product ID</th>\n",
       "      <th>Category</th>\n",
       "      <th>Sub-Category</th>\n",
       "      <th>Product Name</th>\n",
       "      <th>Sales</th>\n",
       "      <th>Quantity</th>\n",
       "      <th>Discount</th>\n",
       "      <th>Profit</th>\n",
       "    </tr>\n",
       "  </thead>\n",
       "  <tbody>\n",
       "    <tr>\n",
       "      <th>0</th>\n",
       "      <td>7981</td>\n",
       "      <td>CA-2011-103800</td>\n",
       "      <td>2013-01-03</td>\n",
       "      <td>2013-01-07</td>\n",
       "      <td>Standard Class</td>\n",
       "      <td>DP-13000</td>\n",
       "      <td>Darren Powers</td>\n",
       "      <td>Consumer</td>\n",
       "      <td>United States</td>\n",
       "      <td>Houston</td>\n",
       "      <td>...</td>\n",
       "      <td>77095</td>\n",
       "      <td>Central</td>\n",
       "      <td>OFF-PA-10000174</td>\n",
       "      <td>Office Supplies</td>\n",
       "      <td>Paper</td>\n",
       "      <td>Message Book, Wirebound, Four 5 1/2\" X 4\" Form...</td>\n",
       "      <td>16.448</td>\n",
       "      <td>2</td>\n",
       "      <td>0.2</td>\n",
       "      <td>5.5512</td>\n",
       "    </tr>\n",
       "    <tr>\n",
       "      <th>1</th>\n",
       "      <td>740</td>\n",
       "      <td>CA-2011-112326</td>\n",
       "      <td>2013-01-04</td>\n",
       "      <td>2013-01-08</td>\n",
       "      <td>Standard Class</td>\n",
       "      <td>PO-19195</td>\n",
       "      <td>Phillina Ober</td>\n",
       "      <td>Home Office</td>\n",
       "      <td>United States</td>\n",
       "      <td>Naperville</td>\n",
       "      <td>...</td>\n",
       "      <td>60540</td>\n",
       "      <td>Central</td>\n",
       "      <td>OFF-LA-10003223</td>\n",
       "      <td>Office Supplies</td>\n",
       "      <td>Labels</td>\n",
       "      <td>Avery 508</td>\n",
       "      <td>11.784</td>\n",
       "      <td>3</td>\n",
       "      <td>0.2</td>\n",
       "      <td>4.2717</td>\n",
       "    </tr>\n",
       "    <tr>\n",
       "      <th>2</th>\n",
       "      <td>741</td>\n",
       "      <td>CA-2011-112326</td>\n",
       "      <td>2013-01-04</td>\n",
       "      <td>2013-01-08</td>\n",
       "      <td>Standard Class</td>\n",
       "      <td>PO-19195</td>\n",
       "      <td>Phillina Ober</td>\n",
       "      <td>Home Office</td>\n",
       "      <td>United States</td>\n",
       "      <td>Naperville</td>\n",
       "      <td>...</td>\n",
       "      <td>60540</td>\n",
       "      <td>Central</td>\n",
       "      <td>OFF-ST-10002743</td>\n",
       "      <td>Office Supplies</td>\n",
       "      <td>Storage</td>\n",
       "      <td>SAFCO Boltless Steel Shelving</td>\n",
       "      <td>272.736</td>\n",
       "      <td>3</td>\n",
       "      <td>0.2</td>\n",
       "      <td>-64.7748</td>\n",
       "    </tr>\n",
       "    <tr>\n",
       "      <th>3</th>\n",
       "      <td>742</td>\n",
       "      <td>CA-2011-112326</td>\n",
       "      <td>2013-01-04</td>\n",
       "      <td>2013-01-08</td>\n",
       "      <td>Standard Class</td>\n",
       "      <td>PO-19195</td>\n",
       "      <td>Phillina Ober</td>\n",
       "      <td>Home Office</td>\n",
       "      <td>United States</td>\n",
       "      <td>Naperville</td>\n",
       "      <td>...</td>\n",
       "      <td>60540</td>\n",
       "      <td>Central</td>\n",
       "      <td>OFF-BI-10004094</td>\n",
       "      <td>Office Supplies</td>\n",
       "      <td>Binders</td>\n",
       "      <td>GBC Standard Plastic Binding Systems Combs</td>\n",
       "      <td>3.540</td>\n",
       "      <td>2</td>\n",
       "      <td>0.8</td>\n",
       "      <td>-5.4870</td>\n",
       "    </tr>\n",
       "    <tr>\n",
       "      <th>4</th>\n",
       "      <td>1760</td>\n",
       "      <td>CA-2011-141817</td>\n",
       "      <td>2013-01-05</td>\n",
       "      <td>2013-01-12</td>\n",
       "      <td>Standard Class</td>\n",
       "      <td>MB-18085</td>\n",
       "      <td>Mick Brown</td>\n",
       "      <td>Consumer</td>\n",
       "      <td>United States</td>\n",
       "      <td>Philadelphia</td>\n",
       "      <td>...</td>\n",
       "      <td>19143</td>\n",
       "      <td>East</td>\n",
       "      <td>OFF-AR-10003478</td>\n",
       "      <td>Office Supplies</td>\n",
       "      <td>Art</td>\n",
       "      <td>Avery Hi-Liter EverBold Pen Style Fluorescent ...</td>\n",
       "      <td>19.536</td>\n",
       "      <td>3</td>\n",
       "      <td>0.2</td>\n",
       "      <td>4.8840</td>\n",
       "    </tr>\n",
       "    <tr>\n",
       "      <th>...</th>\n",
       "      <td>...</td>\n",
       "      <td>...</td>\n",
       "      <td>...</td>\n",
       "      <td>...</td>\n",
       "      <td>...</td>\n",
       "      <td>...</td>\n",
       "      <td>...</td>\n",
       "      <td>...</td>\n",
       "      <td>...</td>\n",
       "      <td>...</td>\n",
       "      <td>...</td>\n",
       "      <td>...</td>\n",
       "      <td>...</td>\n",
       "      <td>...</td>\n",
       "      <td>...</td>\n",
       "      <td>...</td>\n",
       "      <td>...</td>\n",
       "      <td>...</td>\n",
       "      <td>...</td>\n",
       "      <td>...</td>\n",
       "      <td>...</td>\n",
       "    </tr>\n",
       "    <tr>\n",
       "      <th>9989</th>\n",
       "      <td>908</td>\n",
       "      <td>CA-2014-143259</td>\n",
       "      <td>2016-12-30</td>\n",
       "      <td>2017-01-03</td>\n",
       "      <td>Standard Class</td>\n",
       "      <td>PO-18865</td>\n",
       "      <td>Patrick O'Donnell</td>\n",
       "      <td>Consumer</td>\n",
       "      <td>United States</td>\n",
       "      <td>New York City</td>\n",
       "      <td>...</td>\n",
       "      <td>10009</td>\n",
       "      <td>East</td>\n",
       "      <td>TEC-PH-10004774</td>\n",
       "      <td>Technology</td>\n",
       "      <td>Phones</td>\n",
       "      <td>Gear Head AU3700S Headset</td>\n",
       "      <td>90.930</td>\n",
       "      <td>7</td>\n",
       "      <td>0.0</td>\n",
       "      <td>2.7279</td>\n",
       "    </tr>\n",
       "    <tr>\n",
       "      <th>9990</th>\n",
       "      <td>909</td>\n",
       "      <td>CA-2014-143259</td>\n",
       "      <td>2016-12-30</td>\n",
       "      <td>2017-01-03</td>\n",
       "      <td>Standard Class</td>\n",
       "      <td>PO-18865</td>\n",
       "      <td>Patrick O'Donnell</td>\n",
       "      <td>Consumer</td>\n",
       "      <td>United States</td>\n",
       "      <td>New York City</td>\n",
       "      <td>...</td>\n",
       "      <td>10009</td>\n",
       "      <td>East</td>\n",
       "      <td>OFF-BI-10003684</td>\n",
       "      <td>Office Supplies</td>\n",
       "      <td>Binders</td>\n",
       "      <td>Wilson Jones Legal Size Ring Binders</td>\n",
       "      <td>52.776</td>\n",
       "      <td>3</td>\n",
       "      <td>0.2</td>\n",
       "      <td>19.7910</td>\n",
       "    </tr>\n",
       "    <tr>\n",
       "      <th>9991</th>\n",
       "      <td>1297</td>\n",
       "      <td>CA-2014-115427</td>\n",
       "      <td>2016-12-30</td>\n",
       "      <td>2017-01-03</td>\n",
       "      <td>Standard Class</td>\n",
       "      <td>EB-13975</td>\n",
       "      <td>Erica Bern</td>\n",
       "      <td>Corporate</td>\n",
       "      <td>United States</td>\n",
       "      <td>Fairfield</td>\n",
       "      <td>...</td>\n",
       "      <td>94533</td>\n",
       "      <td>West</td>\n",
       "      <td>OFF-BI-10002103</td>\n",
       "      <td>Office Supplies</td>\n",
       "      <td>Binders</td>\n",
       "      <td>Cardinal Slant-D Ring Binder, Heavy Gauge Vinyl</td>\n",
       "      <td>13.904</td>\n",
       "      <td>2</td>\n",
       "      <td>0.2</td>\n",
       "      <td>4.5188</td>\n",
       "    </tr>\n",
       "    <tr>\n",
       "      <th>9992</th>\n",
       "      <td>1298</td>\n",
       "      <td>CA-2014-115427</td>\n",
       "      <td>2016-12-30</td>\n",
       "      <td>2017-01-03</td>\n",
       "      <td>Standard Class</td>\n",
       "      <td>EB-13975</td>\n",
       "      <td>Erica Bern</td>\n",
       "      <td>Corporate</td>\n",
       "      <td>United States</td>\n",
       "      <td>Fairfield</td>\n",
       "      <td>...</td>\n",
       "      <td>94533</td>\n",
       "      <td>West</td>\n",
       "      <td>OFF-BI-10004632</td>\n",
       "      <td>Office Supplies</td>\n",
       "      <td>Binders</td>\n",
       "      <td>GBC Binding covers</td>\n",
       "      <td>20.720</td>\n",
       "      <td>2</td>\n",
       "      <td>0.2</td>\n",
       "      <td>6.4750</td>\n",
       "    </tr>\n",
       "    <tr>\n",
       "      <th>9993</th>\n",
       "      <td>5092</td>\n",
       "      <td>CA-2014-156720</td>\n",
       "      <td>2016-12-30</td>\n",
       "      <td>2017-01-03</td>\n",
       "      <td>Standard Class</td>\n",
       "      <td>JM-15580</td>\n",
       "      <td>Jill Matthias</td>\n",
       "      <td>Consumer</td>\n",
       "      <td>United States</td>\n",
       "      <td>Loveland</td>\n",
       "      <td>...</td>\n",
       "      <td>80538</td>\n",
       "      <td>West</td>\n",
       "      <td>OFF-FA-10003472</td>\n",
       "      <td>Office Supplies</td>\n",
       "      <td>Fasteners</td>\n",
       "      <td>Bagged Rubber Bands</td>\n",
       "      <td>3.024</td>\n",
       "      <td>3</td>\n",
       "      <td>0.2</td>\n",
       "      <td>-0.6048</td>\n",
       "    </tr>\n",
       "  </tbody>\n",
       "</table>\n",
       "<p>9994 rows × 21 columns</p>\n",
       "</div>"
      ],
      "text/plain": [
       "      Row ID        Order ID Order Date  Ship Date       Ship Mode  \\\n",
       "0       7981  CA-2011-103800 2013-01-03 2013-01-07  Standard Class   \n",
       "1        740  CA-2011-112326 2013-01-04 2013-01-08  Standard Class   \n",
       "2        741  CA-2011-112326 2013-01-04 2013-01-08  Standard Class   \n",
       "3        742  CA-2011-112326 2013-01-04 2013-01-08  Standard Class   \n",
       "4       1760  CA-2011-141817 2013-01-05 2013-01-12  Standard Class   \n",
       "...      ...             ...        ...        ...             ...   \n",
       "9989     908  CA-2014-143259 2016-12-30 2017-01-03  Standard Class   \n",
       "9990     909  CA-2014-143259 2016-12-30 2017-01-03  Standard Class   \n",
       "9991    1297  CA-2014-115427 2016-12-30 2017-01-03  Standard Class   \n",
       "9992    1298  CA-2014-115427 2016-12-30 2017-01-03  Standard Class   \n",
       "9993    5092  CA-2014-156720 2016-12-30 2017-01-03  Standard Class   \n",
       "\n",
       "     Customer ID      Customer Name      Segment        Country  \\\n",
       "0       DP-13000      Darren Powers     Consumer  United States   \n",
       "1       PO-19195      Phillina Ober  Home Office  United States   \n",
       "2       PO-19195      Phillina Ober  Home Office  United States   \n",
       "3       PO-19195      Phillina Ober  Home Office  United States   \n",
       "4       MB-18085         Mick Brown     Consumer  United States   \n",
       "...          ...                ...          ...            ...   \n",
       "9989    PO-18865  Patrick O'Donnell     Consumer  United States   \n",
       "9990    PO-18865  Patrick O'Donnell     Consumer  United States   \n",
       "9991    EB-13975         Erica Bern    Corporate  United States   \n",
       "9992    EB-13975         Erica Bern    Corporate  United States   \n",
       "9993    JM-15580      Jill Matthias     Consumer  United States   \n",
       "\n",
       "               City  ... Postal Code   Region       Product ID  \\\n",
       "0           Houston  ...       77095  Central  OFF-PA-10000174   \n",
       "1        Naperville  ...       60540  Central  OFF-LA-10003223   \n",
       "2        Naperville  ...       60540  Central  OFF-ST-10002743   \n",
       "3        Naperville  ...       60540  Central  OFF-BI-10004094   \n",
       "4      Philadelphia  ...       19143     East  OFF-AR-10003478   \n",
       "...             ...  ...         ...      ...              ...   \n",
       "9989  New York City  ...       10009     East  TEC-PH-10004774   \n",
       "9990  New York City  ...       10009     East  OFF-BI-10003684   \n",
       "9991      Fairfield  ...       94533     West  OFF-BI-10002103   \n",
       "9992      Fairfield  ...       94533     West  OFF-BI-10004632   \n",
       "9993       Loveland  ...       80538     West  OFF-FA-10003472   \n",
       "\n",
       "             Category Sub-Category  \\\n",
       "0     Office Supplies        Paper   \n",
       "1     Office Supplies       Labels   \n",
       "2     Office Supplies      Storage   \n",
       "3     Office Supplies      Binders   \n",
       "4     Office Supplies          Art   \n",
       "...               ...          ...   \n",
       "9989       Technology       Phones   \n",
       "9990  Office Supplies      Binders   \n",
       "9991  Office Supplies      Binders   \n",
       "9992  Office Supplies      Binders   \n",
       "9993  Office Supplies    Fasteners   \n",
       "\n",
       "                                           Product Name    Sales  Quantity  \\\n",
       "0     Message Book, Wirebound, Four 5 1/2\" X 4\" Form...   16.448         2   \n",
       "1                                             Avery 508   11.784         3   \n",
       "2                         SAFCO Boltless Steel Shelving  272.736         3   \n",
       "3            GBC Standard Plastic Binding Systems Combs    3.540         2   \n",
       "4     Avery Hi-Liter EverBold Pen Style Fluorescent ...   19.536         3   \n",
       "...                                                 ...      ...       ...   \n",
       "9989                          Gear Head AU3700S Headset   90.930         7   \n",
       "9990               Wilson Jones Legal Size Ring Binders   52.776         3   \n",
       "9991    Cardinal Slant-D Ring Binder, Heavy Gauge Vinyl   13.904         2   \n",
       "9992                                 GBC Binding covers   20.720         2   \n",
       "9993                                Bagged Rubber Bands    3.024         3   \n",
       "\n",
       "      Discount   Profit  \n",
       "0          0.2   5.5512  \n",
       "1          0.2   4.2717  \n",
       "2          0.2 -64.7748  \n",
       "3          0.8  -5.4870  \n",
       "4          0.2   4.8840  \n",
       "...        ...      ...  \n",
       "9989       0.0   2.7279  \n",
       "9990       0.2  19.7910  \n",
       "9991       0.2   4.5188  \n",
       "9992       0.2   6.4750  \n",
       "9993       0.2  -0.6048  \n",
       "\n",
       "[9994 rows x 21 columns]"
      ]
     },
     "execution_count": 104,
     "metadata": {},
     "output_type": "execute_result"
    }
   ],
   "source": [
    "df"
   ]
  },
  {
   "cell_type": "code",
   "execution_count": 137,
   "id": "7b5e88a3",
   "metadata": {},
   "outputs": [],
   "source": [
    "g=df.groupby('Region')"
   ]
  },
  {
   "cell_type": "code",
   "execution_count": 138,
   "id": "7d8b23f6",
   "metadata": {},
   "outputs": [
    {
     "data": {
      "text/plain": [
       "<pandas.core.groupby.generic.DataFrameGroupBy object at 0x0000025EDBE86FA0>"
      ]
     },
     "execution_count": 138,
     "metadata": {},
     "output_type": "execute_result"
    }
   ],
   "source": [
    "g"
   ]
  },
  {
   "cell_type": "code",
   "execution_count": 140,
   "id": "43f9cb18",
   "metadata": {},
   "outputs": [
    {
     "name": "stdout",
     "output_type": "stream",
     "text": [
      "Central\n",
      "      Row ID        Order ID Order Date  Ship Date       Ship Mode  \\\n",
      "0       7981  CA-2011-103800 2013-01-03 2013-01-07  Standard Class   \n",
      "1        740  CA-2011-112326 2013-01-04 2013-01-08  Standard Class   \n",
      "2        741  CA-2011-112326 2013-01-04 2013-01-08  Standard Class   \n",
      "3        742  CA-2011-112326 2013-01-04 2013-01-08  Standard Class   \n",
      "14      7661  CA-2011-105417 2013-01-07 2013-01-12  Standard Class   \n",
      "...      ...             ...        ...        ...             ...   \n",
      "9970    6822  CA-2014-163860 2016-12-28 2017-01-01  Standard Class   \n",
      "9971    7485  CA-2014-135111 2016-12-28 2017-01-02  Standard Class   \n",
      "9972    7486  CA-2014-135111 2016-12-28 2017-01-02  Standard Class   \n",
      "9978    4240  CA-2014-158673 2016-12-29 2017-01-04  Standard Class   \n",
      "9987     646  CA-2014-126221 2016-12-30 2017-01-05  Standard Class   \n",
      "\n",
      "     Customer ID       Customer Name      Segment        Country  \\\n",
      "0       DP-13000       Darren Powers     Consumer  United States   \n",
      "1       PO-19195       Phillina Ober  Home Office  United States   \n",
      "2       PO-19195       Phillina Ober  Home Office  United States   \n",
      "3       PO-19195       Phillina Ober  Home Office  United States   \n",
      "14      VS-21820    Vivek Sundaresam     Consumer  United States   \n",
      "...          ...                 ...          ...            ...   \n",
      "9970    LO-17170          Lori Olson    Corporate  United States   \n",
      "9971    CS-12400  Christopher Schild  Home Office  United States   \n",
      "9972    CS-12400  Christopher Schild  Home Office  United States   \n",
      "9978    KB-16600         Ken Brennan    Corporate  United States   \n",
      "9987    CC-12430         Chuck Clark  Home Office  United States   \n",
      "\n",
      "              City  ... Postal Code   Region       Product ID  \\\n",
      "0          Houston  ...       77095  Central  OFF-PA-10000174   \n",
      "1       Naperville  ...       60540  Central  OFF-LA-10003223   \n",
      "2       Naperville  ...       60540  Central  OFF-ST-10002743   \n",
      "3       Naperville  ...       60540  Central  OFF-BI-10004094   \n",
      "14      Huntsville  ...       77340  Central  FUR-FU-10004864   \n",
      "...            ...  ...         ...      ...              ...   \n",
      "9970        Peoria  ...       61604  Central  FUR-FU-10001935   \n",
      "9971         Fargo  ...       58103  Central  OFF-AR-10004707   \n",
      "9972         Fargo  ...       58103  Central  OFF-BI-10004040   \n",
      "9978  Grand Rapids  ...       49505  Central  OFF-PA-10000994   \n",
      "9987      Columbus  ...       47201  Central  OFF-AP-10002457   \n",
      "\n",
      "             Category Sub-Category  \\\n",
      "0     Office Supplies        Paper   \n",
      "1     Office Supplies       Labels   \n",
      "2     Office Supplies      Storage   \n",
      "3     Office Supplies      Binders   \n",
      "14          Furniture  Furnishings   \n",
      "...               ...          ...   \n",
      "9970        Furniture  Furnishings   \n",
      "9971  Office Supplies          Art   \n",
      "9972  Office Supplies      Binders   \n",
      "9978  Office Supplies        Paper   \n",
      "9987  Office Supplies   Appliances   \n",
      "\n",
      "                                           Product Name    Sales  Quantity  \\\n",
      "0     Message Book, Wirebound, Four 5 1/2\" X 4\" Form...   16.448         2   \n",
      "1                                             Avery 508   11.784         3   \n",
      "2                         SAFCO Boltless Steel Shelving  272.736         3   \n",
      "3            GBC Standard Plastic Binding Systems Combs    3.540         2   \n",
      "14    Howard Miller 14-1/2\" Diameter Chrome Round Wa...   76.728         3   \n",
      "...                                                 ...      ...       ...   \n",
      "9970                   3M Hangers With Command Adhesive    2.960         2   \n",
      "9971                            Staples in misc. colors    2.480         1   \n",
      "9972                        Wilson Jones Impact Binders   25.900         5   \n",
      "9978                                         Xerox 1915  209.700         2   \n",
      "9987  Eureka The Boss Plus 12-Amp Hard Box Upright V...  209.300         2   \n",
      "\n",
      "      Discount    Profit  \n",
      "0          0.2    5.5512  \n",
      "1          0.2    4.2717  \n",
      "2          0.2  -64.7748  \n",
      "3          0.8   -5.4870  \n",
      "14         0.6  -53.7096  \n",
      "...        ...       ...  \n",
      "9970       0.6   -1.4060  \n",
      "9971       0.0    0.8680  \n",
      "9972       0.0   12.6910  \n",
      "9978       0.0  100.6560  \n",
      "9987       0.0   56.5110  \n",
      "\n",
      "[2323 rows x 21 columns]\n",
      "East\n",
      "      Row ID        Order ID Order Date  Ship Date       Ship Mode  \\\n",
      "4       1760  CA-2011-141817 2013-01-05 2013-01-12  Standard Class   \n",
      "20       717  CA-2011-130092 2013-01-11 2013-01-14     First Class   \n",
      "30      9629  CA-2011-118192 2013-01-13 2013-01-18  Standard Class   \n",
      "31      9630  CA-2011-118192 2013-01-13 2013-01-18  Standard Class   \n",
      "32      6475  CA-2011-149524 2013-01-14 2013-01-15     First Class   \n",
      "...      ...             ...        ...        ...             ...   \n",
      "9960     574  CA-2014-164826 2016-12-28 2017-01-04  Standard Class   \n",
      "9977    2875  US-2014-102638 2016-12-29 2016-12-31     First Class   \n",
      "9988     907  CA-2014-143259 2016-12-30 2017-01-03  Standard Class   \n",
      "9989     908  CA-2014-143259 2016-12-30 2017-01-03  Standard Class   \n",
      "9990     909  CA-2014-143259 2016-12-30 2017-01-03  Standard Class   \n",
      "\n",
      "     Customer ID      Customer Name    Segment        Country           City  \\\n",
      "4       MB-18085         Mick Brown   Consumer  United States   Philadelphia   \n",
      "20      SV-20365        Seth Vernon   Consumer  United States          Dover   \n",
      "30      MM-17920      Michael Moore   Consumer  United States         Newark   \n",
      "31      MM-17920      Michael Moore   Consumer  United States         Newark   \n",
      "32      BS-11590      Brendan Sweed  Corporate  United States   Philadelphia   \n",
      "...          ...                ...        ...            ...            ...   \n",
      "9960    JF-15415  Jennifer Ferguson   Consumer  United States  New York City   \n",
      "9977    MC-17845       Michael Chen   Consumer  United States  New York City   \n",
      "9988    PO-18865  Patrick O'Donnell   Consumer  United States  New York City   \n",
      "9989    PO-18865  Patrick O'Donnell   Consumer  United States  New York City   \n",
      "9990    PO-18865  Patrick O'Donnell   Consumer  United States  New York City   \n",
      "\n",
      "      ... Postal Code  Region       Product ID         Category Sub-Category  \\\n",
      "4     ...       19143    East  OFF-AR-10003478  Office Supplies          Art   \n",
      "20    ...       19901    East  FUR-FU-10000010        Furniture  Furnishings   \n",
      "30    ...       43055    East  OFF-PA-10002947  Office Supplies        Paper   \n",
      "31    ...       43055    East  OFF-BI-10003476  Office Supplies      Binders   \n",
      "32    ...       19140    East  FUR-BO-10003433        Furniture    Bookcases   \n",
      "...   ...         ...     ...              ...              ...          ...   \n",
      "9960  ...       10024    East  TEC-PH-10000347       Technology       Phones   \n",
      "9977  ...       10035    East  OFF-FA-10002988  Office Supplies    Fasteners   \n",
      "9988  ...       10009    East  FUR-BO-10003441        Furniture    Bookcases   \n",
      "9989  ...       10009    East  TEC-PH-10004774       Technology       Phones   \n",
      "9990  ...       10009    East  OFF-BI-10003684  Office Supplies      Binders   \n",
      "\n",
      "                                           Product Name    Sales  Quantity  \\\n",
      "4     Avery Hi-Liter EverBold Pen Style Fluorescent ...   19.536         3   \n",
      "20      DAX Value U-Channel Document Frames, Easel Back    9.940         2   \n",
      "30                                           Xerox 1923   37.408         7   \n",
      "31                          Avery Metallic Poly Binders    3.438         2   \n",
      "32                Sauder Cornerstone Collection Library   61.960         4   \n",
      "...                                                 ...      ...       ...   \n",
      "9960  Cush Cases Heavy Duty Rugged Cover Case for Sa...   14.850         3   \n",
      "9977                                       Ideal Clamps    6.030         3   \n",
      "9988  Bush Westfield Collection Bookcases, Fully Ass...  323.136         4   \n",
      "9989                          Gear Head AU3700S Headset   90.930         7   \n",
      "9990               Wilson Jones Legal Size Ring Binders   52.776         3   \n",
      "\n",
      "      Discount   Profit  \n",
      "4          0.2   4.8840  \n",
      "20         0.0   3.0814  \n",
      "30         0.2  13.0928  \n",
      "31         0.7  -2.5212  \n",
      "32         0.5 -53.2856  \n",
      "...        ...      ...  \n",
      "9960       0.0   4.0095  \n",
      "9977       0.0   2.9547  \n",
      "9988       0.2  12.1176  \n",
      "9989       0.0   2.7279  \n",
      "9990       0.2  19.7910  \n",
      "\n",
      "[2848 rows x 21 columns]\n",
      "South\n",
      "      Row ID        Order ID Order Date  Ship Date       Ship Mode  \\\n",
      "6       7181  CA-2011-106054 2013-01-06 2013-01-07     First Class   \n",
      "7       7475  CA-2011-167199 2013-01-06 2013-01-10  Standard Class   \n",
      "8       7476  CA-2011-167199 2013-01-06 2013-01-10  Standard Class   \n",
      "9       7477  CA-2011-167199 2013-01-06 2013-01-10  Standard Class   \n",
      "10      7478  CA-2011-167199 2013-01-06 2013-01-10  Standard Class   \n",
      "...      ...             ...        ...        ...             ...   \n",
      "9982    7633  US-2014-158526 2016-12-29 2017-01-01    Second Class   \n",
      "9983    7634  US-2014-158526 2016-12-29 2017-01-01    Second Class   \n",
      "9984    7635  US-2014-158526 2016-12-29 2017-01-01    Second Class   \n",
      "9985    7636  US-2014-158526 2016-12-29 2017-01-01    Second Class   \n",
      "9986    7637  US-2014-158526 2016-12-29 2017-01-01    Second Class   \n",
      "\n",
      "     Customer ID     Customer Name      Segment        Country        City  \\\n",
      "6       JO-15145     Jack O'Briant    Corporate  United States      Athens   \n",
      "7       ME-17320     Maria Etezadi  Home Office  United States   Henderson   \n",
      "8       ME-17320     Maria Etezadi  Home Office  United States   Henderson   \n",
      "9       ME-17320     Maria Etezadi  Home Office  United States   Henderson   \n",
      "10      ME-17320     Maria Etezadi  Home Office  United States   Henderson   \n",
      "...          ...               ...          ...            ...         ...   \n",
      "9982    KH-16360  Katherine Hughes     Consumer  United States  Louisville   \n",
      "9983    KH-16360  Katherine Hughes     Consumer  United States  Louisville   \n",
      "9984    KH-16360  Katherine Hughes     Consumer  United States  Louisville   \n",
      "9985    KH-16360  Katherine Hughes     Consumer  United States  Louisville   \n",
      "9986    KH-16360  Katherine Hughes     Consumer  United States  Louisville   \n",
      "\n",
      "      ... Postal Code  Region       Product ID         Category Sub-Category  \\\n",
      "6     ...       30605   South  OFF-AR-10002399  Office Supplies          Art   \n",
      "7     ...       42420   South  FUR-CH-10004063        Furniture       Chairs   \n",
      "8     ...       42420   South  OFF-BI-10004632  Office Supplies      Binders   \n",
      "9     ...       42420   South  OFF-AR-10001662  Office Supplies          Art   \n",
      "10    ...       42420   South  TEC-PH-10004977       Technology       Phones   \n",
      "...   ...         ...     ...              ...              ...          ...   \n",
      "9982  ...       40214   South  FUR-CH-10002602        Furniture       Chairs   \n",
      "9983  ...       40214   South  OFF-BI-10002414  Office Supplies      Binders   \n",
      "9984  ...       40214   South  OFF-AR-10003696  Office Supplies          Art   \n",
      "9985  ...       40214   South  FUR-CH-10004495        Furniture       Chairs   \n",
      "9986  ...       40214   South  FUR-CH-10001270        Furniture       Chairs   \n",
      "\n",
      "                                           Product Name    Sales  Quantity  \\\n",
      "6     Dixon Prang Watercolor Pencils, 10-Color Set w...    12.78         3   \n",
      "7               Global Deluxe High-Back Manager's Chair  2573.82         9   \n",
      "8                   Ibico Hi-Tech Manual Binding System   609.98         2   \n",
      "9               Rogers Handheld Barrel Pencil Sharpener     5.48         2   \n",
      "10                                          GE 30524EE4   391.98         2   \n",
      "...                                                 ...      ...       ...   \n",
      "9982  DMI Arturo Collection Mission-style Design Woo...  1207.84         8   \n",
      "9983              GBC ProClick Spines for 32-Hole Punch    12.53         1   \n",
      "9984  Panasonic KP-350BK Electric Pencil Sharpener w...    34.58         1   \n",
      "9985      Global Leather and Oak Executive Chair, Black   300.98         1   \n",
      "9986              Harbour Creations Steel Folding Chair   258.75         3   \n",
      "\n",
      "      Discount    Profit  \n",
      "6          0.0    5.2398  \n",
      "7          0.0  746.4078  \n",
      "8          0.0  274.4910  \n",
      "9          0.0    1.4796  \n",
      "10         0.0  113.6742  \n",
      "...        ...       ...  \n",
      "9982       0.0  314.0384  \n",
      "9983       0.0    5.8891  \n",
      "9984       0.0   10.0282  \n",
      "9985       0.0   87.2842  \n",
      "9986       0.0   77.6250  \n",
      "\n",
      "[1620 rows x 21 columns]\n",
      "West\n",
      "      Row ID        Order ID Order Date  Ship Date       Ship Mode  \\\n",
      "5       5328  CA-2011-130813 2013-01-06 2013-01-08    Second Class   \n",
      "27      4938  CA-2011-157147 2013-01-13 2013-01-18  Standard Class   \n",
      "28      4939  CA-2011-157147 2013-01-13 2013-01-18  Standard Class   \n",
      "29      4940  CA-2011-157147 2013-01-13 2013-01-18  Standard Class   \n",
      "38      5365  CA-2011-123477 2013-01-18 2013-01-21    Second Class   \n",
      "...      ...             ...        ...        ...             ...   \n",
      "9980    5457  CA-2014-130631 2016-12-29 2017-01-02  Standard Class   \n",
      "9981    5458  CA-2014-130631 2016-12-29 2017-01-02  Standard Class   \n",
      "9991    1297  CA-2014-115427 2016-12-30 2017-01-03  Standard Class   \n",
      "9992    1298  CA-2014-115427 2016-12-30 2017-01-03  Standard Class   \n",
      "9993    5092  CA-2014-156720 2016-12-30 2017-01-03  Standard Class   \n",
      "\n",
      "     Customer ID     Customer Name    Segment        Country           City  \\\n",
      "5       LS-17230  Lycoris Saunders   Consumer  United States    Los Angeles   \n",
      "27      BD-11605      Brian Dahlen   Consumer  United States  San Francisco   \n",
      "28      BD-11605      Brian Dahlen   Consumer  United States  San Francisco   \n",
      "29      BD-11605      Brian Dahlen   Consumer  United States  San Francisco   \n",
      "38      DW-13195      David Wiener  Corporate  United States    Springfield   \n",
      "...          ...               ...        ...            ...            ...   \n",
      "9980    BS-11755     Bruce Stewart   Consumer  United States        Edmonds   \n",
      "9981    BS-11755     Bruce Stewart   Consumer  United States        Edmonds   \n",
      "9991    EB-13975        Erica Bern  Corporate  United States      Fairfield   \n",
      "9992    EB-13975        Erica Bern  Corporate  United States      Fairfield   \n",
      "9993    JM-15580     Jill Matthias   Consumer  United States       Loveland   \n",
      "\n",
      "      ... Postal Code  Region       Product ID         Category Sub-Category  \\\n",
      "5     ...       90049    West  OFF-PA-10002005  Office Supplies        Paper   \n",
      "27    ...       94109    West  OFF-ST-10000078  Office Supplies      Storage   \n",
      "28    ...       94109    West  FUR-BO-10003034        Furniture    Bookcases   \n",
      "29    ...       94109    West  OFF-AR-10003514  Office Supplies          Art   \n",
      "38    ...       97477    West  OFF-AP-10000692  Office Supplies   Appliances   \n",
      "...   ...         ...     ...              ...              ...          ...   \n",
      "9980  ...       98026    West  OFF-FA-10000089  Office Supplies    Fasteners   \n",
      "9981  ...       98026    West  FUR-FU-10004093        Furniture  Furnishings   \n",
      "9991  ...       94533    West  OFF-BI-10002103  Office Supplies      Binders   \n",
      "9992  ...       94533    West  OFF-BI-10004632  Office Supplies      Binders   \n",
      "9993  ...       80538    West  OFF-FA-10003472  Office Supplies    Fasteners   \n",
      "\n",
      "                                         Product Name     Sales  Quantity  \\\n",
      "5                                           Xerox 225    19.440         3   \n",
      "27              Tennsco 6- and 18-Compartment Lockers  1325.850         5   \n",
      "28      O'Sullivan Elevations Bookcase, Cherry Finish   333.999         3   \n",
      "29                       4009 Highlighters by Sanford    19.900         5   \n",
      "38          Fellowes Mighty 8 Compact Surge Protector    64.864         4   \n",
      "...                                               ...       ...       ...   \n",
      "9980                                 Acco Glide Clips    19.600         5   \n",
      "9981          Hand-Finished Solid Wood Document Frame    68.460         2   \n",
      "9991  Cardinal Slant-D Ring Binder, Heavy Gauge Vinyl    13.904         2   \n",
      "9992                               GBC Binding covers    20.720         2   \n",
      "9993                              Bagged Rubber Bands     3.024         3   \n",
      "\n",
      "      Discount    Profit  \n",
      "5         0.00    9.3312  \n",
      "27        0.00  238.6530  \n",
      "28        0.15    3.9294  \n",
      "29        0.00    6.5670  \n",
      "38        0.20    6.4864  \n",
      "...        ...       ...  \n",
      "9980      0.00    9.6040  \n",
      "9981      0.00   20.5380  \n",
      "9991      0.20    4.5188  \n",
      "9992      0.20    6.4750  \n",
      "9993      0.20   -0.6048  \n",
      "\n",
      "[3203 rows x 21 columns]\n"
     ]
    }
   ],
   "source": [
    "for Region, Region_df in g:\n",
    "    print(Region)\n",
    "    print(Region_df)"
   ]
  },
  {
   "cell_type": "code",
   "execution_count": 129,
   "id": "0ba35679",
   "metadata": {},
   "outputs": [
    {
     "data": {
      "text/plain": [
       "2"
      ]
     },
     "execution_count": 129,
     "metadata": {},
     "output_type": "execute_result"
    }
   ],
   "source": [
    "df.ndim"
   ]
  },
  {
   "cell_type": "code",
   "execution_count": 122,
   "id": "41f5237a",
   "metadata": {},
   "outputs": [],
   "source": [
    "g=df.groupby('Country')"
   ]
  },
  {
   "cell_type": "code",
   "execution_count": 123,
   "id": "3c665b4f",
   "metadata": {},
   "outputs": [
    {
     "data": {
      "text/plain": [
       "<pandas.core.groupby.generic.DataFrameGroupBy object at 0x0000025EDBE806D0>"
      ]
     },
     "execution_count": 123,
     "metadata": {},
     "output_type": "execute_result"
    }
   ],
   "source": [
    "g"
   ]
  },
  {
   "cell_type": "code",
   "execution_count": 127,
   "id": "c9c42c9d",
   "metadata": {},
   "outputs": [
    {
     "name": "stdout",
     "output_type": "stream",
     "text": [
      "United States\n",
      "      Row ID        Order ID Order Date  Ship Date       Ship Mode  \\\n",
      "0       7981  CA-2011-103800 2013-01-03 2013-01-07  Standard Class   \n",
      "1        740  CA-2011-112326 2013-01-04 2013-01-08  Standard Class   \n",
      "2        741  CA-2011-112326 2013-01-04 2013-01-08  Standard Class   \n",
      "3        742  CA-2011-112326 2013-01-04 2013-01-08  Standard Class   \n",
      "4       1760  CA-2011-141817 2013-01-05 2013-01-12  Standard Class   \n",
      "...      ...             ...        ...        ...             ...   \n",
      "9989     908  CA-2014-143259 2016-12-30 2017-01-03  Standard Class   \n",
      "9990     909  CA-2014-143259 2016-12-30 2017-01-03  Standard Class   \n",
      "9991    1297  CA-2014-115427 2016-12-30 2017-01-03  Standard Class   \n",
      "9992    1298  CA-2014-115427 2016-12-30 2017-01-03  Standard Class   \n",
      "9993    5092  CA-2014-156720 2016-12-30 2017-01-03  Standard Class   \n",
      "\n",
      "     Customer ID      Customer Name      Segment        Country  \\\n",
      "0       DP-13000      Darren Powers     Consumer  United States   \n",
      "1       PO-19195      Phillina Ober  Home Office  United States   \n",
      "2       PO-19195      Phillina Ober  Home Office  United States   \n",
      "3       PO-19195      Phillina Ober  Home Office  United States   \n",
      "4       MB-18085         Mick Brown     Consumer  United States   \n",
      "...          ...                ...          ...            ...   \n",
      "9989    PO-18865  Patrick O'Donnell     Consumer  United States   \n",
      "9990    PO-18865  Patrick O'Donnell     Consumer  United States   \n",
      "9991    EB-13975         Erica Bern    Corporate  United States   \n",
      "9992    EB-13975         Erica Bern    Corporate  United States   \n",
      "9993    JM-15580      Jill Matthias     Consumer  United States   \n",
      "\n",
      "               City  ... Postal Code   Region       Product ID  \\\n",
      "0           Houston  ...       77095  Central  OFF-PA-10000174   \n",
      "1        Naperville  ...       60540  Central  OFF-LA-10003223   \n",
      "2        Naperville  ...       60540  Central  OFF-ST-10002743   \n",
      "3        Naperville  ...       60540  Central  OFF-BI-10004094   \n",
      "4      Philadelphia  ...       19143     East  OFF-AR-10003478   \n",
      "...             ...  ...         ...      ...              ...   \n",
      "9989  New York City  ...       10009     East  TEC-PH-10004774   \n",
      "9990  New York City  ...       10009     East  OFF-BI-10003684   \n",
      "9991      Fairfield  ...       94533     West  OFF-BI-10002103   \n",
      "9992      Fairfield  ...       94533     West  OFF-BI-10004632   \n",
      "9993       Loveland  ...       80538     West  OFF-FA-10003472   \n",
      "\n",
      "             Category Sub-Category  \\\n",
      "0     Office Supplies        Paper   \n",
      "1     Office Supplies       Labels   \n",
      "2     Office Supplies      Storage   \n",
      "3     Office Supplies      Binders   \n",
      "4     Office Supplies          Art   \n",
      "...               ...          ...   \n",
      "9989       Technology       Phones   \n",
      "9990  Office Supplies      Binders   \n",
      "9991  Office Supplies      Binders   \n",
      "9992  Office Supplies      Binders   \n",
      "9993  Office Supplies    Fasteners   \n",
      "\n",
      "                                           Product Name    Sales  Quantity  \\\n",
      "0     Message Book, Wirebound, Four 5 1/2\" X 4\" Form...   16.448         2   \n",
      "1                                             Avery 508   11.784         3   \n",
      "2                         SAFCO Boltless Steel Shelving  272.736         3   \n",
      "3            GBC Standard Plastic Binding Systems Combs    3.540         2   \n",
      "4     Avery Hi-Liter EverBold Pen Style Fluorescent ...   19.536         3   \n",
      "...                                                 ...      ...       ...   \n",
      "9989                          Gear Head AU3700S Headset   90.930         7   \n",
      "9990               Wilson Jones Legal Size Ring Binders   52.776         3   \n",
      "9991    Cardinal Slant-D Ring Binder, Heavy Gauge Vinyl   13.904         2   \n",
      "9992                                 GBC Binding covers   20.720         2   \n",
      "9993                                Bagged Rubber Bands    3.024         3   \n",
      "\n",
      "      Discount   Profit  \n",
      "0          0.2   5.5512  \n",
      "1          0.2   4.2717  \n",
      "2          0.2 -64.7748  \n",
      "3          0.8  -5.4870  \n",
      "4          0.2   4.8840  \n",
      "...        ...      ...  \n",
      "9989       0.0   2.7279  \n",
      "9990       0.2  19.7910  \n",
      "9991       0.2   4.5188  \n",
      "9992       0.2   6.4750  \n",
      "9993       0.2  -0.6048  \n",
      "\n",
      "[9994 rows x 21 columns]\n"
     ]
    }
   ],
   "source": [
    "for Country, Country_df in g:\n",
    "    print(Country)\n",
    "    print(Country_df)"
   ]
  },
  {
   "cell_type": "code",
   "execution_count": 143,
   "id": "48d6f80e",
   "metadata": {},
   "outputs": [
    {
     "data": {
      "text/html": [
       "<div>\n",
       "<style scoped>\n",
       "    .dataframe tbody tr th:only-of-type {\n",
       "        vertical-align: middle;\n",
       "    }\n",
       "\n",
       "    .dataframe tbody tr th {\n",
       "        vertical-align: top;\n",
       "    }\n",
       "\n",
       "    .dataframe thead th {\n",
       "        text-align: right;\n",
       "    }\n",
       "</style>\n",
       "<table border=\"1\" class=\"dataframe\">\n",
       "  <thead>\n",
       "    <tr style=\"text-align: right;\">\n",
       "      <th></th>\n",
       "      <th>Row ID</th>\n",
       "      <th>Order ID</th>\n",
       "      <th>Order Date</th>\n",
       "      <th>Ship Date</th>\n",
       "      <th>Ship Mode</th>\n",
       "      <th>Customer ID</th>\n",
       "      <th>Customer Name</th>\n",
       "      <th>Segment</th>\n",
       "      <th>Country</th>\n",
       "      <th>City</th>\n",
       "      <th>...</th>\n",
       "      <th>Postal Code</th>\n",
       "      <th>Region</th>\n",
       "      <th>Product ID</th>\n",
       "      <th>Category</th>\n",
       "      <th>Sub-Category</th>\n",
       "      <th>Product Name</th>\n",
       "      <th>Sales</th>\n",
       "      <th>Quantity</th>\n",
       "      <th>Discount</th>\n",
       "      <th>Profit</th>\n",
       "    </tr>\n",
       "  </thead>\n",
       "  <tbody>\n",
       "    <tr>\n",
       "      <th>0</th>\n",
       "      <td>7981</td>\n",
       "      <td>CA-2011-103800</td>\n",
       "      <td>2013-01-03</td>\n",
       "      <td>2013-01-07</td>\n",
       "      <td>Standard Class</td>\n",
       "      <td>DP-13000</td>\n",
       "      <td>Darren Powers</td>\n",
       "      <td>Consumer</td>\n",
       "      <td>United States</td>\n",
       "      <td>Houston</td>\n",
       "      <td>...</td>\n",
       "      <td>77095</td>\n",
       "      <td>Central</td>\n",
       "      <td>OFF-PA-10000174</td>\n",
       "      <td>Office Supplies</td>\n",
       "      <td>Paper</td>\n",
       "      <td>Message Book, Wirebound, Four 5 1/2\" X 4\" Form...</td>\n",
       "      <td>16.448</td>\n",
       "      <td>2</td>\n",
       "      <td>0.2</td>\n",
       "      <td>5.5512</td>\n",
       "    </tr>\n",
       "    <tr>\n",
       "      <th>1</th>\n",
       "      <td>740</td>\n",
       "      <td>CA-2011-112326</td>\n",
       "      <td>2013-01-04</td>\n",
       "      <td>2013-01-08</td>\n",
       "      <td>Standard Class</td>\n",
       "      <td>PO-19195</td>\n",
       "      <td>Phillina Ober</td>\n",
       "      <td>Home Office</td>\n",
       "      <td>United States</td>\n",
       "      <td>Naperville</td>\n",
       "      <td>...</td>\n",
       "      <td>60540</td>\n",
       "      <td>Central</td>\n",
       "      <td>OFF-LA-10003223</td>\n",
       "      <td>Office Supplies</td>\n",
       "      <td>Labels</td>\n",
       "      <td>Avery 508</td>\n",
       "      <td>11.784</td>\n",
       "      <td>3</td>\n",
       "      <td>0.2</td>\n",
       "      <td>4.2717</td>\n",
       "    </tr>\n",
       "    <tr>\n",
       "      <th>2</th>\n",
       "      <td>741</td>\n",
       "      <td>CA-2011-112326</td>\n",
       "      <td>2013-01-04</td>\n",
       "      <td>2013-01-08</td>\n",
       "      <td>Standard Class</td>\n",
       "      <td>PO-19195</td>\n",
       "      <td>Phillina Ober</td>\n",
       "      <td>Home Office</td>\n",
       "      <td>United States</td>\n",
       "      <td>Naperville</td>\n",
       "      <td>...</td>\n",
       "      <td>60540</td>\n",
       "      <td>Central</td>\n",
       "      <td>OFF-ST-10002743</td>\n",
       "      <td>Office Supplies</td>\n",
       "      <td>Storage</td>\n",
       "      <td>SAFCO Boltless Steel Shelving</td>\n",
       "      <td>272.736</td>\n",
       "      <td>3</td>\n",
       "      <td>0.2</td>\n",
       "      <td>-64.7748</td>\n",
       "    </tr>\n",
       "    <tr>\n",
       "      <th>3</th>\n",
       "      <td>742</td>\n",
       "      <td>CA-2011-112326</td>\n",
       "      <td>2013-01-04</td>\n",
       "      <td>2013-01-08</td>\n",
       "      <td>Standard Class</td>\n",
       "      <td>PO-19195</td>\n",
       "      <td>Phillina Ober</td>\n",
       "      <td>Home Office</td>\n",
       "      <td>United States</td>\n",
       "      <td>Naperville</td>\n",
       "      <td>...</td>\n",
       "      <td>60540</td>\n",
       "      <td>Central</td>\n",
       "      <td>OFF-BI-10004094</td>\n",
       "      <td>Office Supplies</td>\n",
       "      <td>Binders</td>\n",
       "      <td>GBC Standard Plastic Binding Systems Combs</td>\n",
       "      <td>3.540</td>\n",
       "      <td>2</td>\n",
       "      <td>0.8</td>\n",
       "      <td>-5.4870</td>\n",
       "    </tr>\n",
       "    <tr>\n",
       "      <th>14</th>\n",
       "      <td>7661</td>\n",
       "      <td>CA-2011-105417</td>\n",
       "      <td>2013-01-07</td>\n",
       "      <td>2013-01-12</td>\n",
       "      <td>Standard Class</td>\n",
       "      <td>VS-21820</td>\n",
       "      <td>Vivek Sundaresam</td>\n",
       "      <td>Consumer</td>\n",
       "      <td>United States</td>\n",
       "      <td>Huntsville</td>\n",
       "      <td>...</td>\n",
       "      <td>77340</td>\n",
       "      <td>Central</td>\n",
       "      <td>FUR-FU-10004864</td>\n",
       "      <td>Furniture</td>\n",
       "      <td>Furnishings</td>\n",
       "      <td>Howard Miller 14-1/2\" Diameter Chrome Round Wa...</td>\n",
       "      <td>76.728</td>\n",
       "      <td>3</td>\n",
       "      <td>0.6</td>\n",
       "      <td>-53.7096</td>\n",
       "    </tr>\n",
       "    <tr>\n",
       "      <th>...</th>\n",
       "      <td>...</td>\n",
       "      <td>...</td>\n",
       "      <td>...</td>\n",
       "      <td>...</td>\n",
       "      <td>...</td>\n",
       "      <td>...</td>\n",
       "      <td>...</td>\n",
       "      <td>...</td>\n",
       "      <td>...</td>\n",
       "      <td>...</td>\n",
       "      <td>...</td>\n",
       "      <td>...</td>\n",
       "      <td>...</td>\n",
       "      <td>...</td>\n",
       "      <td>...</td>\n",
       "      <td>...</td>\n",
       "      <td>...</td>\n",
       "      <td>...</td>\n",
       "      <td>...</td>\n",
       "      <td>...</td>\n",
       "      <td>...</td>\n",
       "    </tr>\n",
       "    <tr>\n",
       "      <th>9970</th>\n",
       "      <td>6822</td>\n",
       "      <td>CA-2014-163860</td>\n",
       "      <td>2016-12-28</td>\n",
       "      <td>2017-01-01</td>\n",
       "      <td>Standard Class</td>\n",
       "      <td>LO-17170</td>\n",
       "      <td>Lori Olson</td>\n",
       "      <td>Corporate</td>\n",
       "      <td>United States</td>\n",
       "      <td>Peoria</td>\n",
       "      <td>...</td>\n",
       "      <td>61604</td>\n",
       "      <td>Central</td>\n",
       "      <td>FUR-FU-10001935</td>\n",
       "      <td>Furniture</td>\n",
       "      <td>Furnishings</td>\n",
       "      <td>3M Hangers With Command Adhesive</td>\n",
       "      <td>2.960</td>\n",
       "      <td>2</td>\n",
       "      <td>0.6</td>\n",
       "      <td>-1.4060</td>\n",
       "    </tr>\n",
       "    <tr>\n",
       "      <th>9971</th>\n",
       "      <td>7485</td>\n",
       "      <td>CA-2014-135111</td>\n",
       "      <td>2016-12-28</td>\n",
       "      <td>2017-01-02</td>\n",
       "      <td>Standard Class</td>\n",
       "      <td>CS-12400</td>\n",
       "      <td>Christopher Schild</td>\n",
       "      <td>Home Office</td>\n",
       "      <td>United States</td>\n",
       "      <td>Fargo</td>\n",
       "      <td>...</td>\n",
       "      <td>58103</td>\n",
       "      <td>Central</td>\n",
       "      <td>OFF-AR-10004707</td>\n",
       "      <td>Office Supplies</td>\n",
       "      <td>Art</td>\n",
       "      <td>Staples in misc. colors</td>\n",
       "      <td>2.480</td>\n",
       "      <td>1</td>\n",
       "      <td>0.0</td>\n",
       "      <td>0.8680</td>\n",
       "    </tr>\n",
       "    <tr>\n",
       "      <th>9972</th>\n",
       "      <td>7486</td>\n",
       "      <td>CA-2014-135111</td>\n",
       "      <td>2016-12-28</td>\n",
       "      <td>2017-01-02</td>\n",
       "      <td>Standard Class</td>\n",
       "      <td>CS-12400</td>\n",
       "      <td>Christopher Schild</td>\n",
       "      <td>Home Office</td>\n",
       "      <td>United States</td>\n",
       "      <td>Fargo</td>\n",
       "      <td>...</td>\n",
       "      <td>58103</td>\n",
       "      <td>Central</td>\n",
       "      <td>OFF-BI-10004040</td>\n",
       "      <td>Office Supplies</td>\n",
       "      <td>Binders</td>\n",
       "      <td>Wilson Jones Impact Binders</td>\n",
       "      <td>25.900</td>\n",
       "      <td>5</td>\n",
       "      <td>0.0</td>\n",
       "      <td>12.6910</td>\n",
       "    </tr>\n",
       "    <tr>\n",
       "      <th>9978</th>\n",
       "      <td>4240</td>\n",
       "      <td>CA-2014-158673</td>\n",
       "      <td>2016-12-29</td>\n",
       "      <td>2017-01-04</td>\n",
       "      <td>Standard Class</td>\n",
       "      <td>KB-16600</td>\n",
       "      <td>Ken Brennan</td>\n",
       "      <td>Corporate</td>\n",
       "      <td>United States</td>\n",
       "      <td>Grand Rapids</td>\n",
       "      <td>...</td>\n",
       "      <td>49505</td>\n",
       "      <td>Central</td>\n",
       "      <td>OFF-PA-10000994</td>\n",
       "      <td>Office Supplies</td>\n",
       "      <td>Paper</td>\n",
       "      <td>Xerox 1915</td>\n",
       "      <td>209.700</td>\n",
       "      <td>2</td>\n",
       "      <td>0.0</td>\n",
       "      <td>100.6560</td>\n",
       "    </tr>\n",
       "    <tr>\n",
       "      <th>9987</th>\n",
       "      <td>646</td>\n",
       "      <td>CA-2014-126221</td>\n",
       "      <td>2016-12-30</td>\n",
       "      <td>2017-01-05</td>\n",
       "      <td>Standard Class</td>\n",
       "      <td>CC-12430</td>\n",
       "      <td>Chuck Clark</td>\n",
       "      <td>Home Office</td>\n",
       "      <td>United States</td>\n",
       "      <td>Columbus</td>\n",
       "      <td>...</td>\n",
       "      <td>47201</td>\n",
       "      <td>Central</td>\n",
       "      <td>OFF-AP-10002457</td>\n",
       "      <td>Office Supplies</td>\n",
       "      <td>Appliances</td>\n",
       "      <td>Eureka The Boss Plus 12-Amp Hard Box Upright V...</td>\n",
       "      <td>209.300</td>\n",
       "      <td>2</td>\n",
       "      <td>0.0</td>\n",
       "      <td>56.5110</td>\n",
       "    </tr>\n",
       "  </tbody>\n",
       "</table>\n",
       "<p>2323 rows × 21 columns</p>\n",
       "</div>"
      ],
      "text/plain": [
       "      Row ID        Order ID Order Date  Ship Date       Ship Mode  \\\n",
       "0       7981  CA-2011-103800 2013-01-03 2013-01-07  Standard Class   \n",
       "1        740  CA-2011-112326 2013-01-04 2013-01-08  Standard Class   \n",
       "2        741  CA-2011-112326 2013-01-04 2013-01-08  Standard Class   \n",
       "3        742  CA-2011-112326 2013-01-04 2013-01-08  Standard Class   \n",
       "14      7661  CA-2011-105417 2013-01-07 2013-01-12  Standard Class   \n",
       "...      ...             ...        ...        ...             ...   \n",
       "9970    6822  CA-2014-163860 2016-12-28 2017-01-01  Standard Class   \n",
       "9971    7485  CA-2014-135111 2016-12-28 2017-01-02  Standard Class   \n",
       "9972    7486  CA-2014-135111 2016-12-28 2017-01-02  Standard Class   \n",
       "9978    4240  CA-2014-158673 2016-12-29 2017-01-04  Standard Class   \n",
       "9987     646  CA-2014-126221 2016-12-30 2017-01-05  Standard Class   \n",
       "\n",
       "     Customer ID       Customer Name      Segment        Country  \\\n",
       "0       DP-13000       Darren Powers     Consumer  United States   \n",
       "1       PO-19195       Phillina Ober  Home Office  United States   \n",
       "2       PO-19195       Phillina Ober  Home Office  United States   \n",
       "3       PO-19195       Phillina Ober  Home Office  United States   \n",
       "14      VS-21820    Vivek Sundaresam     Consumer  United States   \n",
       "...          ...                 ...          ...            ...   \n",
       "9970    LO-17170          Lori Olson    Corporate  United States   \n",
       "9971    CS-12400  Christopher Schild  Home Office  United States   \n",
       "9972    CS-12400  Christopher Schild  Home Office  United States   \n",
       "9978    KB-16600         Ken Brennan    Corporate  United States   \n",
       "9987    CC-12430         Chuck Clark  Home Office  United States   \n",
       "\n",
       "              City  ... Postal Code   Region       Product ID  \\\n",
       "0          Houston  ...       77095  Central  OFF-PA-10000174   \n",
       "1       Naperville  ...       60540  Central  OFF-LA-10003223   \n",
       "2       Naperville  ...       60540  Central  OFF-ST-10002743   \n",
       "3       Naperville  ...       60540  Central  OFF-BI-10004094   \n",
       "14      Huntsville  ...       77340  Central  FUR-FU-10004864   \n",
       "...            ...  ...         ...      ...              ...   \n",
       "9970        Peoria  ...       61604  Central  FUR-FU-10001935   \n",
       "9971         Fargo  ...       58103  Central  OFF-AR-10004707   \n",
       "9972         Fargo  ...       58103  Central  OFF-BI-10004040   \n",
       "9978  Grand Rapids  ...       49505  Central  OFF-PA-10000994   \n",
       "9987      Columbus  ...       47201  Central  OFF-AP-10002457   \n",
       "\n",
       "             Category Sub-Category  \\\n",
       "0     Office Supplies        Paper   \n",
       "1     Office Supplies       Labels   \n",
       "2     Office Supplies      Storage   \n",
       "3     Office Supplies      Binders   \n",
       "14          Furniture  Furnishings   \n",
       "...               ...          ...   \n",
       "9970        Furniture  Furnishings   \n",
       "9971  Office Supplies          Art   \n",
       "9972  Office Supplies      Binders   \n",
       "9978  Office Supplies        Paper   \n",
       "9987  Office Supplies   Appliances   \n",
       "\n",
       "                                           Product Name    Sales  Quantity  \\\n",
       "0     Message Book, Wirebound, Four 5 1/2\" X 4\" Form...   16.448         2   \n",
       "1                                             Avery 508   11.784         3   \n",
       "2                         SAFCO Boltless Steel Shelving  272.736         3   \n",
       "3            GBC Standard Plastic Binding Systems Combs    3.540         2   \n",
       "14    Howard Miller 14-1/2\" Diameter Chrome Round Wa...   76.728         3   \n",
       "...                                                 ...      ...       ...   \n",
       "9970                   3M Hangers With Command Adhesive    2.960         2   \n",
       "9971                            Staples in misc. colors    2.480         1   \n",
       "9972                        Wilson Jones Impact Binders   25.900         5   \n",
       "9978                                         Xerox 1915  209.700         2   \n",
       "9987  Eureka The Boss Plus 12-Amp Hard Box Upright V...  209.300         2   \n",
       "\n",
       "      Discount    Profit  \n",
       "0          0.2    5.5512  \n",
       "1          0.2    4.2717  \n",
       "2          0.2  -64.7748  \n",
       "3          0.8   -5.4870  \n",
       "14         0.6  -53.7096  \n",
       "...        ...       ...  \n",
       "9970       0.6   -1.4060  \n",
       "9971       0.0    0.8680  \n",
       "9972       0.0   12.6910  \n",
       "9978       0.0  100.6560  \n",
       "9987       0.0   56.5110  \n",
       "\n",
       "[2323 rows x 21 columns]"
      ]
     },
     "execution_count": 143,
     "metadata": {},
     "output_type": "execute_result"
    }
   ],
   "source": [
    "g.get_group('Central')"
   ]
  },
  {
   "cell_type": "code",
   "execution_count": 144,
   "id": "1901b36a",
   "metadata": {},
   "outputs": [
    {
     "name": "stdout",
     "output_type": "stream",
     "text": [
      "         Row ID        Order ID Order Date  Ship Date       Ship Mode  \\\n",
      "Region                                                                  \n",
      "Central    9984  US-2014-169502 2016-12-30 2017-01-05  Standard Class   \n",
      "East       9986  US-2014-169551 2016-12-30 2017-01-04  Standard Class   \n",
      "South      9990  US-2014-168690 2016-12-29 2017-01-03  Standard Class   \n",
      "West       9994  US-2014-168802 2016-12-30 2017-01-05  Standard Class   \n",
      "\n",
      "        Customer ID       Customer Name      Segment        Country  \\\n",
      "Region                                                                \n",
      "Central    ZD-21925  Zuschuss Donatelli  Home Office  United States   \n",
      "East       ZC-21910    Zuschuss Carroll  Home Office  United States   \n",
      "South      ZD-21925  Zuschuss Donatelli  Home Office  United States   \n",
      "West       ZD-21925  Zuschuss Donatelli  Home Office  United States   \n",
      "\n",
      "              City          State  Postal Code       Product ID    Category  \\\n",
      "Region                                                                        \n",
      "Central  Woodstock      Wisconsin        79907  TEC-PH-10004977  Technology   \n",
      "East          York  West Virginia        45503  TEC-PH-10004977  Technology   \n",
      "South    Woodstock       Virginia        72762  TEC-PH-10004977  Technology   \n",
      "West          Yuma        Wyoming        99301  TEC-PH-10004977  Technology   \n",
      "\n",
      "        Sub-Category                        Product Name      Sales  Quantity  \\\n",
      "Region                                                                          \n",
      "Central       Tables  netTALK DUO VoIP Telephone Service  17499.950        14   \n",
      "East          Tables  netTALK DUO VoIP Telephone Service  11199.968        14   \n",
      "South         Tables                 iOttie XL Car Mount  22638.480        14   \n",
      "West          Tables  netTALK DUO VoIP Telephone Service  13999.960        14   \n",
      "\n",
      "         Discount     Profit  \n",
      "Region                        \n",
      "Central       0.8  8399.9760  \n",
      "East          0.7  5039.9856  \n",
      "South         0.7  3177.4750  \n",
      "West          0.7  6719.9808  \n"
     ]
    }
   ],
   "source": [
    "print(g.max())"
   ]
  },
  {
   "cell_type": "code",
   "execution_count": 145,
   "id": "8664367c",
   "metadata": {},
   "outputs": [
    {
     "name": "stdout",
     "output_type": "stream",
     "text": [
      "              Row ID   Postal Code       Sales  Quantity  Discount     Profit\n",
      "Region                                                                       \n",
      "Central  5030.547998  65340.572536  215.772661  3.779595  0.240353  17.092709\n",
      "East     4941.685042  17616.466994  238.336110  3.728230  0.145365  32.135808\n",
      "South    5069.935185  34490.772840  241.803645  3.832716  0.147253  28.857673\n",
      "West     4986.524508  91707.696534  226.493233  3.829535  0.109335  33.849032\n"
     ]
    }
   ],
   "source": [
    "print(g.mean())"
   ]
  },
  {
   "cell_type": "code",
   "execution_count": 146,
   "id": "95bef2e6",
   "metadata": {},
   "outputs": [
    {
     "name": "stdout",
     "output_type": "stream",
     "text": [
      "         Row ID                                                            \\\n",
      "          count         mean          std   min      25%     50%      75%   \n",
      "Region                                                                      \n",
      "Central  2323.0  5030.547998  2923.638538  15.0  2564.50  5029.0  7612.50   \n",
      "East     2848.0  4941.685042  2946.514176  24.0  2297.75  4947.0  7513.25   \n",
      "South    1620.0  5069.935185  2791.096956   1.0  2702.75  5075.0  7489.50   \n",
      "West     3203.0  4986.524508  2848.758232   3.0  2508.00  4988.0  7406.50   \n",
      "\n",
      "                Postal Code                ... Discount       Profit  \\\n",
      "            max       count          mean  ...      75%  max   count   \n",
      "Region                                     ...                         \n",
      "Central  9984.0      2323.0  65340.572536  ...      0.3  0.8  2323.0   \n",
      "East     9986.0      2848.0  17616.466994  ...      0.2  0.7  2848.0   \n",
      "South    9990.0      1620.0  34490.772840  ...      0.2  0.7  1620.0   \n",
      "West     9994.0      3203.0  91707.696534  ...      0.2  0.7  3203.0   \n",
      "\n",
      "                                                                       \\\n",
      "              mean         std        min     25%      50%        75%   \n",
      "Region                                                                  \n",
      "Central  17.092709  291.487465 -3701.8928 -5.6643   5.1840  22.456200   \n",
      "East     32.135808  251.605084 -6599.9780  1.5579   8.1717  28.718550   \n",
      "South    28.857673  212.893088 -3839.9904  1.9471   9.0720  34.233925   \n",
      "West     33.849032  174.109081 -3399.9800  3.8520  11.1664  33.000400   \n",
      "\n",
      "                    \n",
      "               max  \n",
      "Region              \n",
      "Central  8399.9760  \n",
      "East     5039.9856  \n",
      "South    3177.4750  \n",
      "West     6719.9808  \n",
      "\n",
      "[4 rows x 48 columns]\n"
     ]
    }
   ],
   "source": [
    "print(g.describe())"
   ]
  },
  {
   "cell_type": "markdown",
   "id": "aa6e05c8",
   "metadata": {},
   "source": [
    "# Concatenating DataFrames"
   ]
  },
  {
   "cell_type": "code",
   "execution_count": 174,
   "id": "d4d9f808",
   "metadata": {},
   "outputs": [],
   "source": [
    "India_weather=pd.DataFrame({\n",
    "    \"City\":[\"Mumbai\",\"Delhi\",\"Banglore\"],\n",
    "    \"Temperature\":[32,45,57],\n",
    "    \"Humidity\":[80,60,80]\n",
    "})"
   ]
  },
  {
   "cell_type": "code",
   "execution_count": 168,
   "id": "3de8684b",
   "metadata": {},
   "outputs": [
    {
     "data": {
      "text/html": [
       "<div>\n",
       "<style scoped>\n",
       "    .dataframe tbody tr th:only-of-type {\n",
       "        vertical-align: middle;\n",
       "    }\n",
       "\n",
       "    .dataframe tbody tr th {\n",
       "        vertical-align: top;\n",
       "    }\n",
       "\n",
       "    .dataframe thead th {\n",
       "        text-align: right;\n",
       "    }\n",
       "</style>\n",
       "<table border=\"1\" class=\"dataframe\">\n",
       "  <thead>\n",
       "    <tr style=\"text-align: right;\">\n",
       "      <th></th>\n",
       "      <th>City</th>\n",
       "      <th>Temperature</th>\n",
       "      <th>Humidity</th>\n",
       "    </tr>\n",
       "  </thead>\n",
       "  <tbody>\n",
       "    <tr>\n",
       "      <th>0</th>\n",
       "      <td>Mumbai</td>\n",
       "      <td>32</td>\n",
       "      <td>80</td>\n",
       "    </tr>\n",
       "    <tr>\n",
       "      <th>1</th>\n",
       "      <td>Delhi</td>\n",
       "      <td>45</td>\n",
       "      <td>60</td>\n",
       "    </tr>\n",
       "    <tr>\n",
       "      <th>2</th>\n",
       "      <td>Banglore</td>\n",
       "      <td>57</td>\n",
       "      <td>80</td>\n",
       "    </tr>\n",
       "  </tbody>\n",
       "</table>\n",
       "</div>"
      ],
      "text/plain": [
       "       City  Temperature  Humidity\n",
       "0    Mumbai           32        80\n",
       "1     Delhi           45        60\n",
       "2  Banglore           57        80"
      ]
     },
     "execution_count": 168,
     "metadata": {},
     "output_type": "execute_result"
    }
   ],
   "source": [
    "India_weather"
   ]
  },
  {
   "cell_type": "code",
   "execution_count": 179,
   "id": "55bd193c",
   "metadata": {},
   "outputs": [
    {
     "data": {
      "text/html": [
       "<div>\n",
       "<style scoped>\n",
       "    .dataframe tbody tr th:only-of-type {\n",
       "        vertical-align: middle;\n",
       "    }\n",
       "\n",
       "    .dataframe tbody tr th {\n",
       "        vertical-align: top;\n",
       "    }\n",
       "\n",
       "    .dataframe thead th {\n",
       "        text-align: right;\n",
       "    }\n",
       "</style>\n",
       "<table border=\"1\" class=\"dataframe\">\n",
       "  <thead>\n",
       "    <tr style=\"text-align: right;\">\n",
       "      <th></th>\n",
       "      <th>City</th>\n",
       "      <th>Temperature</th>\n",
       "      <th>Humidity</th>\n",
       "    </tr>\n",
       "  </thead>\n",
       "  <tbody>\n",
       "    <tr>\n",
       "      <th>0</th>\n",
       "      <td>New York</td>\n",
       "      <td>21</td>\n",
       "      <td>68</td>\n",
       "    </tr>\n",
       "    <tr>\n",
       "      <th>1</th>\n",
       "      <td>Chicago</td>\n",
       "      <td>14</td>\n",
       "      <td>65</td>\n",
       "    </tr>\n",
       "    <tr>\n",
       "      <th>2</th>\n",
       "      <td>Orando</td>\n",
       "      <td>35</td>\n",
       "      <td>75</td>\n",
       "    </tr>\n",
       "  </tbody>\n",
       "</table>\n",
       "</div>"
      ],
      "text/plain": [
       "       City  Temperature  Humidity\n",
       "0  New York           21        68\n",
       "1   Chicago           14        65\n",
       "2    Orando           35        75"
      ]
     },
     "execution_count": 179,
     "metadata": {},
     "output_type": "execute_result"
    }
   ],
   "source": [
    "USA_weather=pd.DataFrame({\n",
    "    \"City\":[\"New York\", \"Chicago\", \"Orando\"],\n",
    "    \"Temperature\":[21,14,35],\n",
    "    \"Humidity\":[68,65,75]\n",
    "})\n",
    "USA_weather"
   ]
  },
  {
   "cell_type": "code",
   "execution_count": 180,
   "id": "803a110f",
   "metadata": {},
   "outputs": [],
   "source": [
    "#concatenate two dataframes\n",
    "df=pd.concat([India_weather, USA_weather])"
   ]
  },
  {
   "cell_type": "code",
   "execution_count": 181,
   "id": "49dc3868",
   "metadata": {},
   "outputs": [
    {
     "data": {
      "text/html": [
       "<div>\n",
       "<style scoped>\n",
       "    .dataframe tbody tr th:only-of-type {\n",
       "        vertical-align: middle;\n",
       "    }\n",
       "\n",
       "    .dataframe tbody tr th {\n",
       "        vertical-align: top;\n",
       "    }\n",
       "\n",
       "    .dataframe thead th {\n",
       "        text-align: right;\n",
       "    }\n",
       "</style>\n",
       "<table border=\"1\" class=\"dataframe\">\n",
       "  <thead>\n",
       "    <tr style=\"text-align: right;\">\n",
       "      <th></th>\n",
       "      <th>City</th>\n",
       "      <th>Temperature</th>\n",
       "      <th>Humidity</th>\n",
       "    </tr>\n",
       "  </thead>\n",
       "  <tbody>\n",
       "    <tr>\n",
       "      <th>0</th>\n",
       "      <td>Mumbai</td>\n",
       "      <td>32</td>\n",
       "      <td>80</td>\n",
       "    </tr>\n",
       "    <tr>\n",
       "      <th>1</th>\n",
       "      <td>Delhi</td>\n",
       "      <td>45</td>\n",
       "      <td>60</td>\n",
       "    </tr>\n",
       "    <tr>\n",
       "      <th>2</th>\n",
       "      <td>Banglore</td>\n",
       "      <td>57</td>\n",
       "      <td>80</td>\n",
       "    </tr>\n",
       "    <tr>\n",
       "      <th>0</th>\n",
       "      <td>New York</td>\n",
       "      <td>21</td>\n",
       "      <td>68</td>\n",
       "    </tr>\n",
       "    <tr>\n",
       "      <th>1</th>\n",
       "      <td>Chicago</td>\n",
       "      <td>14</td>\n",
       "      <td>65</td>\n",
       "    </tr>\n",
       "    <tr>\n",
       "      <th>2</th>\n",
       "      <td>Orando</td>\n",
       "      <td>35</td>\n",
       "      <td>75</td>\n",
       "    </tr>\n",
       "  </tbody>\n",
       "</table>\n",
       "</div>"
      ],
      "text/plain": [
       "       City  Temperature  Humidity\n",
       "0    Mumbai           32        80\n",
       "1     Delhi           45        60\n",
       "2  Banglore           57        80\n",
       "0  New York           21        68\n",
       "1   Chicago           14        65\n",
       "2    Orando           35        75"
      ]
     },
     "execution_count": 181,
     "metadata": {},
     "output_type": "execute_result"
    }
   ],
   "source": [
    "df"
   ]
  },
  {
   "cell_type": "code",
   "execution_count": 182,
   "id": "a2612c95",
   "metadata": {},
   "outputs": [],
   "source": [
    "#if you want continous indices"
   ]
  },
  {
   "cell_type": "code",
   "execution_count": 183,
   "id": "cf26e446",
   "metadata": {},
   "outputs": [],
   "source": [
    "df=pd.concat([India_weather,USA_weather], ignore_index=True)"
   ]
  },
  {
   "cell_type": "code",
   "execution_count": 184,
   "id": "729650db",
   "metadata": {},
   "outputs": [
    {
     "data": {
      "text/html": [
       "<div>\n",
       "<style scoped>\n",
       "    .dataframe tbody tr th:only-of-type {\n",
       "        vertical-align: middle;\n",
       "    }\n",
       "\n",
       "    .dataframe tbody tr th {\n",
       "        vertical-align: top;\n",
       "    }\n",
       "\n",
       "    .dataframe thead th {\n",
       "        text-align: right;\n",
       "    }\n",
       "</style>\n",
       "<table border=\"1\" class=\"dataframe\">\n",
       "  <thead>\n",
       "    <tr style=\"text-align: right;\">\n",
       "      <th></th>\n",
       "      <th>City</th>\n",
       "      <th>Temperature</th>\n",
       "      <th>Humidity</th>\n",
       "    </tr>\n",
       "  </thead>\n",
       "  <tbody>\n",
       "    <tr>\n",
       "      <th>0</th>\n",
       "      <td>Mumbai</td>\n",
       "      <td>32</td>\n",
       "      <td>80</td>\n",
       "    </tr>\n",
       "    <tr>\n",
       "      <th>1</th>\n",
       "      <td>Delhi</td>\n",
       "      <td>45</td>\n",
       "      <td>60</td>\n",
       "    </tr>\n",
       "    <tr>\n",
       "      <th>2</th>\n",
       "      <td>Banglore</td>\n",
       "      <td>57</td>\n",
       "      <td>80</td>\n",
       "    </tr>\n",
       "    <tr>\n",
       "      <th>3</th>\n",
       "      <td>New York</td>\n",
       "      <td>21</td>\n",
       "      <td>68</td>\n",
       "    </tr>\n",
       "    <tr>\n",
       "      <th>4</th>\n",
       "      <td>Chicago</td>\n",
       "      <td>14</td>\n",
       "      <td>65</td>\n",
       "    </tr>\n",
       "    <tr>\n",
       "      <th>5</th>\n",
       "      <td>Orando</td>\n",
       "      <td>35</td>\n",
       "      <td>75</td>\n",
       "    </tr>\n",
       "  </tbody>\n",
       "</table>\n",
       "</div>"
      ],
      "text/plain": [
       "       City  Temperature  Humidity\n",
       "0    Mumbai           32        80\n",
       "1     Delhi           45        60\n",
       "2  Banglore           57        80\n",
       "3  New York           21        68\n",
       "4   Chicago           14        65\n",
       "5    Orando           35        75"
      ]
     },
     "execution_count": 184,
     "metadata": {},
     "output_type": "execute_result"
    }
   ],
   "source": [
    "df"
   ]
  },
  {
   "cell_type": "code",
   "execution_count": 186,
   "id": "dd905627",
   "metadata": {},
   "outputs": [
    {
     "data": {
      "text/html": [
       "<div>\n",
       "<style scoped>\n",
       "    .dataframe tbody tr th:only-of-type {\n",
       "        vertical-align: middle;\n",
       "    }\n",
       "\n",
       "    .dataframe tbody tr th {\n",
       "        vertical-align: top;\n",
       "    }\n",
       "\n",
       "    .dataframe thead th {\n",
       "        text-align: right;\n",
       "    }\n",
       "</style>\n",
       "<table border=\"1\" class=\"dataframe\">\n",
       "  <thead>\n",
       "    <tr style=\"text-align: right;\">\n",
       "      <th></th>\n",
       "      <th>City</th>\n",
       "      <th>Temperature</th>\n",
       "      <th>Humidity</th>\n",
       "      <th>City</th>\n",
       "      <th>Temperature</th>\n",
       "      <th>Humidity</th>\n",
       "    </tr>\n",
       "  </thead>\n",
       "  <tbody>\n",
       "    <tr>\n",
       "      <th>0</th>\n",
       "      <td>Mumbai</td>\n",
       "      <td>32</td>\n",
       "      <td>80</td>\n",
       "      <td>New York</td>\n",
       "      <td>21</td>\n",
       "      <td>68</td>\n",
       "    </tr>\n",
       "    <tr>\n",
       "      <th>1</th>\n",
       "      <td>Delhi</td>\n",
       "      <td>45</td>\n",
       "      <td>60</td>\n",
       "      <td>Chicago</td>\n",
       "      <td>14</td>\n",
       "      <td>65</td>\n",
       "    </tr>\n",
       "    <tr>\n",
       "      <th>2</th>\n",
       "      <td>Banglore</td>\n",
       "      <td>57</td>\n",
       "      <td>80</td>\n",
       "      <td>Orando</td>\n",
       "      <td>35</td>\n",
       "      <td>75</td>\n",
       "    </tr>\n",
       "  </tbody>\n",
       "</table>\n",
       "</div>"
      ],
      "text/plain": [
       "       City  Temperature  Humidity      City  Temperature  Humidity\n",
       "0    Mumbai           32        80  New York           21        68\n",
       "1     Delhi           45        60   Chicago           14        65\n",
       "2  Banglore           57        80    Orando           35        75"
      ]
     },
     "execution_count": 186,
     "metadata": {},
     "output_type": "execute_result"
    }
   ],
   "source": [
    "df=pd.concat([India_weather,USA_weather],axis=1)\n",
    "df"
   ]
  },
  {
   "cell_type": "markdown",
   "id": "03e50d5d",
   "metadata": {},
   "source": [
    "# Merging Dataframes"
   ]
  },
  {
   "cell_type": "code",
   "execution_count": 189,
   "id": "1ba87a5e",
   "metadata": {},
   "outputs": [
    {
     "data": {
      "text/html": [
       "<div>\n",
       "<style scoped>\n",
       "    .dataframe tbody tr th:only-of-type {\n",
       "        vertical-align: middle;\n",
       "    }\n",
       "\n",
       "    .dataframe tbody tr th {\n",
       "        vertical-align: top;\n",
       "    }\n",
       "\n",
       "    .dataframe thead th {\n",
       "        text-align: right;\n",
       "    }\n",
       "</style>\n",
       "<table border=\"1\" class=\"dataframe\">\n",
       "  <thead>\n",
       "    <tr style=\"text-align: right;\">\n",
       "      <th></th>\n",
       "      <th>City</th>\n",
       "      <th>Temperature</th>\n",
       "    </tr>\n",
       "  </thead>\n",
       "  <tbody>\n",
       "    <tr>\n",
       "      <th>0</th>\n",
       "      <td>Mumbai</td>\n",
       "      <td>32</td>\n",
       "    </tr>\n",
       "    <tr>\n",
       "      <th>1</th>\n",
       "      <td>Delhi</td>\n",
       "      <td>45</td>\n",
       "    </tr>\n",
       "    <tr>\n",
       "      <th>2</th>\n",
       "      <td>Banglore</td>\n",
       "      <td>30</td>\n",
       "    </tr>\n",
       "    <tr>\n",
       "      <th>3</th>\n",
       "      <td>Hyderabad</td>\n",
       "      <td>40</td>\n",
       "    </tr>\n",
       "  </tbody>\n",
       "</table>\n",
       "</div>"
      ],
      "text/plain": [
       "        City  Temperature\n",
       "0     Mumbai           32\n",
       "1      Delhi           45\n",
       "2   Banglore           30\n",
       "3  Hyderabad           40"
      ]
     },
     "execution_count": 189,
     "metadata": {},
     "output_type": "execute_result"
    }
   ],
   "source": [
    "temparature_df=pd.DataFrame({\n",
    "    \"City\":[\"Mumbai\",\"Delhi\", \"Banglore\", \"Hyderabad\"],\n",
    "    \"Temperature\":[32,45,30,40]\n",
    "})\n",
    "temparature_df"
   ]
  },
  {
   "cell_type": "code",
   "execution_count": 192,
   "id": "9766d62d",
   "metadata": {},
   "outputs": [
    {
     "data": {
      "text/html": [
       "<div>\n",
       "<style scoped>\n",
       "    .dataframe tbody tr th:only-of-type {\n",
       "        vertical-align: middle;\n",
       "    }\n",
       "\n",
       "    .dataframe tbody tr th {\n",
       "        vertical-align: top;\n",
       "    }\n",
       "\n",
       "    .dataframe thead th {\n",
       "        text-align: right;\n",
       "    }\n",
       "</style>\n",
       "<table border=\"1\" class=\"dataframe\">\n",
       "  <thead>\n",
       "    <tr style=\"text-align: right;\">\n",
       "      <th></th>\n",
       "      <th>City</th>\n",
       "      <th>Humidity</th>\n",
       "    </tr>\n",
       "  </thead>\n",
       "  <tbody>\n",
       "    <tr>\n",
       "      <th>0</th>\n",
       "      <td>Mumbai</td>\n",
       "      <td>68</td>\n",
       "    </tr>\n",
       "    <tr>\n",
       "      <th>1</th>\n",
       "      <td>Delhi</td>\n",
       "      <td>65</td>\n",
       "    </tr>\n",
       "    <tr>\n",
       "      <th>2</th>\n",
       "      <td>Banglore</td>\n",
       "      <td>75</td>\n",
       "    </tr>\n",
       "  </tbody>\n",
       "</table>\n",
       "</div>"
      ],
      "text/plain": [
       "       City  Humidity\n",
       "0    Mumbai        68\n",
       "1     Delhi        65\n",
       "2  Banglore        75"
      ]
     },
     "execution_count": 192,
     "metadata": {},
     "output_type": "execute_result"
    }
   ],
   "source": [
    "humidity_df=pd.DataFrame({\n",
    "    \"City\":[\"Mumbai\",\"Delhi\", \"Banglore\"],\n",
    "    \"Humidity\":[68,65,75]\n",
    "})\n",
    "humidity_df"
   ]
  },
  {
   "cell_type": "code",
   "execution_count": 195,
   "id": "2a948097",
   "metadata": {},
   "outputs": [
    {
     "data": {
      "text/html": [
       "<div>\n",
       "<style scoped>\n",
       "    .dataframe tbody tr th:only-of-type {\n",
       "        vertical-align: middle;\n",
       "    }\n",
       "\n",
       "    .dataframe tbody tr th {\n",
       "        vertical-align: top;\n",
       "    }\n",
       "\n",
       "    .dataframe thead th {\n",
       "        text-align: right;\n",
       "    }\n",
       "</style>\n",
       "<table border=\"1\" class=\"dataframe\">\n",
       "  <thead>\n",
       "    <tr style=\"text-align: right;\">\n",
       "      <th></th>\n",
       "      <th>City</th>\n",
       "      <th>Temperature</th>\n",
       "      <th>Humidity</th>\n",
       "    </tr>\n",
       "  </thead>\n",
       "  <tbody>\n",
       "    <tr>\n",
       "      <th>0</th>\n",
       "      <td>Mumbai</td>\n",
       "      <td>32</td>\n",
       "      <td>68</td>\n",
       "    </tr>\n",
       "    <tr>\n",
       "      <th>1</th>\n",
       "      <td>Delhi</td>\n",
       "      <td>45</td>\n",
       "      <td>65</td>\n",
       "    </tr>\n",
       "    <tr>\n",
       "      <th>2</th>\n",
       "      <td>Banglore</td>\n",
       "      <td>30</td>\n",
       "      <td>75</td>\n",
       "    </tr>\n",
       "  </tbody>\n",
       "</table>\n",
       "</div>"
      ],
      "text/plain": [
       "       City  Temperature  Humidity\n",
       "0    Mumbai           32        68\n",
       "1     Delhi           45        65\n",
       "2  Banglore           30        75"
      ]
     },
     "execution_count": 195,
     "metadata": {},
     "output_type": "execute_result"
    }
   ],
   "source": [
    "# merge two dataframes without explicitly mentioning index -using inner Join\n",
    "df=pd.merge(temparature_df,humidity_df, on='City')\n",
    "df"
   ]
  },
  {
   "cell_type": "code",
   "execution_count": 197,
   "id": "c6d4e1d1",
   "metadata": {},
   "outputs": [
    {
     "data": {
      "text/html": [
       "<div>\n",
       "<style scoped>\n",
       "    .dataframe tbody tr th:only-of-type {\n",
       "        vertical-align: middle;\n",
       "    }\n",
       "\n",
       "    .dataframe tbody tr th {\n",
       "        vertical-align: top;\n",
       "    }\n",
       "\n",
       "    .dataframe thead th {\n",
       "        text-align: right;\n",
       "    }\n",
       "</style>\n",
       "<table border=\"1\" class=\"dataframe\">\n",
       "  <thead>\n",
       "    <tr style=\"text-align: right;\">\n",
       "      <th></th>\n",
       "      <th>City</th>\n",
       "      <th>Temperature</th>\n",
       "      <th>Humidity</th>\n",
       "    </tr>\n",
       "  </thead>\n",
       "  <tbody>\n",
       "    <tr>\n",
       "      <th>0</th>\n",
       "      <td>Mumbai</td>\n",
       "      <td>32</td>\n",
       "      <td>68.0</td>\n",
       "    </tr>\n",
       "    <tr>\n",
       "      <th>1</th>\n",
       "      <td>Delhi</td>\n",
       "      <td>45</td>\n",
       "      <td>65.0</td>\n",
       "    </tr>\n",
       "    <tr>\n",
       "      <th>2</th>\n",
       "      <td>Banglore</td>\n",
       "      <td>30</td>\n",
       "      <td>75.0</td>\n",
       "    </tr>\n",
       "    <tr>\n",
       "      <th>3</th>\n",
       "      <td>Hyderabad</td>\n",
       "      <td>40</td>\n",
       "      <td>NaN</td>\n",
       "    </tr>\n",
       "  </tbody>\n",
       "</table>\n",
       "</div>"
      ],
      "text/plain": [
       "        City  Temperature  Humidity\n",
       "0     Mumbai           32      68.0\n",
       "1      Delhi           45      65.0\n",
       "2   Banglore           30      75.0\n",
       "3  Hyderabad           40       NaN"
      ]
     },
     "execution_count": 197,
     "metadata": {},
     "output_type": "execute_result"
    }
   ],
   "source": [
    "df=pd.merge(temparature_df,humidity_df, on='City', how='outer')\n",
    "df"
   ]
  },
  {
   "cell_type": "markdown",
   "id": "6adaab5a",
   "metadata": {},
   "source": [
    "# Numerical Indexing(.loc vs iloc)"
   ]
  },
  {
   "cell_type": "code",
   "execution_count": 212,
   "id": "5f360c44",
   "metadata": {},
   "outputs": [
    {
     "data": {
      "text/html": [
       "<div>\n",
       "<style scoped>\n",
       "    .dataframe tbody tr th:only-of-type {\n",
       "        vertical-align: middle;\n",
       "    }\n",
       "\n",
       "    .dataframe tbody tr th {\n",
       "        vertical-align: top;\n",
       "    }\n",
       "\n",
       "    .dataframe thead th {\n",
       "        text-align: right;\n",
       "    }\n",
       "</style>\n",
       "<table border=\"1\" class=\"dataframe\">\n",
       "  <thead>\n",
       "    <tr style=\"text-align: right;\">\n",
       "      <th></th>\n",
       "      <th>0</th>\n",
       "    </tr>\n",
       "  </thead>\n",
       "  <tbody>\n",
       "    <tr>\n",
       "      <th>49</th>\n",
       "      <td>1</td>\n",
       "    </tr>\n",
       "    <tr>\n",
       "      <th>48</th>\n",
       "      <td>2</td>\n",
       "    </tr>\n",
       "    <tr>\n",
       "      <th>47</th>\n",
       "      <td>3</td>\n",
       "    </tr>\n",
       "    <tr>\n",
       "      <th>46</th>\n",
       "      <td>4</td>\n",
       "    </tr>\n",
       "    <tr>\n",
       "      <th>45</th>\n",
       "      <td>5</td>\n",
       "    </tr>\n",
       "    <tr>\n",
       "      <th>1</th>\n",
       "      <td>6</td>\n",
       "    </tr>\n",
       "    <tr>\n",
       "      <th>2</th>\n",
       "      <td>7</td>\n",
       "    </tr>\n",
       "    <tr>\n",
       "      <th>3</th>\n",
       "      <td>8</td>\n",
       "    </tr>\n",
       "    <tr>\n",
       "      <th>4</th>\n",
       "      <td>9</td>\n",
       "    </tr>\n",
       "    <tr>\n",
       "      <th>5</th>\n",
       "      <td>19</td>\n",
       "    </tr>\n",
       "  </tbody>\n",
       "</table>\n",
       "</div>"
      ],
      "text/plain": [
       "     0\n",
       "49   1\n",
       "48   2\n",
       "47   3\n",
       "46   4\n",
       "45   5\n",
       "1    6\n",
       "2    7\n",
       "3    8\n",
       "4    9\n",
       "5   19"
      ]
     },
     "execution_count": 212,
     "metadata": {},
     "output_type": "execute_result"
    }
   ],
   "source": [
    "df=pd.DataFrame([1,2,3,4,5,6,7,8,9,19],index=[49,48,47,46,45,1,2,3,4,5])\n",
    "df"
   ]
  },
  {
   "cell_type": "code",
   "execution_count": 216,
   "id": "fc7b9cc7",
   "metadata": {},
   "outputs": [
    {
     "data": {
      "text/plain": [
       "0    4\n",
       "Name: 46, dtype: int64"
      ]
     },
     "execution_count": 216,
     "metadata": {},
     "output_type": "execute_result"
    }
   ],
   "source": [
    "df.loc[46]"
   ]
  },
  {
   "cell_type": "code",
   "execution_count": 219,
   "id": "d7aae0f7",
   "metadata": {},
   "outputs": [
    {
     "data": {
      "text/plain": [
       "0    1\n",
       "Name: 49, dtype: int64"
      ]
     },
     "execution_count": 219,
     "metadata": {},
     "output_type": "execute_result"
    }
   ],
   "source": [
    "df.loc[49]"
   ]
  },
  {
   "cell_type": "code",
   "execution_count": 222,
   "id": "5ccd9659",
   "metadata": {},
   "outputs": [
    {
     "ename": "NameError",
     "evalue": "name 's' is not defined",
     "output_type": "error",
     "traceback": [
      "\u001b[1;31m---------------------------------------------------------------------------\u001b[0m",
      "\u001b[1;31mNameError\u001b[0m                                 Traceback (most recent call last)",
      "\u001b[1;32m~\\AppData\\Local\\Temp\\ipykernel_5912\\3254853598.py\u001b[0m in \u001b[0;36m<module>\u001b[1;34m\u001b[0m\n\u001b[1;32m----> 1\u001b[1;33m \u001b[0ms\u001b[0m\u001b[1;33m.\u001b[0m\u001b[0miloc\u001b[0m\u001b[1;33m[\u001b[0m\u001b[1;33m:\u001b[0m\u001b[1;36m3\u001b[0m\u001b[1;33m]\u001b[0m\u001b[1;33m\u001b[0m\u001b[1;33m\u001b[0m\u001b[0m\n\u001b[0m",
      "\u001b[1;31mNameError\u001b[0m: name 's' is not defined"
     ]
    }
   ],
   "source": [
    "s.iloc[:3]"
   ]
  },
  {
   "cell_type": "code",
   "execution_count": 225,
   "id": "094eec46",
   "metadata": {},
   "outputs": [
    {
     "data": {
      "text/plain": [
       "0    5\n",
       "Name: 45, dtype: int64"
      ]
     },
     "execution_count": 225,
     "metadata": {},
     "output_type": "execute_result"
    }
   ],
   "source": [
    "df.loc[45]"
   ]
  },
  {
   "cell_type": "code",
   "execution_count": 226,
   "id": "ba18adc0",
   "metadata": {},
   "outputs": [
    {
     "data": {
      "text/plain": [
       "0    4\n",
       "Name: 46, dtype: int64"
      ]
     },
     "execution_count": 226,
     "metadata": {},
     "output_type": "execute_result"
    }
   ],
   "source": [
    "df.iloc[3]"
   ]
  },
  {
   "cell_type": "markdown",
   "id": "478e69be",
   "metadata": {},
   "source": [
    "# Matplotlib"
   ]
  },
  {
   "cell_type": "code",
   "execution_count": 1,
   "id": "8c913d4e",
   "metadata": {},
   "outputs": [],
   "source": [
    "import matplotlib.pyplot as plt"
   ]
  },
  {
   "cell_type": "code",
   "execution_count": 8,
   "id": "4f3e16b9",
   "metadata": {},
   "outputs": [
    {
     "data": {
      "image/png": "[encoded data removed]",
      "text/plain": [
       "<Figure size 640x480 with 1 Axes>"
      ]
     },
     "metadata": {},
     "output_type": "display_data"
    }
   ],
   "source": [
    "plt.plot([2,4,6,4])\n",
    "plt.ylabel(\"Numbers\")\n",
    "plt.ylabel(\"indices\")\n",
    "plt.title(\"myplot\")\n",
    "plt.show()"
   ]
  },
  {
   "cell_type": "code",
   "execution_count": 7,
   "id": "3f6ae7cc",
   "metadata": {},
   "outputs": [
    {
     "data": {
      "image/png": "[encoded data removed]",
      "text/plain": [
       "<Figure size 640x480 with 1 Axes>"
      ]
     },
     "metadata": {},
     "output_type": "display_data"
    }
   ],
   "source": [
    "import matplotlib.pyplot as plt\n",
    "\n",
    "plt.plot([23,4,5,6,8])\n",
    "plt.xlabel(\"Time\")\n",
    "plt.ylabel(\"Year\")\n",
    "plt.title(\"Cars\")\n",
    "plt.show()"
   ]
  },
  {
   "cell_type": "code",
   "execution_count": 14,
   "id": "7d57bfaf",
   "metadata": {},
   "outputs": [
    {
     "data": {
      "image/png": "[encoded data removed]",
      "text/plain": [
       "<Figure size 640x480 with 1 Axes>"
      ]
     },
     "metadata": {},
     "output_type": "display_data"
    }
   ],
   "source": [
    "plt.plot([1,2,3,4],[1,4,9,16], 'ro')\n",
    "plt.ylabel(\"squares\")\n",
    "plt.xlabel(\"number\")\n",
    "plt.title(\"myplot2\")\n",
    "plt.grid()#grid on\n",
    "plt.show()"
   ]
  },
  {
   "cell_type": "code",
   "execution_count": 21,
   "id": "c0c97376",
   "metadata": {},
   "outputs": [
    {
     "data": {
      "image/png": "[encoded data removed]",
      "text/plain": [
       "<Figure size 640x480 with 1 Axes>"
      ]
     },
     "metadata": {},
     "output_type": "display_data"
    }
   ],
   "source": [
    "import numpy as np\n",
    "t=np.arange(0.,5.,0.2)\n",
    "#blue dashes,red squares and green triangles\n",
    "plt.plot(t,t**2,'b--', label='2')# 'rs', 'g^'\n",
    "plt.plot(t,t**2.2,'rs', label='2.2')\n",
    "plt.plot(t,t**2.5,'g', label='2.5')\n",
    "plt.grid()\n",
    "plt.legend() #add legend based on line labels\n",
    "plt.show()"
   ]
  },
  {
   "cell_type": "code",
   "execution_count": 22,
   "id": "cc383522",
   "metadata": {},
   "outputs": [
    {
     "data": {
      "image/png": "[encoded data removed]",
      "text/plain": [
       "<Figure size 640x480 with 1 Axes>"
      ]
     },
     "metadata": {},
     "output_type": "display_data"
    }
   ],
   "source": [
    "x=[1,2,3,4]\n",
    "y=[1,4,9,16]\n",
    "plt.plot(x,y,linewidth=3)\n",
    "plt.show()"
   ]
  },
  {
   "cell_type": "code",
   "execution_count": 24,
   "id": "9870b3b0",
   "metadata": {},
   "outputs": [
    {
     "data": {
      "image/png": "[encoded data removed]",
      "text/plain": [
       "<Figure size 640x480 with 1 Axes>"
      ]
     },
     "metadata": {},
     "output_type": "display_data"
    }
   ],
   "source": [
    "x1=[1,2,3,4]\n",
    "y1=[1,4,9,16]\n",
    "x2=[1,2,3,4]\n",
    "y2=[2,4,6,8]\n",
    "lines=plt.plot(x1,y1,x2,y2)\n",
    "#use keywords arg\n",
    "plt.setp(lines[0],color='r', linewidth=2.0)\n",
    "\n",
    "# or MATLAB style strings value pairs\n",
    "plt.setp(lines[1],'color','g', 'linewidth', 2.0)\n",
    "plt.grid()"
   ]
  },
  {
   "cell_type": "code",
   "execution_count": 29,
   "id": "6df391e5",
   "metadata": {},
   "outputs": [
    {
     "data": {
      "image/png": "[encoded data removed]",
      "text/plain": [
       "<Figure size 640x480 with 2 Axes>"
      ]
     },
     "metadata": {},
     "output_type": "display_data"
    }
   ],
   "source": [
    "def f(t):\n",
    "    return np.exp(-t)*np.cos(2*np.pi*t)\n",
    "t1 = np.arange(0.0,5.0,0.1)\n",
    "t2 = np.arange(0.0,5.0,0.02)\n",
    "plt.figure(1)\n",
    "#The subplot () command specifies numrows,numcols,\n",
    "# fignum where fignum ranges from 1 to numrows*numcols\n",
    "plt.subplot(211)\n",
    "plt.grid()\n",
    "plt.plot(t1,f(t1),'b-')\n",
    "\n",
    "plt.subplot(212)\n",
    "plt.plot(t2, np.cos(2*np.pi*t2),'r--')\n",
    "plt.show()"
   ]
  },
  {
   "cell_type": "code",
   "execution_count": 30,
   "id": "af583c19",
   "metadata": {},
   "outputs": [
    {
     "data": {
      "image/png": "[encoded data removed]",
      "text/plain": [
       "<Figure size 640x480 with 1 Axes>"
      ]
     },
     "metadata": {},
     "output_type": "display_data"
    },
    {
     "data": {
      "image/png": "[encoded data removed]",
      "text/plain": [
       "<Figure size 640x480 with 2 Axes>"
      ]
     },
     "metadata": {},
     "output_type": "display_data"
    }
   ],
   "source": [
    "plt.figure(1) #first figure\n",
    "plt.subplot(211) # the  first subplot in the first figure\n",
    "plt.plot([1,2,3])\n",
    "plt.subplot(212) # the second subplot in the first figure\n",
    "plt.plot([4,5,6])\n",
    "\n",
    "plt.figure(2) # a second figure\n",
    "plt.plot([4,5,6]) # creates subplot (111) by default\n",
    "\n",
    "plt.figure(1) # figure 1 current;subplot(212) still current\n",
    "plt.subplot(211) #make subplot(211) in figure 1 current\n",
    "plt.title('Easy as 1,2,3') # subplot 211 figure\n",
    "plt.show()"
   ]
  },
  {
   "cell_type": "code",
   "execution_count": 3,
   "id": "d6c508b0",
   "metadata": {},
   "outputs": [
    {
     "name": "stdout",
     "output_type": "stream",
     "text": [
      "the value of a is 10 and the value of b is 20\n"
     ]
    }
   ],
   "source": [
    "a=10; b=20\n",
    "print('the value of a is {} and the value of b is {}'.format(a,b))"
   ]
  },
  {
   "cell_type": "code",
   "execution_count": 6,
   "id": "7b8580c2",
   "metadata": {},
   "outputs": [
    {
     "name": "stdout",
     "output_type": "stream",
     "text": [
      "Hello satish,Goodevening\n"
     ]
    }
   ],
   "source": [
    "print(\"Hello {name},{Greetings}\".format(name=\"satish\", Greetings=\"Goodevening\"))"
   ]
  }
 ],
 "metadata": {
  "kernelspec": {
   "display_name": "Python 3 (ipykernel)",
   "language": "python",
   "name": "python3"
  },
  "language_info": {
   "codemirror_mode": {
    "name": "ipython",
    "version": 3
   },
   "file_extension": ".py",
   "mimetype": "text/x-python",
   "name": "python",
   "nbconvert_exporter": "python",
   "pygments_lexer": "ipython3",
   "version": "3.9.13"
  }
 },
 "nbformat": 4,
 "nbformat_minor": 5
}
